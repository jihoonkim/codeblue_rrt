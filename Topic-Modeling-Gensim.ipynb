{
 "cells": [
  {
   "cell_type": "markdown",
   "id": "ac38ea6e",
   "metadata": {},
   "source": [
    "## Topic Modeling with Gensim (Python)\n",
    "#### https://www.machinelearningplus.com/nlp/topic-modeling-gensim-python/#:~:text=Topic%20Modeling%20is%20a%20technique,in%20the%20Python's%20Gensim%20package "
   ]
  },
  {
   "cell_type": "code",
   "execution_count": 3,
   "id": "f438dbb8",
   "metadata": {},
   "outputs": [
    {
     "name": "stderr",
     "output_type": "stream",
     "text": [
      "/Users/j5kim/miniconda3/envs/nlp/lib/python3.9/site-packages/past/builtins/misc.py:45: DeprecationWarning: the imp module is deprecated in favour of importlib; see the module's documentation for alternative uses\n",
      "  from imp import reload\n"
     ]
    }
   ],
   "source": [
    "import re\n",
    "import numpy as np\n",
    "import pandas as pd\n",
    "from pprint import pprint\n",
    "\n",
    "# gensim\n",
    "import gensim\n",
    "import gensim.corpora as corpora\n",
    "from gensim.utils import simple_preprocess\n",
    "from gensim.models import CoherenceModel\n",
    "\n",
    "# spacy for lemmatization\n",
    "import spacy\n",
    "\n",
    "# plotting tools\n",
    "import pyLDAvis\n",
    "import pyLDAvis.gensim_models # pyLDAvis.gensim raises an error\n",
    "import matplotlib.pyplot as plt\n",
    "%matplotlib inline\n",
    "\n",
    "# enable logging for gensim - optional\n",
    "import logging\n",
    "logging.basicConfig(format='$(asctime)s : %(levelname)s : %(messages)s',\n",
    "                   level=logging.ERROR)\n",
    "\n",
    "import warnings\n",
    "warnings.filterwarnings(\"ignore\", category=DeprecationWarning)"
   ]
  },
  {
   "cell_type": "markdown",
   "id": "8fa88d0b",
   "metadata": {},
   "source": [
    "### Load dataset"
   ]
  },
  {
   "cell_type": "code",
   "execution_count": 2,
   "id": "92bca57e",
   "metadata": {},
   "outputs": [],
   "source": [
    "import datetime as dt\n",
    "\n",
    "# load a file\n",
    "infile = 'data/CB_RRT0211112.xlsx'\n",
    "df = pd.read_excel(infile, sheet_name='Sheet1')\n",
    "\n",
    "# preprocess event datetime\n",
    "event_datetime_str = list(df['EventDate'].astype(str) + ' ' + df['IncidentTime'].astype(str))\n",
    "event_datetime_str = [x.replace('1899-12-30 ', '') for x in event_datetime_str]\n",
    "df['Event_DateTime'] = pd.to_datetime(event_datetime_str, format = '%Y-%m-%d %H:%M:%S')\n",
    "df['Event_Year'] = df['Event_DateTime'].dt.year\n",
    "\n",
    "# remove rows with at least one missing in the columns: MRN, Age\n",
    "df = df.dropna(subset=['MRN', 'Age'])\n",
    "\n",
    "# split into train/test\n",
    "df_train = df[df.Event_Year != 2021]\n",
    "df_test = df[df.Event_Year == 2021]\n",
    "\n",
    "# create corpora of documents\n",
    "corpus_train = df_train['BriefFactualDescription']\n",
    "corpus_test = df_test['BriefFactualDescription']\n",
    "\n",
    "data = corpus_train"
   ]
  },
  {
   "cell_type": "code",
   "execution_count": 4,
   "id": "80242fb5",
   "metadata": {},
   "outputs": [],
   "source": [
    "# NLTK stop words\n",
    "from nltk.corpus import stopwords\n",
    "stop_words = stopwords.words('english')\n",
    "stop_words.extend(['from', 'subject', 're', 'edu', 'use'])"
   ]
  },
  {
   "cell_type": "markdown",
   "id": "a09ae2b0",
   "metadata": {},
   "source": [
    "### Tokenize words and clean up text"
   ]
  },
  {
   "cell_type": "code",
   "execution_count": 5,
   "id": "dc4bbbf5",
   "metadata": {},
   "outputs": [
    {
     "data": {
      "text/plain": [
       "[['code',\n",
       "  'sepsis',\n",
       "  'called',\n",
       "  'for',\n",
       "  'low',\n",
       "  'bp',\n",
       "  'increased',\n",
       "  'rr',\n",
       "  'high',\n",
       "  'hr',\n",
       "  'turned',\n",
       "  'into',\n",
       "  'rrt',\n",
       "  'when',\n",
       "  'map',\n",
       "  'sustaining',\n",
       "  'in',\n",
       "  'high',\n",
       "  'yo',\n",
       "  'with',\n",
       "  'history',\n",
       "  'of',\n",
       "  'spinal',\n",
       "  'cancer',\n",
       "  'admitted',\n",
       "  'with',\n",
       "  'spinal',\n",
       "  'cord',\n",
       "  'compression',\n",
       "  'laminectomy',\n",
       "  'decompression',\n",
       "  'of',\n",
       "  'cauda',\n",
       "  'equina',\n",
       "  'tumor',\n",
       "  'debulking',\n",
       "  'and',\n",
       "  'exploration',\n",
       "  'of',\n",
       "  'nerve',\n",
       "  'roots',\n",
       "  'repeat',\n",
       "  'staging',\n",
       "  'done',\n",
       "  'has',\n",
       "  'experienced',\n",
       "  'paroxysmal',\n",
       "  'afib',\n",
       "  'with',\n",
       "  'frequent',\n",
       "  'episodes',\n",
       "  'of',\n",
       "  'afib',\n",
       "  'with',\n",
       "  'rvr',\n",
       "  'converted',\n",
       "  'with',\n",
       "  'dig',\n",
       "  'load',\n",
       "  'cardizem',\n",
       "  'gtt',\n",
       "  're',\n",
       "  'entered',\n",
       "  'rapid',\n",
       "  'fib',\n",
       "  'not',\n",
       "  'responsive',\n",
       "  'to',\n",
       "  'cardizem',\n",
       "  'pushes',\n",
       "  'amio',\n",
       "  'boluses',\n",
       "  'gtt',\n",
       "  'or',\n",
       "  'cardizem',\n",
       "  'gtt',\n",
       "  'hr',\n",
       "  'afib',\n",
       "  'drop',\n",
       "  'in',\n",
       "  'aline',\n",
       "  'map',\n",
       "  'from',\n",
       "  'high',\n",
       "  'to',\n",
       "  'remained',\n",
       "  'alert',\n",
       "  'and',\n",
       "  'oriented',\n",
       "  'no',\n",
       "  'complaints',\n",
       "  'of',\n",
       "  'dizziness',\n",
       "  'blood',\n",
       "  'cultures',\n",
       "  'ua',\n",
       "  'obtained',\n",
       "  'abx',\n",
       "  'started',\n",
       "  'cardiology',\n",
       "  'consulted',\n",
       "  'ns',\n",
       "  'fluid',\n",
       "  'bolus',\n",
       "  'ordered',\n",
       "  'but',\n",
       "  'by',\n",
       "  'dr',\n",
       "  'heacock',\n",
       "  'received',\n",
       "  'approx',\n",
       "  'cc',\n",
       "  'cbc',\n",
       "  'type',\n",
       "  'screen',\n",
       "  'sent',\n",
       "  'amio',\n",
       "  'bolus',\n",
       "  'and',\n",
       "  'gtt',\n",
       "  'ordered',\n",
       "  'level',\n",
       "  'of',\n",
       "  'care',\n",
       "  'updated',\n",
       "  'to',\n",
       "  'icu',\n",
       "  'transferred',\n",
       "  'to',\n",
       "  'gh',\n",
       "  'icu']]"
      ]
     },
     "execution_count": 5,
     "metadata": {},
     "output_type": "execute_result"
    }
   ],
   "source": [
    "def sent_to_words(sentences):\n",
    "    for sentence in sentences:\n",
    "        yield(gensim.utils.simple_preprocess(str(sentence), deacc=True))\n",
    "        # deacc=True: removes the punctuation\n",
    "\n",
    "data_words = list(sent_to_words(data))\n",
    "\n",
    "data_words[:1] # see an example of words split from a document"
   ]
  },
  {
   "cell_type": "markdown",
   "id": "c31c5083",
   "metadata": {},
   "source": [
    "### Create bigram and trigram models"
   ]
  },
  {
   "cell_type": "code",
   "execution_count": 6,
   "id": "40223eb9",
   "metadata": {},
   "outputs": [],
   "source": [
    "# build the bigram and trigram models\n",
    "bigram = gensim.models.Phrases(data_words, min_count=5, threshold=100)\n",
    "trigram = gensim.models.Phrases(bigram[data_words], threshold=100)\n",
    "\n",
    "# faster way to get a sentence clubbed as a trigram/bigram\n",
    "bigram_mod = gensim.models.phrases.Phraser(bigram)\n",
    "trigram_mod = gensim.models.phrases.Phraser(trigram)"
   ]
  },
  {
   "cell_type": "markdown",
   "id": "81e65f86",
   "metadata": {},
   "source": [
    "### Remove stopwords, make bigrams, and lemmatize"
   ]
  },
  {
   "cell_type": "code",
   "execution_count": 7,
   "id": "e6706d9e",
   "metadata": {},
   "outputs": [],
   "source": [
    "def remove_stopwords(texts):\n",
    "    return [ [w for w in simple_preprocess(str(doc)) if w not in stop_words] for doc in texts]\n",
    "\n",
    "def make_bigrams(texts):\n",
    "    return [bigram_mod[doc] for doc in texts]\n",
    "\n",
    "def make_trigrams(texts):\n",
    "    return [trigram_mod[bigram_mod[doc]] for doc in texts]\n",
    "\n",
    "def lemmatization(texts, allowed_postags=['NOUN', 'ADJ', 'VERB', 'ADV']):\n",
    "    texts_out = []\n",
    "    for sent in texts:\n",
    "        doc = nlp(\" \".join(sent))\n",
    "        texts_out.append([token.lemma_ for token in doc if token.pos_ in allowed_postags])\n",
    "    return texts_out"
   ]
  },
  {
   "cell_type": "code",
   "execution_count": 8,
   "id": "a4633999",
   "metadata": {},
   "outputs": [],
   "source": [
    "## call functions in order\n",
    "\n",
    "# remove stop words\n",
    "data_words_nostops = remove_stopwords(data_words) \n",
    "\n",
    "# from bigrams\n",
    "data_words_bigrams = make_bigrams(data_words_nostops) \n",
    "\n",
    "\n",
    "# initialize spacy 'en_core_web_sm' model, keeping only tagger component\n",
    "#     ! python3 -m spacy download en\n",
    "nlp = spacy.load('en_core_web_sm', disable=['parser', 'ner']) \n",
    "\n",
    "# do lemmatization keeping only noun, adj, vb, and adv\n",
    "data_lemmatized = lemmatization(data_words_bigrams, \n",
    "                                allowed_postags=['NOUN', 'ADJ', 'VERB', 'ADV'])"
   ]
  },
  {
   "cell_type": "markdown",
   "id": "1c319e80",
   "metadata": {},
   "source": [
    "### Create a Dictionary and Corpus to be used in Topic Modeling"
   ]
  },
  {
   "cell_type": "code",
   "execution_count": 9,
   "id": "ec97eb2e",
   "metadata": {},
   "outputs": [],
   "source": [
    "# create Dictionary\n",
    "id2word = corpora.Dictionary(data_lemmatized)\n",
    "\n",
    "# Create Corpus\n",
    "texts = data_lemmatized\n",
    "\n",
    "# Term Document Frequency\n",
    "corpus = [id2word.doc2bow(text) for text in texts]"
   ]
  },
  {
   "cell_type": "code",
   "execution_count": 48,
   "id": "e8dbf809",
   "metadata": {},
   "outputs": [
    {
     "data": {
      "text/plain": [
       "(11248, 11248)"
      ]
     },
     "execution_count": 48,
     "metadata": {},
     "output_type": "execute_result"
    }
   ],
   "source": [
    "df_train.shape[0], len(corpus)"
   ]
  },
  {
   "cell_type": "markdown",
   "id": "2fe617d0",
   "metadata": {},
   "source": [
    "### Build the Topic Model"
   ]
  },
  {
   "cell_type": "code",
   "execution_count": 13,
   "id": "b9e5eb5a",
   "metadata": {},
   "outputs": [],
   "source": [
    "# build LDA model\n",
    "lda_model = gensim.models.ldamodel.LdaModel(corpus = corpus,\n",
    "                                           id2word=id2word,\n",
    "                                           num_topics=20,\n",
    "                                           random_state=100,\n",
    "                                           update_every=1,\n",
    "                                           chunksize=100,\n",
    "                                           passes=10,\n",
    "                                           alpha='auto',\n",
    "                                           per_word_topics=True)"
   ]
  },
  {
   "cell_type": "markdown",
   "id": "7a4a0fed",
   "metadata": {},
   "source": [
    "### View the topics in LDA model"
   ]
  },
  {
   "cell_type": "code",
   "execution_count": 14,
   "id": "86b448ef",
   "metadata": {},
   "outputs": [],
   "source": [
    "# print the keyword in the 10 topics\n",
    "lda_model.print_topics()\n",
    "doc_lda = lda_model[corpus]"
   ]
  },
  {
   "cell_type": "code",
   "execution_count": 15,
   "id": "227e90bc",
   "metadata": {},
   "outputs": [
    {
     "name": "stdout",
     "output_type": "stream",
     "text": [
      "\n",
      "Perplexity:  -10.777850510272202\n",
      "\n",
      "Coherence score:  0.3919055077415103\n"
     ]
    }
   ],
   "source": [
    "### Compute the model perplexity and coherence score\n",
    "\n",
    "# model perplexity: the lower, the better\n",
    "print('\\nPerplexity: ', lda_model.log_perplexity(corpus)) \n",
    "\n",
    "# coherence socre\n",
    "coherence_model_lda = CoherenceModel(model=lda_model,\n",
    "                                    texts=data_lemmatized, dictionary=id2word,\n",
    "                                    coherence='c_v')\n",
    "coherence_lda = coherence_model_lda.get_coherence()\n",
    "print('\\nCoherence score: ', coherence_lda)"
   ]
  },
  {
   "cell_type": "code",
   "execution_count": 16,
   "id": "e4cf7292",
   "metadata": {},
   "outputs": [
    {
     "name": "stderr",
     "output_type": "stream",
     "text": [
      "/Users/j5kim/miniconda3/envs/nlp/lib/python3.9/site-packages/pyLDAvis/_prepare.py:246: FutureWarning: In a future version of pandas all arguments of DataFrame.drop except for the argument 'labels' will be keyword-only.\n",
      "  default_term_info = default_term_info.sort_values(\n",
      "/Users/j5kim/miniconda3/envs/nlp/lib/python3.9/site-packages/past/builtins/misc.py:45: DeprecationWarning: the imp module is deprecated in favour of importlib; see the module's documentation for alternative uses\n",
      "  from imp import reload\n",
      "/Users/j5kim/miniconda3/envs/nlp/lib/python3.9/site-packages/past/builtins/misc.py:45: DeprecationWarning: the imp module is deprecated in favour of importlib; see the module's documentation for alternative uses\n",
      "  from imp import reload\n",
      "/Users/j5kim/miniconda3/envs/nlp/lib/python3.9/site-packages/past/builtins/misc.py:45: DeprecationWarning: the imp module is deprecated in favour of importlib; see the module's documentation for alternative uses\n",
      "  from imp import reload\n",
      "/Users/j5kim/miniconda3/envs/nlp/lib/python3.9/site-packages/past/builtins/misc.py:45: DeprecationWarning: the imp module is deprecated in favour of importlib; see the module's documentation for alternative uses\n",
      "  from imp import reload\n",
      "/Users/j5kim/miniconda3/envs/nlp/lib/python3.9/site-packages/past/builtins/misc.py:45: DeprecationWarning: the imp module is deprecated in favour of importlib; see the module's documentation for alternative uses\n",
      "  from imp import reload\n",
      "/Users/j5kim/miniconda3/envs/nlp/lib/python3.9/site-packages/past/builtins/misc.py:45: DeprecationWarning: the imp module is deprecated in favour of importlib; see the module's documentation for alternative uses\n",
      "  from imp import reload\n",
      "/Users/j5kim/miniconda3/envs/nlp/lib/python3.9/site-packages/past/builtins/misc.py:45: DeprecationWarning: the imp module is deprecated in favour of importlib; see the module's documentation for alternative uses\n",
      "  from imp import reload\n",
      "/Users/j5kim/miniconda3/envs/nlp/lib/python3.9/site-packages/past/builtins/misc.py:45: DeprecationWarning: the imp module is deprecated in favour of importlib; see the module's documentation for alternative uses\n",
      "  from imp import reload\n",
      "/Users/j5kim/miniconda3/envs/nlp/lib/python3.9/site-packages/past/builtins/misc.py:45: DeprecationWarning: the imp module is deprecated in favour of importlib; see the module's documentation for alternative uses\n",
      "  from imp import reload\n"
     ]
    },
    {
     "data": {
      "text/html": [
       "\n",
       "<link rel=\"stylesheet\" type=\"text/css\" href=\"https://cdn.jsdelivr.net/gh/bmabey/pyLDAvis@3.3.1/pyLDAvis/js/ldavis.v1.0.0.css\">\n",
       "\n",
       "\n",
       "<div id=\"ldavis_el715251404072267877607787161570\"></div>\n",
       "<script type=\"text/javascript\">\n",
       "\n",
       "var ldavis_el715251404072267877607787161570_data = {\"mdsDat\": {\"x\": [0.31804567285064456, 0.261546165864324, 0.2566065234738095, 0.20158608825972532, 0.05485147873077725, 0.0720297477820274, 0.10885091751341962, 0.08395265719325515, 0.13683702471733666, -0.047147572808518924, -0.08101447913309025, -0.08539444882336031, -0.11206115052453779, -0.12324470653101072, -0.154240890599656, -0.16079851740565942, -0.16735769744472792, -0.17535972327637128, -0.17807020655673458, -0.20961688328165254], \"y\": [0.141936149921261, 0.14588827863556267, -0.05956509740545753, 0.19282735420254152, 0.07884413278317165, 0.04555966733218228, -0.18787620320107357, -0.2928050772749351, -0.2862036427533062, 0.020501403936911904, 0.0232779616002338, 0.02251401256205817, 0.021217629053920186, 0.004101026551116675, 0.02001531008372953, 0.021340462456252183, 0.02373791440119302, 0.021468541611332017, 0.02148750780474294, 0.021732667698563295], \"topics\": [1, 2, 3, 4, 5, 6, 7, 8, 9, 10, 11, 12, 13, 14, 15, 16, 17, 18, 19, 20], \"cluster\": [1, 1, 1, 1, 1, 1, 1, 1, 1, 1, 1, 1, 1, 1, 1, 1, 1, 1, 1, 1], \"Freq\": [34.8625239453507, 15.524707114920794, 12.266514355157664, 9.279405075202773, 4.45077296660148, 4.080856780177129, 3.6545869812502296, 2.888558685097127, 2.807381726573032, 2.3168215654857742, 1.639692752156403, 1.2822112834807868, 1.1408789168477216, 0.8767631384932197, 0.665603033966699, 0.5881187059636256, 0.5694836632297944, 0.5103653045889042, 0.41991755680999404, 0.17483644864615275]}, \"tinfo\": {\"Term\": [\"code\", \"icu\", \"call\", \"transfer\", \"primary\", \"pt\", \"response\", \"rapid\", \"increase\", \"care\", \"sepsis\", \"follow\", \"bedside\", \"status\", \"level\", \"give\", \"continue\", \"lactate\", \"arrival\", \"blood\", \"blue\", \"draw\", \"initiate\", \"stroke\", \"start\", \"notify\", \"pain\", \"team\", \"transport\", \"time\", \"pain\", \"order\", \"chest\", \"hr\", \"do\", \"admit\", \"remain\", \"imu\", \"hypotension\", \"year_old\", \"alert\", \"deny\", \"orient\", \"ekg\", \"sob\", \"low\", \"administer\", \"day\", \"male\", \"female\", \"today\", \"pressure\", \"breath\", \"currently\", \"abdominal\", \"dose\", \"repeat\", \"complain\", \"include\", \"ns\", \"sit\", \"give\", \"present\", \"lab\", \"show\", \"receive\", \"plan\", \"rrt\", \"send\", \"monitor\", \"start\", \"bolus\", \"draw\", \"place\", \"care\", \"bedside\", \"call\", \"note\", \"arrival\", \"pt\", \"primary\", \"blood\", \"bed\", \"leave\", \"right\", \"able\", \"episode\", \"side\", \"move\", \"baseline\", \"intervention\", \"post\", \"medication\", \"speak\", \"make\", \"vss\", \"stay\", \"await\", \"full\", \"command\", \"arm\", \"hold\", \"sign\", \"left\", \"previously\", \"want\", \"responsive\", \"review\", \"loss\", \"previous\", \"request\", \"read\", \"normal\", \"change\", \"last\", \"unable\", \"see\", \"due\", \"discuss\", \"time\", \"concern\", \"pt\", \"appear\", \"new\", \"note\", \"also\", \"assessment\", \"prior\", \"primary\", \"arrival\", \"team\", \"bedside\", \"call\", \"room\", \"nurse\", \"arrive\", \"get\", \"attempt\", \"respond\", \"floor\", \"state\", \"issue\", \"assist\", \"ask\", \"charge\", \"staff\", \"help\", \"lie\", \"say\", \"first\", \"breathe\", \"use\", \"take\", \"phone\", \"turn\", \"suspect\", \"good\", \"delay\", \"long\", \"bag\", \"voice\", \"tell\", \"wife\", \"need\", \"go\", \"back\", \"event\", \"page\", \"team\", \"minute\", \"call\", \"feel\", \"bed\", \"come\", \"place\", \"code\", \"become\", \"rrt\", \"current\", \"throughout_shift\", \"regarding_poc\", \"education_completed\", \"thank\", \"criteria_reviewed\", \"rr\", \"status\", \"response\", \"rapid\", \"arousable\", \"foot\", \"aox\", \"criteria_reviewe\", \"agitation\", \"knee\", \"mg\", \"sate\", \"am\", \"security\", \"tachypnic\", \"demand\", \"unremarkable\", \"diagnosis\", \"noted\", \"pco\", \"aggressive\", \"disorder\", \"follow\", \"notify\", \"initiate\", \"continue\", \"tachypneic\", \"level\", \"primary\", \"care\", \"bedside\", \"arrival\", \"md\", \"perform\", \"education_complete\", \"ox\", \"rrt\", \"increase\", \"acute\", \"distress\", \"respiratory\", \"desaturation\", \"intubation\", \"failure\", \"spo\", \"breathing\", \"treatment\", \"lasix\", \"diminish\", \"goal\", \"resp\", \"likely\", \"saturation\", \"comfort\", \"lung_sound\", \"sleep\", \"transition\", \"bvm\", \"aline\", \"therapy\", \"coarse\", \"aspiration\", \"ivp\", \"switch\", \"slight\", \"afib_rvr\", \"oxygen_requirement\", \"cxr\", \"sat\", \"require\", \"high\", \"family\", \"improvement\", \"icu\", \"transfer\", \"pccm\", \"abg\", \"sicu\", \"vbg\", \"available\", \"ccu\", \"requirement\", \"levophe\", \"fellow\", \"obtund\", \"tele\", \"shallow\", \"follows_command\", \"insulin\", \"completion\", \"respiration\", \"accept\", \"gas\", \"collect\", \"co\", \"immediate\", \"closer_monitoring\", \"extremely\", \"quick\", \"helpful\", \"revision\", \"fusion\", \"dementia\", \"management\", \"gtt\", \"consult\", \"pende\", \"tolerate\", \"upgrade\", \"lethargic\", \"assume\", \"map\", \"require\", \"mask\", \"sepsis\", \"lactate\", \"culture\", \"temp\", \"fever\", \"antibiotic\", \"tylenol\", \"febrile\", \"urine\", \"abx\", \"criterion\", \"rash\", \"temperature\", \"meeting\", \"order_set\", \"chill\", \"adequate_access\", \"cellulitis\", \"chemistry\", \"screening_tool\", \"relieved\", \"closure\", \"blanket\", \"spike\", \"gi_bleed\", \"ice\", \"reassessment\", \"colostomy\", \"tachycardic\", \"ptld\", \"meet\", \"infection\", \"fluid\", \"blood\", \"tachycardia\", \"draw\", \"code\", \"provide\", \"bolus\", \"pende\", \"send\", \"page\", \"lab\", \"team\", \"start\", \"stroke\", \"ct\", \"head\", \"symptom\", \"following_command\", \"pupil\", \"eye\", \"weakness\", \"scan\", \"confusion\", \"discussion\", \"brain\", \"reactive\", \"mri\", \"movement\", \"cancel\", \"neurology\", \"speech\", \"facial\", \"improved\", \"stemi\", \"past_medical\", \"st_elevation\", \"brief\", \"defib_pad\", \"tumor\", \"strength\", \"advanced\", \"labored\", \"collapse\", \"transport\", \"bring\", \"code\", \"return\", \"additional\", \"extremity\", \"blue\", \"pulse\", \"cpr\", \"intubate\", \"compression\", \"unresponsive\", \"shock\", \"progress\", \"bicarb\", \"amp\", \"ecmo\", \"overhead\", \"car\", \"manage\", \"defib\", \"door\", \"seat\", \"regain\", \"achieve\", \"accompany\", \"cabg\", \"grimace\", \"rapidly\", \"lad\", \"connect\", \"cold\", \"alarm\", \"front\", \"eyes_rolle\", \"locate\", \"pharmacy\", \"code\", \"push\", \"stop\", \"immediately\", \"start\", \"family\", \"witness\", \"become\", \"med\", \"multiple\", \"cardiac\", \"perform\", \"initiate\", \"give\", \"minute\", \"run\", \"activate\", \"bilateral\", \"round\", \"drip\", \"evaluation\", \"chair\", \"closely\", \"pna\", \"resection\", \"ucsd\", \"dialysis\", \"poc\", \"rosc\", \"cbc\", \"active\", \"hypoxia\", \"cause\", \"epi\", \"rise\", \"secondary\", \"extensive\", \"aaox\", \"pneumonia\", \"ed\", \"slowly\", \"catheter\", \"vent\", \"flat\", \"vfib\", \"axillary\", \"protocol\", \"pulmonary\", \"procedure\", \"morning\", \"yesterday\", \"negative\", \"elevate\", \"anxiety\", \"schedule\", \"loc\", \"difficulty_breathe\", \"resident\", \"undergo\", \"less\", \"contrast\", \"resting\", \"sedation\", \"drift\", \"risk\", \"stage\", \"bs\", \"bad\", \"spontaneously\", \"possibly\", \"hospitalist\", \"d\", \"depression\", \"diarrhea\", \"diurese\", \"spontaneous\", \"cannula\", \"indicate\", \"tolerate\", \"hypotensive\", \"situation\", \"lead\", \"recommendation\", \"background\", \"pale\", \"systolic\", \"surgical\", \"seem\", \"assistance\", \"ground\", \"suggest\", \"afternoon\", \"palpable\", \"fatigue\", \"supine\", \"instruct\", \"symptomatic\", \"person\", \"rle\", \"presume\", \"pleasant\", \"firm\", \"echo\", \"aml\", \"coag\", \"pacemaker\", \"picc\", \"met\", \"osa\", \"assessment\", \"bleed\", \"oxygen\", \"remove\", \"overnight\", \"minimal\", \"pressor\", \"provider\", \"asystole\", \"chart\", \"relate\", \"osh\", \"evening\", \"fracture\", \"apply\", \"wound\", \"medic\", \"dextrose\", \"gi\", \"anemia\", \"death\", \"debrief\", \"electrolyte\", \"bpm\", \"activity\", \"diffuse\", \"establish\", \"rechecke\", \"recheck\", \"gastric\", \"satting\", \"fall\", \"seizure\", \"airway\", \"suction\", \"trach\", \"secretion\", \"wob\", \"gurney\", \"body\", \"strong\", \"table\", \"diuretic\", \"discontinue\", \"lying_flat\", \"bph\", \"sah\", \"seize\", \"twitching\", \"epilepticus\", \"outside_hospital\", \"avr\", \"carotid\", \"sdh\", \"pillow\", \"usage\", \"rale\", \"witness\", \"eeg\", \"like_activity\", \"stridor\", \"oral\", \"nrb\", \"covid\", \"ongoing\", \"bradycardic\", \"renal\", \"ir\", \"clot\", \"abd\", \"distend\", \"touch\", \"resuscitation\", \"cool\", \"initiation\", \"chemotherapy\", \"mark\", \"oht\", \"palpation\", \"increasingly\", \"arterial\", \"melena\", \"proceed\", \"end_stage\", \"sedate\", \"dopamine\", \"unspecified\", \"nausea_vomiting\", \"me\", \"cooperative\", \"pancreatitis\", \"brady\", \"ovarian\", \"rocephin\", \"peripheral\", \"infusion\", \"prn\", \"workup\", \"dismiss\", \"intact\", \"lay\", \"unchanged\", \"verbalize\", \"conversation\", \"ticu\", \"evidence\", \"therefore\", \"moment\", \"restlessness\", \"related\", \"low_grade\", \"etiology\", \"inflammatory\", \"vegetation\", \"faint\", \"factor\", \"aneurysm\", \"iliac\", \"medical_center\", \"hemorrhagic_shock\", \"ketamine\", \"oxy\", \"neurologist\", \"stridor\", \"cry\", \"normally\", \"old\", \"pod\", \"istat\", \"line\", \"oral\", \"covid\", \"fio\", \"mass\", \"restart\", \"high_flow\", \"flow\", \"ultimately\", \"effect\", \"deep\", \"morphine\", \"actively\", \"lpm\", \"dobutamine\", \"soon\", \"verify\", \"distal\", \"ecg\", \"ileus\", \"iabp\", \"embolization\", \"thoracic\", \"surround\", \"hydronephrosis\", \"consideration\", \"father\", \"hemorrhagic\", \"dependence\", \"beta\", \"angiogram\", \"descend\", \"distention\", \"blender\", \"condition\", \"skin\", \"rosc_achieve\", \"zoll\", \"central_line\", \"color\", \"son\", \"mentate\", \"crrt\", \"atrial_fibrillation\", \"diuresis\", \"prolong\", \"burn\", \"ventricular\", \"maxe\", \"cardiogenic_shock\", \"unequal\", \"nicm\", \"zoll_pad\", \"va_ecmo\", \"bicu\", \"cv\", \"fent\", \"pharmacist\", \"translate\", \"urgent\", \"dual_chamber\", \"hvad\", \"gurgle\", \"prop\", \"rhythm\", \"pad\", \"communicate\", \"bradycardia\", \"decide\", \"chemo\", \"hallway\", \"finish\", \"entire\", \"localize\", \"ireport\", \"ortho\", \"mom\", \"crash_cart\", \"collar\", \"rd\", \"heart_block\", \"rd_degree\", \"speed\", \"deliver\", \"ped\", \"baby\", \"cart\", \"tpa\", \"tvp\", \"io\", \"epinephrine\", \"hemodynamically_stable\", \"ketamine\", \"avb\", \"telemetry\", \"pulseless\", \"accm\", \"arrest\", \"covid\", \"line\", \"min\", \"explain\", \"add\", \"support\", \"tpa\", \"family_member\", \"forearm\", \"chock\", \"tremor\", \"vaccine\", \"reaction\", \"nose\", \"role\", \"assign\", \"chou\", \"tobia\", \"cathrine\", \"kara\", \"swell\", \"happy\", \"rocuronium\", \"upset\", \"placementr\", \"mssa_bacteremia\", \"tracing\", \"planning\", \"eve\", \"figuring\", \"basically\", \"certainly\", \"supervisor\", \"system\", \"mix\", \"covid\", \"advise\", \"obstructive\", \"lot\", \"shoulder\", \"agree\", \"line\", \"hob\", \"emergent\", \"decision\", \"express\", \"fentanyl\", \"mid\", \"anesthesia\", \"resource\", \"rt\", \"self\", \"istat\", \"nrb\"], \"Freq\": [12393.0, 6270.0, 16763.0, 4593.0, 10709.0, 13554.0, 5751.0, 5520.0, 3924.0, 9150.0, 3472.0, 4924.0, 11813.0, 4505.0, 5694.0, 8653.0, 5275.0, 2940.0, 8976.0, 4658.0, 2386.0, 3899.0, 3877.0, 2299.0, 4414.0, 3442.0, 7624.0, 5824.0, 2233.0, 5462.0, 7623.056069551604, 6558.9321462710295, 3913.862901901081, 3698.4827699354887, 3420.185250410564, 3288.5612200469327, 3274.025215140947, 2479.6712188731644, 2479.663203983148, 2463.1858424360034, 2296.3483927853376, 2232.1756730771876, 2110.1319409362786, 2065.9476055330806, 1970.818249765198, 1947.085033332742, 1874.2494698434334, 1849.0932347350974, 1819.4534200585274, 1491.2888828761238, 1445.684033450176, 1343.2124122639923, 1227.9576676649403, 1223.866692474853, 1111.254106462768, 1108.4773227700566, 1035.738000577273, 1017.0129006948274, 1009.8073893374312, 995.8150820096672, 3701.370885459834, 8375.446856811983, 3727.4297975562667, 5220.0933593028585, 1989.7993878138705, 3020.572351874971, 3277.2379337109564, 9268.17436081444, 2886.26358382116, 4162.550662586997, 3668.7427691337134, 3265.8069472903853, 3009.770534320687, 4245.1180558134, 5171.296204229911, 5903.803051220864, 6145.573711357318, 4000.543186032461, 4114.758374349855, 4847.556262034528, 3215.728161210754, 2526.7859984386073, 2535.500688539559, 2660.6802882564143, 2630.4934935614515, 1863.6724174289811, 1321.1935837037624, 1309.44155963623, 1292.0204214398088, 1198.196961826574, 1113.1574615117702, 1089.5380859192164, 1016.3156347277634, 941.2421443830278, 881.1143787032631, 873.0577408267743, 836.9411741033549, 829.3094855624895, 821.047455507116, 772.8347784430939, 763.2244544130002, 762.9607292938188, 728.2410301502806, 689.8049204194352, 678.2359257114196, 663.7465475573945, 656.5572078525087, 634.5867137568548, 574.6042785191681, 563.6438759502153, 555.2339501418138, 536.3038514305239, 529.7694467646882, 2318.6623250232215, 1127.4098830087003, 1580.3782140391152, 1720.8164966003246, 2617.5210506932913, 1386.5288190766826, 4543.886656287254, 1487.6948678402484, 8216.40990386255, 1329.739192154365, 1277.1614712061019, 3395.7879866081794, 1551.4058152408104, 1129.2386151102442, 1209.2059380006879, 1965.6579157381705, 1455.7736998725968, 1189.0935655472435, 1185.0094789796524, 1174.4596934655808, 3218.0070864076747, 2630.942506172892, 2449.129057942932, 1885.410252263959, 1425.1035074378915, 1145.256841547105, 1125.7202767583876, 2957.3353113077305, 1045.7867100131427, 1000.331144775841, 856.614905593962, 828.1240892876818, 767.2316362551181, 708.6696627636857, 635.283770164179, 579.0698575887745, 560.3245868611973, 549.5877425580559, 545.0541272689047, 1691.0714624233833, 501.6368558661178, 465.1131137758966, 449.8142331640342, 410.3544014660646, 385.9798741290194, 383.35042308745176, 380.51087681904846, 374.6019926278902, 374.29768943230977, 370.09080570922123, 2421.8577457259776, 1705.8803558451423, 2153.1013582437117, 1045.8061861226774, 1840.4317195194683, 4296.669821824138, 1051.2768578493053, 9442.10391455591, 1382.990077847619, 3210.2000746816166, 1259.0782219923574, 2027.728089155809, 2403.9134630507115, 752.0685596468437, 889.405800129362, 2192.1513196828646, 2127.671296553149, 1899.7148147825749, 1790.2726421910936, 1655.943260672288, 1571.3145636483484, 575.1627396507288, 4492.933878332987, 5734.010056854416, 5503.281440756112, 340.4583554596053, 300.6866078596952, 292.4181048936894, 261.68391053565216, 185.0693663864799, 164.3805922985154, 163.2426418903197, 146.24413579276285, 146.16588576469368, 143.84361826500333, 143.5544681612819, 137.83881611101273, 137.63094103644556, 133.3330894947575, 129.2886297106306, 86.85645615639554, 84.03098014286526, 78.87329495941178, 4847.540938867893, 3388.5574821806526, 3605.5159600061183, 3724.8840028247882, 428.08262022475583, 3549.407939879535, 5489.662769204273, 3705.626129250104, 4140.782818679076, 3330.984394861867, 663.5169713443934, 591.6878122451263, 232.46660005507164, 345.843524057993, 459.0735646748923, 3923.3542726223263, 2165.166165607725, 1669.4114612433668, 1471.5450926873793, 1466.7080184406318, 1214.4232216165183, 1006.1345299992015, 1003.8874482152894, 787.6368592267262, 692.9323097700271, 661.0239019233007, 539.0392155531792, 586.6238599107471, 520.9691593709229, 474.85381244869035, 435.7827155027258, 425.59221847852774, 422.6893408055778, 407.65694115785874, 370.0135088885613, 362.67402445700606, 349.047417898451, 346.621206533848, 336.9756765649365, 296.0073792831, 295.10287402622663, 287.4088716258887, 280.3749818752801, 266.0950096040764, 260.6710317713252, 1149.313552083991, 980.5257788734826, 603.1693321448129, 457.7939422202341, 342.6338306711954, 298.1599399958727, 6269.247012925816, 4592.772691203226, 1619.5313238949896, 1247.9820656650647, 980.3069247515728, 664.7024318090766, 590.8574994631692, 557.4365285989797, 530.02266128334, 515.3950129083098, 420.55972588741986, 416.9597207885071, 322.39140702627583, 284.638262911572, 277.3501509520213, 253.24313415443248, 240.45788272069052, 227.66330803895232, 227.5270361625801, 186.38003920772238, 174.28319822861857, 134.45953078061873, 127.08462172769453, 126.48566168071808, 122.02728009117338, 117.76914310481767, 113.62903462670324, 95.22000293348816, 93.11352059494892, 90.95278457585313, 589.6911552751658, 712.1985166717665, 1032.3962044902808, 496.2489315515707, 336.53002465735403, 1123.217188244225, 487.39817872739786, 264.495268342207, 391.0837202980028, 341.8893090621171, 225.75643995821866, 3471.030810265432, 2939.483494090012, 1890.0394140900726, 1761.108825483363, 1613.5906283348909, 815.2433630828627, 806.2111726938217, 491.79019797942334, 423.97060621915927, 328.9280210877316, 296.61466327038005, 212.3878062015722, 197.9274034513913, 175.75002132874428, 169.23308142601502, 148.64880286564727, 145.32536923030597, 143.87138260429037, 133.40778567136778, 131.58281617266408, 112.80498356687734, 62.39705067556705, 61.15372833908848, 58.119044068012556, 57.39625170051806, 54.84068526523343, 50.300007975482806, 48.58911055740845, 880.0494065791646, 22.546829024631883, 267.3977436231499, 328.71246007108067, 824.2977134594863, 1242.796483123941, 421.3621341263166, 889.1167798868794, 1841.8155002593053, 274.5553145887019, 615.1073781676301, 234.6537888906856, 273.7863052565838, 236.99038104108973, 243.9305005645098, 210.61053056239913, 173.05951264679976, 2298.8630363115567, 1938.8759461559973, 1622.8256700190498, 708.5740971507851, 631.7397081894154, 577.8483871110396, 577.164883501284, 526.8334009646336, 485.1276028274402, 399.1214902699932, 337.5690392091459, 323.60810028478943, 319.05681211481283, 308.33973450476685, 307.5898852233938, 307.03095873804193, 291.4603538709267, 246.78886063223453, 219.93606743132864, 202.20815948404152, 190.9547755894766, 179.57007001521367, 163.06637148750082, 162.78000804594691, 139.41385939746584, 129.69776717923313, 111.69428707886289, 76.80050016507587, 75.84097303584429, 72.87188490422048, 2011.8104464739456, 446.18238230089, 2716.1420730773184, 262.9779100911134, 288.19721350471366, 185.26398961442118, 2385.6536519597003, 1318.1260106100451, 1243.6005489981394, 933.3288862773804, 628.2250752145509, 622.266951124449, 433.7028903545467, 388.86897772699695, 273.8051139437993, 219.99894081634892, 198.01052103379686, 183.35736309328158, 134.20264774185264, 122.88729261038294, 110.68445923828638, 110.52334709015217, 102.68314751294514, 100.34363292723164, 87.10846559994889, 85.95260493579325, 84.53289489208645, 83.99855035771995, 81.09940905465469, 78.98944600073293, 76.48263738488683, 75.2249571912096, 56.816744618347954, 51.86192585809394, 51.57368174354424, 41.135301704085876, 217.70672317447304, 5430.8763966081215, 217.46866525203586, 331.33586593296127, 290.6139032133256, 572.0873745332674, 247.2284267157346, 146.52829181374756, 273.3185100772638, 217.15622305289378, 271.5853443284755, 207.60084871790193, 205.6494514414707, 270.85511582031336, 276.74357524345794, 171.0397060532671, 142.39060591421867, 1565.2965601144263, 917.1444479733241, 856.7776345287144, 602.9170497017983, 536.7907658374116, 514.6928552973869, 449.7517220394073, 434.0062400552042, 401.5135190561528, 397.43275399940734, 383.15072545213746, 372.91663820672085, 372.44139284684144, 371.1604341607389, 369.009779129242, 354.2674523477992, 340.6679981111883, 329.8954148625908, 329.65599453278884, 259.3118914545663, 225.50953259614695, 222.0004701303156, 213.38631508437862, 212.74072575514484, 182.22055929197842, 182.21984356101476, 182.13292386119372, 179.811741766375, 172.0206440388507, 166.93547541138503, 343.4849154453348, 188.79597965524974, 754.0357847334001, 602.8710574800623, 512.5425705537893, 458.58806490542315, 450.2348938282738, 440.03233165475314, 395.95172167722745, 359.67247645719004, 351.3031194382959, 322.73215214047144, 301.32708057430807, 271.70850352439237, 266.3785695051223, 239.43015451601306, 234.46441596616447, 227.85668784131312, 219.16622718334884, 216.05393210538858, 197.68097983878974, 197.0010760442131, 188.0796888825915, 178.46564001161184, 162.6689972600541, 159.60906499945634, 153.5425646093411, 129.47227865015356, 125.28697579215299, 124.48702037288771, 124.14708025576078, 123.99538711758831, 127.75028999917589, 837.3393489543079, 817.0740932951583, 749.5758348019197, 637.0039122678076, 514.1253310328133, 337.0896912664514, 310.38661987990946, 270.8804329722549, 269.65681871035764, 247.72028818047872, 224.49945551128494, 176.5073383440942, 169.76449878594119, 167.16814831927536, 167.11731715540313, 157.32191789542506, 150.59023392615376, 132.52334780348292, 132.50727306971035, 115.39324557853936, 111.91895671520021, 99.26944011152246, 97.94432012387163, 97.22823449074218, 96.25712712136067, 93.71929052800337, 90.44729458938954, 89.00674972255801, 83.22240646757754, 72.85807678057316, 441.43256607740665, 693.2500651920352, 479.4505554012447, 410.39303010721517, 403.26696227862067, 337.3851208137224, 320.9260617757061, 316.6511292559449, 287.4998592043653, 263.83076741599643, 262.5509662754947, 240.70990656834482, 230.01790326529076, 207.18816562058743, 200.32217266190528, 195.4363387805207, 186.5294998760622, 185.01675427281515, 174.9312590086529, 173.77276603312762, 163.5185376686812, 163.23472574162207, 149.81256743480577, 115.03071333386244, 113.17555084547641, 111.42982799349346, 109.08097405964375, 108.40734490163085, 99.26957787284485, 97.94121248386439, 90.26519245004953, 1019.0549315401441, 904.1403572987244, 755.2275540978061, 578.9923446672572, 345.90760004487385, 307.0734334805964, 268.4473604108085, 255.99254021355725, 189.98376696422795, 135.44940102792296, 117.17960352188734, 66.54358915166726, 65.47416521372209, 57.05507759462791, 50.243360414762336, 49.626175745603526, 45.83783292254176, 44.316664186669804, 36.38905540604122, 31.312631741225808, 28.822448146864758, 28.53503459760584, 26.950038177399737, 25.121782565998597, 23.729765209357392, 17.604340512896258, 182.97940141786918, 61.014290019889444, 0.05775695713018868, 0.05775811358572215, 0.057759559155139, 0.057758697964848116, 0.057759085500479014, 413.94375256095657, 316.10690099198894, 314.3577249909357, 289.90137648031543, 199.65700116511317, 190.90012269952987, 178.1767403774787, 175.17949735517024, 154.97982077581503, 151.8090889968546, 134.30219893047718, 92.65707408136034, 88.73961379402762, 87.91317992193223, 87.26824933670238, 84.9451736763098, 78.35593393520472, 76.8465434968184, 75.7321125503536, 75.60191468989706, 69.22986106647718, 66.75552788509071, 58.245373576052565, 57.382630439093376, 45.29277377711729, 42.35038916209414, 42.273925953194876, 41.48902800558347, 40.45168192012281, 36.1472599342947, 104.27559889936173, 523.0611715494447, 465.4067467924586, 319.2817352544481, 297.3699602781668, 281.80018689807997, 220.55430541254802, 213.96358792960913, 176.82820692797716, 176.51670363166127, 141.53226886258497, 119.16697949741032, 109.33273035010866, 64.36452282337278, 63.77858446386156, 61.07495691760473, 59.656789612853714, 48.94911943041232, 34.73410271919866, 31.19373364671803, 26.709284464382634, 26.3137744872389, 22.174793378597656, 13.419561286993627, 11.99362477972917, 6.851645964497492, 0.05643768501968199, 0.056436422392234085, 0.05643591486551483, 0.05643768914591548, 0.05643566729150543, 0.05643591899174832, 0.05643634812003127, 0.05643659156780717, 0.056438654684552114, 0.056437759291884805, 0.0564375158441089, 0.0564379656035593, 613.9988071828118, 231.38207178755863, 230.695537883041, 211.33776933591722, 184.84157017592486, 172.76849096645336, 169.47095160952907, 156.85381678332848, 139.05036426913827, 109.86642169539759, 102.43409892859984, 100.00665742232006, 90.72579915809723, 80.81517082363136, 68.47140577910093, 54.62912296975261, 53.59724778228728, 51.75300823599299, 44.04812578116689, 35.417645878468726, 35.41528105965579, 34.61253963135975, 32.366589786209005, 19.9619470227735, 14.361909806825913, 14.315940061190132, 14.010464181890507, 12.603030809500057, 7.597391109038391, 6.9378444718088055, 220.8270262351848, 425.5056690663159, 331.75238215697766, 248.56718348510904, 224.35682580109093, 213.85943064880937, 161.05939598629374, 157.52139773862828, 125.47642755548931, 97.83551924664553, 96.93836239582517, 93.55906425776085, 78.1797909084041, 75.20040003326105, 69.88210203476342, 55.95592358478589, 50.99913931731096, 45.98798224069423, 45.66890269405335, 41.40383266520546, 37.345132911961294, 35.463710516087524, 33.93325288826518, 27.25252717213043, 25.06917050276617, 22.061071561726862, 18.65455768586129, 10.630078519872761, 9.84848359674287, 9.755592589473444, 8.08951827102307, 407.3381812086979, 277.120061102702, 252.54680803740345, 240.14403302608636, 198.58958276256482, 158.2253738389336, 107.89637362281553, 107.08607356613109, 88.97342124244169, 87.0870432414448, 86.49302673625789, 66.73293645851835, 64.99699638056691, 59.69307761062211, 49.31718104052315, 39.4520692774821, 16.123288332659165, 12.855909445567143, 11.550796506063428, 0.050134195695439664, 0.05013272262727474, 0.05013403660407785, 0.05013329417772273, 0.050136493681776945, 0.05013233962955186, 0.050133388454085284, 0.05013430175634754, 0.050132581212730905, 0.05013168558728663, 0.050131078683202684, 0.05013378323635349, 0.05013275208863804, 0.050133553437719754, 0.05013410141907711, 0.050136405297687044, 0.050133152763178895, 213.24212955415985, 190.1659283706471, 163.621080019211, 128.27418639228554, 0.03608850926800999, 0.03608359776005526, 0.036082977074984056, 0.03608167927892608, 0.03608329109747067, 0.03608247905494669, 0.03608251340115616, 0.0360823514833115, 0.03608130392392255, 0.036081603226605106, 0.0360815934134024, 0.0360815934134024, 0.0360815934134024, 0.0360815934134024, 0.03608376458450127, 0.036081151819280594, 0.036081716078436236, 0.03608121805839887, 0.03608121805839887, 0.03608121805839887, 0.036081725891638945, 0.0360814879214733, 0.036081002167939316, 0.036081002167939316, 0.036081002167939316, 0.036081002167939316, 0.03608165965252067, 0.03608151490778075, 0.0360815934134024, 0.03608940962935833, 0.03608204727402759, 0.03608178722415586, 0.03608223127157834, 0.03608188290288225, 0.036082670412399466, 0.036083278830967284, 0.036081877996280896, 0.03608211596644654, 0.03608196140850391, 0.03608193196889578, 0.03608197122170661, 0.036082182205564806, 0.03608184855667278, 0.03608205708723029, 0.03608186818307819, 0.03608194914200052, 0.03608200802121676, 0.036081804397260595], \"Total\": [12393.0, 6270.0, 16763.0, 4593.0, 10709.0, 13554.0, 5751.0, 5520.0, 3924.0, 9150.0, 3472.0, 4924.0, 11813.0, 4505.0, 5694.0, 8653.0, 5275.0, 2940.0, 8976.0, 4658.0, 2386.0, 3899.0, 3877.0, 2299.0, 4414.0, 3442.0, 7624.0, 5824.0, 2233.0, 5462.0, 7624.181737819317, 6560.05882648739, 3914.988570168796, 3699.6084382032036, 3421.310918678279, 3289.6868883146476, 3275.1508835992736, 2480.7968871408793, 2480.788872250863, 2464.3115107037183, 2297.47406105986, 2233.3013413449025, 2111.2576092039935, 2067.0732738007955, 1971.943918032912, 1948.2107016004559, 1875.3751381111474, 1850.2189158895453, 1820.5790883262414, 1492.4145511438378, 1446.80970171789, 1344.3380805317063, 1229.0833359326543, 1224.992360742567, 1112.379774730482, 1109.6029910377706, 1036.863668844987, 1018.1385689625416, 1010.9330576051454, 996.9407502773814, 3710.85394813864, 8653.267830916075, 3858.6315064109044, 5465.068849455977, 2051.5645966649527, 3187.9086801740605, 3505.2634826236585, 10769.372868062437, 3161.094878666354, 4791.425514226483, 4414.886585463895, 3881.9593150466253, 3899.9323037961767, 6670.438720524357, 9150.854351045547, 11813.707383410238, 16763.14194856972, 7458.779451773971, 8976.841184197918, 13554.137256715987, 10709.638287881153, 4658.5828184574975, 5884.634382593993, 2661.807217655732, 2631.6204229810355, 1864.7993468282982, 1322.3205131069012, 1310.5684890355471, 1293.147350839126, 1199.3239020372555, 1114.2843909110873, 1090.6650155475834, 1017.4425641270805, 942.3690737823449, 882.2413081025802, 874.1846702260914, 838.068103502672, 830.4364149618066, 822.174384906433, 773.961707842411, 764.3513838123173, 764.0876586931358, 729.3679595495977, 690.9318498187523, 679.3628551171468, 664.8734769567116, 657.6841372518257, 635.7136431561719, 575.7312079234093, 564.7708053495323, 556.3608795411309, 537.433693711722, 530.8963761640052, 2341.385717715377, 1132.316202171404, 1605.7885990353461, 1755.0734186674288, 2879.620287854035, 1475.3934161764585, 5462.4065495710365, 1651.1624479656373, 13554.137256715987, 1529.8912020186783, 1659.2694409234675, 7458.779451773971, 2444.2872935961345, 1642.4622914909628, 2479.418389851332, 10709.638287881153, 8976.841184197918, 5824.743720921268, 11813.707383410238, 16763.14194856972, 3219.1369853804094, 2632.072405145627, 2450.2589573781042, 1886.5401512366934, 1426.233406410626, 1146.3867405198396, 1126.8501757311221, 2960.3327874971433, 1046.9166089858772, 1001.4610437485757, 857.7448045666966, 829.2539882604165, 768.3615352327769, 709.7995617364203, 636.4136691369137, 580.1997565615092, 561.4546635592126, 550.7176415307905, 546.1840262416393, 1694.8077954381629, 502.76675483885236, 466.24301275970663, 450.94413214317893, 411.48430043879915, 387.10977310175394, 384.4803220601863, 381.64077579670715, 375.73189161483305, 375.42758840504433, 371.2207046819558, 2443.7444841265637, 1721.7993014143512, 2270.6671839091277, 1086.2222887769603, 2078.471320854188, 5824.743720921268, 1223.3981935022646, 16763.14194856972, 1845.3513227259882, 5884.634382593993, 2044.698651449545, 6670.438720524357, 12393.80425233603, 1482.4630190510752, 10769.372868062437, 2193.282426425289, 2128.8024032955736, 1900.8459215249989, 1791.4037489335176, 1657.074367414712, 1572.4456703907724, 576.2947629736884, 4505.635269974883, 5751.715107214329, 5520.393284942532, 341.5894622020293, 301.8177146021192, 293.54921163611345, 262.8150172780762, 186.20047312890404, 165.51169909631943, 164.37374863673932, 147.37524253518697, 147.2969925071178, 144.97472505507088, 144.68557491011615, 138.9699228848261, 138.76204780732022, 134.46419623718162, 130.41973645305472, 87.98756296402382, 85.16208688528936, 80.00440170183587, 4924.4645851627565, 3442.647589198358, 3877.4539131617757, 5275.764577257745, 520.1999242368796, 5694.792480348015, 10709.638287881153, 9150.854351045547, 11813.707383410238, 8976.841184197918, 1396.5831782432087, 1229.1377384977118, 354.6556242193125, 923.8532340583314, 10769.372868062437, 3924.4816906157916, 2166.2928043558136, 1670.538099991455, 1472.6717314354676, 1467.83465718872, 1215.5498603695307, 1007.2611687472898, 1005.0140869633777, 788.7634979748145, 694.0589485181155, 662.1505406713891, 540.1658543012676, 587.8848855187757, 522.0957981190112, 475.98045119677863, 436.9093542508141, 426.718857226616, 423.81597955366607, 408.783579905947, 371.1401476366496, 363.80066322835626, 350.17405669354514, 347.74784528834647, 338.1023153130248, 297.1340180311883, 296.2295127743149, 288.5355103789011, 281.50162063017603, 267.2216483600555, 261.7976705194135, 1610.3017938805388, 1757.3831051914672, 1010.0362604892183, 1221.1278249354732, 907.5315438258324, 612.3735194321376, 6270.376643055971, 4593.90232133338, 1620.6609540251438, 1249.111695795219, 981.4365548866513, 665.832061939231, 591.9871295933236, 558.5661587291341, 531.1522914134944, 516.5246430384642, 421.6893560224984, 418.0893509186615, 323.5210371670596, 285.76789306016235, 278.4797810930523, 254.37276428951105, 241.58751288914115, 228.79293816910675, 228.6566662927345, 187.50966936974532, 175.412828358773, 135.58916092158958, 128.21425185784892, 127.61529181087249, 123.15691022132779, 118.89877327838843, 114.75866482350519, 96.3496331102264, 94.24315072510333, 92.08241470600754, 625.6987617108043, 802.7621390474783, 1628.9307640380105, 731.951671893306, 465.34148058244625, 2554.067422134532, 918.5768874420206, 375.3048070544886, 899.2105364505062, 1010.0362604892183, 390.1660387174033, 3472.139065310758, 2940.5917491353375, 1891.147669135398, 1762.2170805286885, 1614.6988833802163, 816.3516181281882, 807.3194277391472, 492.89845302474885, 425.0788612644848, 330.03627613305713, 297.72291831570556, 213.49606125071955, 199.03565849671685, 176.85827637406982, 170.34133647134055, 149.7570579109728, 146.4336242756315, 144.9796376496159, 134.5160407166933, 132.69107121798962, 113.913238652331, 63.50530572089257, 62.26198340741684, 59.22729911333808, 58.50450674584358, 55.94894032086195, 51.40826302080833, 49.697365602733974, 921.7066200419315, 23.655084120395244, 282.0033872021964, 583.8146231096365, 1990.7902397526618, 4658.5828184574975, 1114.1462326374822, 3899.9323037961767, 12393.80425233603, 642.7912824379412, 3881.9593150466253, 731.951671893306, 3161.094878666354, 2078.471320854188, 5465.068849455977, 5824.743720921268, 4414.886585463895, 2299.9946001606204, 1940.0075100050612, 1623.9572338681137, 709.7056609998489, 632.8712720384792, 578.9799509601035, 578.2964473503478, 527.9649648136974, 486.25916667650404, 400.253054119057, 338.70060307774804, 324.73966413385324, 320.18837596387664, 309.47129835383066, 308.72144907245763, 308.16252258710574, 292.59191771999053, 247.92042448129837, 221.06763128039248, 203.3397233609892, 192.0863394434646, 180.7016338642775, 164.19793533656465, 163.91157192001214, 140.54542326243705, 130.8293310385289, 112.82585092792671, 77.9320640557328, 76.97253689809361, 74.003448784957, 2233.9299905116272, 813.9797210230904, 12393.80425233603, 1369.787788311927, 1869.4434073050165, 872.9369057246306, 2386.7943162770503, 1319.2666749273953, 1244.7412133154896, 934.4695505947304, 629.3657395319009, 623.407615441799, 434.84355467189675, 390.009642044347, 274.94577826114937, 221.13960513369895, 199.1511853511469, 184.4980274106316, 135.34331205920267, 124.02795695256188, 111.82512355563641, 111.66401141288107, 103.82381184217083, 101.48429724458167, 88.24912991729892, 87.09326925314328, 85.67355920943648, 85.13921471242504, 82.24007337200472, 80.13011031808296, 77.62330170223686, 76.36562150855963, 57.95740893569799, 53.00259019378177, 52.71434606089428, 42.27596607333759, 251.76362941110594, 12393.80425233603, 398.41615392238475, 809.0210262392567, 775.7962670617316, 4414.886585463895, 907.5315438258324, 330.5906064971415, 1482.4630190510752, 880.282764057898, 1548.4020121032388, 855.9164955585744, 1229.1377384977118, 3877.4539131617757, 8653.267830916075, 1223.3981935022646, 507.83406133387274, 1566.4167393882929, 918.2646272471906, 857.897813807505, 604.0372289756648, 537.9109451112781, 515.8130345712534, 450.871901319684, 435.1264193368774, 402.63369833001934, 398.5529332732739, 384.270904726004, 374.0368174805874, 373.56157212563215, 372.2806134346054, 370.12995840310856, 355.3876316216657, 341.78817738505484, 331.01559414138154, 330.7761738066554, 260.43207072843285, 226.6297118700135, 223.12064940418213, 214.50649435824516, 213.86090502901138, 183.34073856584496, 183.3400228348813, 183.25310313506026, 180.93192106093102, 173.14082331764138, 168.0556546916617, 414.0691523313047, 335.3017197263498, 755.1562542535924, 603.9915270002546, 513.6630400739816, 459.7085344256154, 451.3553633484661, 441.1528011749454, 397.0721911974197, 360.7929459773823, 352.42358895848815, 323.8526216606637, 302.44755009450034, 272.82897304458464, 267.4990390253146, 240.55062403620533, 235.58488549128086, 228.9771573615054, 220.2866967035411, 217.17440162558086, 198.801449358982, 198.12154556440538, 189.20015840278379, 179.5861095318041, 163.78946678024639, 160.72953452605873, 154.66303412953337, 130.59274817034583, 126.40744532414737, 125.60748990415549, 125.26754978775517, 125.11585663778057, 465.34148058244625, 838.4683352692936, 818.203079610144, 750.7048211169054, 638.1328985827932, 515.254317347799, 338.2186775814371, 311.51560619489516, 272.0094192872406, 270.78580504245394, 248.84927450084328, 225.628441832422, 177.6363246590799, 170.89348510092688, 168.2971346391852, 168.24630347038882, 158.45090421041076, 151.71922024113945, 133.65233411846862, 133.63625938469605, 116.52223189352506, 113.0479430537066, 100.39842642650815, 99.07330644666396, 98.35722080572788, 97.38611343634636, 94.84827684298907, 91.57628090437524, 90.13573604395384, 84.35139278256324, 73.98706309555885, 1642.4622914909628, 694.3742864030096, 480.5747766122191, 411.5172513181896, 404.3911834895951, 338.5093420246968, 322.05028298668054, 317.77535046691935, 288.62408042026385, 264.9549886269709, 263.67518748646916, 241.83412777931923, 231.14212447626517, 208.31238683156184, 201.4463938728797, 196.56055999149513, 187.65372108703662, 186.1409754887137, 176.0554802196273, 174.89698724410204, 164.64275888457976, 164.35894696879174, 150.93678864578018, 116.15493454483685, 114.29977205645082, 112.55404920446787, 110.20519527061816, 109.5315661190154, 100.39379908381926, 99.0654336948388, 91.3894136728996, 1020.1861142127492, 905.2715399713295, 756.3587367704112, 580.1235273398622, 347.03878271747885, 308.2046161532014, 269.57854308341354, 257.1237228861623, 191.11494963683293, 136.58058371225965, 118.31078619449232, 67.67477182427224, 66.60534788632707, 58.18626026723289, 51.374543087367314, 50.757358418208504, 46.969015595146736, 45.44784685927478, 37.5202380786462, 32.443814413830786, 29.953630825362012, 29.66621727513496, 28.081220858507763, 26.252965281798804, 24.86094789021484, 18.73552318550124, 330.5906064971415, 130.61413351751443, 1.1889635974587835, 1.1889925558053789, 1.189059518460042, 1.1890940476434664, 1.1892387539979516, 415.0737874149418, 317.2369358459742, 315.48775984492096, 291.0314113343007, 200.7870360190984, 192.0301575535151, 179.30677523146392, 176.30953220915546, 156.10985562980025, 152.93912385576397, 135.4322337844624, 93.78710893534556, 89.86964865482042, 89.04321477591745, 88.3982841906876, 86.07520853029503, 79.48596878918994, 77.97657835080362, 76.86214740433883, 76.73194954388228, 70.3598959204624, 67.88556273907594, 59.37540843003778, 58.51266529307859, 46.42280863847994, 43.48042402288693, 43.40396080718009, 42.61906288170305, 41.58171677792983, 37.27729503521396, 127.77420401137303, 524.1936725568405, 466.53924779985437, 320.4142362618439, 298.50246128556256, 282.93268790547575, 221.68680641994376, 215.09608893700488, 177.9607079353729, 177.64920463905702, 142.66476988386262, 120.2994805048061, 110.46523135750444, 65.49702383076855, 64.91108547125734, 62.20745792500048, 60.78929062024947, 50.08162043780807, 35.866603738983216, 32.32623469804384, 27.841785471778394, 27.44627550179609, 23.307294385993416, 14.55206229438939, 13.126125787124934, 7.984146975472157, 1.1889530466431035, 1.1889524101540572, 1.1889483669286531, 1.1889925558053789, 1.1889515407964544, 1.1889588921703524, 1.1889730787890336, 1.1889874091243253, 1.1891297002831278, 1.1890718128134263, 1.189059518460042, 1.1892387539979516, 615.1284189723132, 232.51168357705993, 231.8251496725423, 212.4673811254185, 185.97118196542615, 173.89810275595465, 170.60056339903036, 157.98342857898115, 140.17997605863957, 110.9960334848989, 103.56371071810115, 101.13626921919882, 91.85541094759854, 81.94478261313267, 69.60101756860224, 55.75873475925391, 54.72685957178859, 52.8826200254943, 45.17773757066819, 36.54725766797003, 36.544892849157094, 35.742151420861056, 33.49620157571031, 21.09155881719895, 15.491521596327226, 15.445551892426868, 15.140075982132156, 13.732642599001368, 8.72700291727182, 8.067456261310117, 371.9157186130642, 426.6362096747529, 332.88292276541466, 249.69772409847016, 225.4873664095279, 214.98997125724634, 162.1899365947307, 158.65193834706525, 126.60696816392628, 98.9660598550825, 98.06890300426214, 94.68960486619783, 79.31033151684107, 76.33094064169802, 71.0126426432004, 57.08646419322287, 52.129679925747936, 47.1185228491312, 46.799443302490324, 42.53437327364243, 38.47567352039827, 36.5942511245245, 35.06379350797328, 28.3830677805674, 26.19971111120314, 23.191612170163832, 19.78509829429826, 11.760619128309733, 10.979024205179842, 10.886133197910416, 9.220058879460042, 408.47698573408, 278.2588656280841, 253.68561256770968, 241.28283755146845, 199.7283872879469, 159.36417836431568, 109.03517814819762, 108.22487809151318, 90.11222576782379, 88.22584776682689, 87.63183126163997, 67.87174099215291, 66.135800905949, 60.83188214092835, 50.45598556590525, 40.5908738028642, 17.26209285804126, 13.99471397094924, 12.689601031445525, 1.188978813188403, 1.1889517183910383, 1.1889839920387637, 1.1889669499872535, 1.189047837420024, 1.188949489514734, 1.1889799395001104, 1.1890043689130647, 1.1889657813953067, 1.1889530466431035, 1.1889398292663313, 1.189014400870807, 1.1889955126841998, 1.189031328088547, 1.1890596331103602, 1.1892387539979516, 1.1890718128134263, 214.39498306883834, 191.3187818853256, 164.7739335338895, 129.42703990696404, 1.189047837420024, 1.1889473587189416, 1.188975456206794, 1.188936194064093, 1.1889895186623856, 1.1889628656158668, 1.1889764674370762, 1.188971342674385, 1.1889386129747581, 1.188949668075287, 1.188950024926335, 1.188950024926335, 1.188950028995347, 1.1889514030638522, 1.1890235807864236, 1.1889381767279346, 1.1889567954446032, 1.1889408246665998, 1.1889411194141286, 1.1889412759564484, 1.1889582451375706, 1.1889505002297942, 1.1889349259780517, 1.1889349259780517, 1.1889349362280728, 1.1889349503728124, 1.188957524650496, 1.1889530091859661, 1.1889557998352385, 1.1892387539979516, 1.1889727434659394, 1.1889633015105139, 1.1889840244191037, 1.1889711461618844, 1.1890235228501325, 1.1890718128134263, 1.1889774944853237, 1.1890021379694886, 1.1889889893383792, 1.1889866566701677, 1.1889986914327066, 1.1890415314971723, 1.1890022083280294, 1.1890530513097926, 1.189025635209355, 1.1890690731895315, 1.1891297002831278, 1.1890940476434664], \"Category\": [\"Default\", \"Default\", \"Default\", \"Default\", \"Default\", \"Default\", \"Default\", \"Default\", \"Default\", \"Default\", \"Default\", \"Default\", \"Default\", \"Default\", \"Default\", \"Default\", \"Default\", \"Default\", \"Default\", \"Default\", \"Default\", \"Default\", \"Default\", \"Default\", \"Default\", \"Default\", \"Default\", \"Default\", \"Default\", \"Default\", \"Topic1\", \"Topic1\", \"Topic1\", \"Topic1\", \"Topic1\", \"Topic1\", \"Topic1\", \"Topic1\", \"Topic1\", \"Topic1\", \"Topic1\", \"Topic1\", \"Topic1\", \"Topic1\", \"Topic1\", \"Topic1\", \"Topic1\", \"Topic1\", \"Topic1\", \"Topic1\", \"Topic1\", \"Topic1\", \"Topic1\", \"Topic1\", \"Topic1\", \"Topic1\", \"Topic1\", \"Topic1\", \"Topic1\", \"Topic1\", \"Topic1\", \"Topic1\", \"Topic1\", \"Topic1\", \"Topic1\", \"Topic1\", \"Topic1\", \"Topic1\", \"Topic1\", \"Topic1\", \"Topic1\", \"Topic1\", \"Topic1\", \"Topic1\", \"Topic1\", \"Topic1\", \"Topic1\", \"Topic1\", \"Topic1\", \"Topic1\", \"Topic1\", \"Topic1\", \"Topic1\", \"Topic2\", \"Topic2\", \"Topic2\", \"Topic2\", \"Topic2\", \"Topic2\", \"Topic2\", \"Topic2\", \"Topic2\", \"Topic2\", \"Topic2\", \"Topic2\", \"Topic2\", \"Topic2\", \"Topic2\", \"Topic2\", \"Topic2\", \"Topic2\", \"Topic2\", \"Topic2\", \"Topic2\", \"Topic2\", \"Topic2\", \"Topic2\", \"Topic2\", \"Topic2\", \"Topic2\", \"Topic2\", \"Topic2\", \"Topic2\", \"Topic2\", \"Topic2\", \"Topic2\", \"Topic2\", \"Topic2\", \"Topic2\", \"Topic2\", \"Topic2\", \"Topic2\", \"Topic2\", \"Topic2\", \"Topic2\", \"Topic2\", \"Topic2\", \"Topic2\", \"Topic2\", \"Topic2\", \"Topic2\", \"Topic2\", \"Topic2\", \"Topic3\", \"Topic3\", \"Topic3\", \"Topic3\", \"Topic3\", \"Topic3\", \"Topic3\", \"Topic3\", \"Topic3\", \"Topic3\", \"Topic3\", \"Topic3\", \"Topic3\", \"Topic3\", \"Topic3\", \"Topic3\", \"Topic3\", \"Topic3\", \"Topic3\", \"Topic3\", \"Topic3\", \"Topic3\", \"Topic3\", \"Topic3\", \"Topic3\", \"Topic3\", \"Topic3\", \"Topic3\", \"Topic3\", \"Topic3\", \"Topic3\", \"Topic3\", \"Topic3\", \"Topic3\", \"Topic3\", \"Topic3\", \"Topic3\", \"Topic3\", \"Topic3\", \"Topic3\", \"Topic3\", \"Topic3\", \"Topic3\", \"Topic3\", \"Topic3\", \"Topic4\", \"Topic4\", \"Topic4\", \"Topic4\", \"Topic4\", \"Topic4\", \"Topic4\", \"Topic4\", \"Topic4\", \"Topic4\", \"Topic4\", \"Topic4\", \"Topic4\", \"Topic4\", \"Topic4\", \"Topic4\", \"Topic4\", \"Topic4\", \"Topic4\", \"Topic4\", \"Topic4\", \"Topic4\", \"Topic4\", \"Topic4\", \"Topic4\", \"Topic4\", \"Topic4\", \"Topic4\", \"Topic4\", \"Topic4\", \"Topic4\", \"Topic4\", \"Topic4\", \"Topic4\", \"Topic4\", \"Topic4\", \"Topic4\", \"Topic4\", \"Topic4\", \"Topic4\", \"Topic4\", \"Topic4\", \"Topic4\", \"Topic5\", \"Topic5\", \"Topic5\", \"Topic5\", \"Topic5\", \"Topic5\", \"Topic5\", \"Topic5\", \"Topic5\", \"Topic5\", \"Topic5\", \"Topic5\", \"Topic5\", \"Topic5\", \"Topic5\", \"Topic5\", \"Topic5\", \"Topic5\", \"Topic5\", \"Topic5\", \"Topic5\", \"Topic5\", \"Topic5\", \"Topic5\", \"Topic5\", \"Topic5\", \"Topic5\", \"Topic5\", \"Topic5\", \"Topic5\", \"Topic5\", \"Topic5\", \"Topic5\", \"Topic5\", \"Topic5\", \"Topic5\", \"Topic6\", \"Topic6\", \"Topic6\", \"Topic6\", \"Topic6\", \"Topic6\", \"Topic6\", \"Topic6\", \"Topic6\", \"Topic6\", \"Topic6\", \"Topic6\", \"Topic6\", \"Topic6\", \"Topic6\", \"Topic6\", \"Topic6\", \"Topic6\", \"Topic6\", \"Topic6\", \"Topic6\", \"Topic6\", \"Topic6\", \"Topic6\", \"Topic6\", \"Topic6\", \"Topic6\", \"Topic6\", \"Topic6\", \"Topic6\", \"Topic6\", \"Topic6\", \"Topic6\", \"Topic6\", \"Topic6\", \"Topic6\", \"Topic6\", \"Topic6\", \"Topic6\", \"Topic6\", \"Topic6\", \"Topic7\", \"Topic7\", \"Topic7\", \"Topic7\", \"Topic7\", \"Topic7\", \"Topic7\", \"Topic7\", \"Topic7\", \"Topic7\", \"Topic7\", \"Topic7\", \"Topic7\", \"Topic7\", \"Topic7\", \"Topic7\", \"Topic7\", \"Topic7\", \"Topic7\", \"Topic7\", \"Topic7\", \"Topic7\", \"Topic7\", \"Topic7\", \"Topic7\", \"Topic7\", \"Topic7\", \"Topic7\", \"Topic7\", \"Topic7\", \"Topic7\", \"Topic7\", \"Topic7\", \"Topic7\", \"Topic7\", \"Topic7\", \"Topic7\", \"Topic7\", \"Topic7\", \"Topic7\", \"Topic7\", \"Topic7\", \"Topic7\", \"Topic7\", \"Topic7\", \"Topic8\", \"Topic8\", \"Topic8\", \"Topic8\", \"Topic8\", \"Topic8\", \"Topic8\", \"Topic8\", \"Topic8\", \"Topic8\", \"Topic8\", \"Topic8\", \"Topic8\", \"Topic8\", \"Topic8\", \"Topic8\", \"Topic8\", \"Topic8\", \"Topic8\", \"Topic8\", \"Topic8\", \"Topic8\", \"Topic8\", \"Topic8\", \"Topic8\", \"Topic8\", \"Topic8\", \"Topic8\", \"Topic8\", \"Topic8\", \"Topic8\", \"Topic8\", \"Topic8\", \"Topic8\", \"Topic8\", \"Topic8\", \"Topic9\", \"Topic9\", \"Topic9\", \"Topic9\", \"Topic9\", \"Topic9\", \"Topic9\", \"Topic9\", \"Topic9\", \"Topic9\", \"Topic9\", \"Topic9\", \"Topic9\", \"Topic9\", \"Topic9\", \"Topic9\", \"Topic9\", \"Topic9\", \"Topic9\", \"Topic9\", \"Topic9\", \"Topic9\", \"Topic9\", \"Topic9\", \"Topic9\", \"Topic9\", \"Topic9\", \"Topic9\", \"Topic9\", \"Topic9\", \"Topic9\", \"Topic9\", \"Topic9\", \"Topic9\", \"Topic9\", \"Topic9\", \"Topic9\", \"Topic9\", \"Topic9\", \"Topic9\", \"Topic9\", \"Topic9\", \"Topic9\", \"Topic9\", \"Topic9\", \"Topic9\", \"Topic9\", \"Topic10\", \"Topic10\", \"Topic10\", \"Topic10\", \"Topic10\", \"Topic10\", \"Topic10\", \"Topic10\", \"Topic10\", \"Topic10\", \"Topic10\", \"Topic10\", \"Topic10\", \"Topic10\", \"Topic10\", \"Topic10\", \"Topic10\", \"Topic10\", \"Topic10\", \"Topic10\", \"Topic10\", \"Topic10\", \"Topic10\", \"Topic10\", \"Topic10\", \"Topic10\", \"Topic10\", \"Topic10\", \"Topic10\", \"Topic10\", \"Topic10\", \"Topic10\", \"Topic11\", \"Topic11\", \"Topic11\", \"Topic11\", \"Topic11\", \"Topic11\", \"Topic11\", \"Topic11\", \"Topic11\", \"Topic11\", \"Topic11\", \"Topic11\", \"Topic11\", \"Topic11\", \"Topic11\", \"Topic11\", \"Topic11\", \"Topic11\", \"Topic11\", \"Topic11\", \"Topic11\", \"Topic11\", \"Topic11\", \"Topic11\", \"Topic11\", \"Topic11\", \"Topic11\", \"Topic11\", \"Topic11\", \"Topic11\", \"Topic11\", \"Topic12\", \"Topic12\", \"Topic12\", \"Topic12\", \"Topic12\", \"Topic12\", \"Topic12\", \"Topic12\", \"Topic12\", \"Topic12\", \"Topic12\", \"Topic12\", \"Topic12\", \"Topic12\", \"Topic12\", \"Topic12\", \"Topic12\", \"Topic12\", \"Topic12\", \"Topic12\", \"Topic12\", \"Topic12\", \"Topic12\", \"Topic12\", \"Topic12\", \"Topic12\", \"Topic12\", \"Topic12\", \"Topic12\", \"Topic12\", \"Topic12\", \"Topic13\", \"Topic13\", \"Topic13\", \"Topic13\", \"Topic13\", \"Topic13\", \"Topic13\", \"Topic13\", \"Topic13\", \"Topic13\", \"Topic13\", \"Topic13\", \"Topic13\", \"Topic13\", \"Topic13\", \"Topic13\", \"Topic13\", \"Topic13\", \"Topic13\", \"Topic13\", \"Topic13\", \"Topic13\", \"Topic13\", \"Topic13\", \"Topic13\", \"Topic13\", \"Topic13\", \"Topic13\", \"Topic13\", \"Topic13\", \"Topic14\", \"Topic14\", \"Topic14\", \"Topic14\", \"Topic14\", \"Topic14\", \"Topic14\", \"Topic14\", \"Topic14\", \"Topic14\", \"Topic14\", \"Topic14\", \"Topic14\", \"Topic14\", \"Topic14\", \"Topic14\", \"Topic14\", \"Topic14\", \"Topic14\", \"Topic14\", \"Topic14\", \"Topic14\", \"Topic14\", \"Topic14\", \"Topic14\", \"Topic14\", \"Topic14\", \"Topic14\", \"Topic14\", \"Topic14\", \"Topic14\", \"Topic14\", \"Topic14\", \"Topic15\", \"Topic15\", \"Topic15\", \"Topic15\", \"Topic15\", \"Topic15\", \"Topic15\", \"Topic15\", \"Topic15\", \"Topic15\", \"Topic15\", \"Topic15\", \"Topic15\", \"Topic15\", \"Topic15\", \"Topic15\", \"Topic15\", \"Topic15\", \"Topic15\", \"Topic15\", \"Topic15\", \"Topic15\", \"Topic15\", \"Topic15\", \"Topic15\", \"Topic15\", \"Topic15\", \"Topic15\", \"Topic15\", \"Topic15\", \"Topic15\", \"Topic16\", \"Topic16\", \"Topic16\", \"Topic16\", \"Topic16\", \"Topic16\", \"Topic16\", \"Topic16\", \"Topic16\", \"Topic16\", \"Topic16\", \"Topic16\", \"Topic16\", \"Topic16\", \"Topic16\", \"Topic16\", \"Topic16\", \"Topic16\", \"Topic16\", \"Topic16\", \"Topic16\", \"Topic16\", \"Topic16\", \"Topic16\", \"Topic16\", \"Topic16\", \"Topic16\", \"Topic16\", \"Topic16\", \"Topic16\", \"Topic16\", \"Topic16\", \"Topic16\", \"Topic16\", \"Topic16\", \"Topic16\", \"Topic16\", \"Topic17\", \"Topic17\", \"Topic17\", \"Topic17\", \"Topic17\", \"Topic17\", \"Topic17\", \"Topic17\", \"Topic17\", \"Topic17\", \"Topic17\", \"Topic17\", \"Topic17\", \"Topic17\", \"Topic17\", \"Topic17\", \"Topic17\", \"Topic17\", \"Topic17\", \"Topic17\", \"Topic17\", \"Topic17\", \"Topic17\", \"Topic17\", \"Topic17\", \"Topic17\", \"Topic17\", \"Topic17\", \"Topic17\", \"Topic17\", \"Topic17\", \"Topic18\", \"Topic18\", \"Topic18\", \"Topic18\", \"Topic18\", \"Topic18\", \"Topic18\", \"Topic18\", \"Topic18\", \"Topic18\", \"Topic18\", \"Topic18\", \"Topic18\", \"Topic18\", \"Topic18\", \"Topic18\", \"Topic18\", \"Topic18\", \"Topic18\", \"Topic18\", \"Topic18\", \"Topic18\", \"Topic18\", \"Topic18\", \"Topic18\", \"Topic18\", \"Topic18\", \"Topic18\", \"Topic18\", \"Topic18\", \"Topic19\", \"Topic19\", \"Topic19\", \"Topic19\", \"Topic19\", \"Topic19\", \"Topic19\", \"Topic19\", \"Topic19\", \"Topic19\", \"Topic19\", \"Topic19\", \"Topic19\", \"Topic19\", \"Topic19\", \"Topic19\", \"Topic19\", \"Topic19\", \"Topic19\", \"Topic19\", \"Topic19\", \"Topic19\", \"Topic19\", \"Topic19\", \"Topic19\", \"Topic19\", \"Topic19\", \"Topic19\", \"Topic19\", \"Topic19\", \"Topic19\", \"Topic19\", \"Topic19\", \"Topic19\", \"Topic19\", \"Topic19\", \"Topic20\", \"Topic20\", \"Topic20\", \"Topic20\", \"Topic20\", \"Topic20\", \"Topic20\", \"Topic20\", \"Topic20\", \"Topic20\", \"Topic20\", \"Topic20\", \"Topic20\", \"Topic20\", \"Topic20\", \"Topic20\", \"Topic20\", \"Topic20\", \"Topic20\", \"Topic20\", \"Topic20\", \"Topic20\", \"Topic20\", \"Topic20\", \"Topic20\", \"Topic20\", \"Topic20\", \"Topic20\", \"Topic20\", \"Topic20\", \"Topic20\", \"Topic20\", \"Topic20\", \"Topic20\", \"Topic20\", \"Topic20\", \"Topic20\", \"Topic20\", \"Topic20\", \"Topic20\", \"Topic20\", \"Topic20\", \"Topic20\", \"Topic20\", \"Topic20\", \"Topic20\", \"Topic20\", \"Topic20\", \"Topic20\", \"Topic20\", \"Topic20\", \"Topic20\"], \"logprob\": [30.0, 29.0, 28.0, 27.0, 26.0, 25.0, 24.0, 23.0, 22.0, 21.0, 20.0, 19.0, 18.0, 17.0, 16.0, 15.0, 14.0, 13.0, 12.0, 11.0, 10.0, 9.0, 8.0, 7.0, 6.0, 5.0, 4.0, 3.0, 2.0, 1.0, -3.5633, -3.7136, -4.2299, -4.2865, -4.3648, -4.404, -4.4084, -4.6863, -4.6863, -4.693, -4.7631, -4.7915, -4.8477, -4.8689, -4.916, -4.9281, -4.9663, -4.9798, -4.9959, -5.1948, -5.2259, -5.2994, -5.3891, -5.3925, -5.489, -5.4915, -5.5594, -5.5776, -5.5847, -5.5987, -4.2858, -3.4692, -4.2788, -3.942, -4.9064, -4.489, -4.4075, -3.3679, -4.5345, -4.1683, -4.2946, -4.411, -4.4926, -4.1487, -3.9513, -3.8189, -3.7787, -4.208, -4.1799, -4.016, -4.4264, -4.6675, -4.6641, -3.8069, -3.8183, -4.1629, -4.507, -4.5159, -4.5293, -4.6047, -4.6783, -4.6997, -4.7693, -4.846, -4.9121, -4.9212, -4.9635, -4.9727, -4.9827, -5.0432, -5.0557, -5.056, -5.1026, -5.1568, -5.1738, -5.1953, -5.2062, -5.2403, -5.3396, -5.3588, -5.3739, -5.4085, -5.4208, -3.9445, -4.6656, -4.3278, -4.2427, -3.8233, -4.4587, -3.2717, -4.3883, -2.6794, -4.5005, -4.5409, -3.563, -4.3463, -4.6639, -4.5955, -4.1097, -4.41, -4.6123, -4.6157, -4.6247, -3.3812, -3.5826, -3.6542, -3.9158, -4.1957, -4.4143, -4.4315, -3.4656, -4.5052, -4.5496, -4.7047, -4.7385, -4.8149, -4.8943, -5.0036, -5.0963, -5.1292, -5.1485, -5.1568, -4.0246, -5.2398, -5.3154, -5.3489, -5.4407, -5.5019, -5.5087, -5.5162, -5.5318, -5.5326, -5.5439, -3.6654, -4.0158, -3.783, -4.5051, -3.9399, -3.0921, -4.4999, -2.3048, -4.2257, -3.3836, -4.3196, -3.843, -3.6728, -4.8349, -4.6671, -3.486, -3.5158, -3.6292, -3.6885, -3.7665, -3.8189, -4.824, -2.7683, -2.5244, -2.5655, -5.3483, -5.4725, -5.5004, -5.6115, -5.9579, -6.0764, -6.0834, -6.1933, -6.1939, -6.2099, -6.2119, -6.2525, -6.254, -6.2858, -6.3166, -6.7144, -6.7474, -6.8108, -2.6924, -3.0505, -2.9884, -2.9558, -5.1193, -3.0041, -2.568, -2.961, -2.85, -3.0676, -4.6811, -4.7956, -5.7299, -5.3326, -5.0494, -2.1692, -2.7636, -3.0237, -3.1498, -3.1531, -3.3419, -3.53, -3.5323, -3.7749, -3.903, -3.9501, -4.1541, -4.0695, -4.1882, -4.2809, -4.3667, -4.3904, -4.3973, -4.4335, -4.5304, -4.5504, -4.5887, -4.5957, -4.6239, -4.7535, -4.7566, -4.783, -4.8078, -4.86, -4.8806, -3.397, -3.5558, -4.0417, -4.3175, -4.6072, -4.7463, -1.6137, -1.9249, -2.9672, -3.2278, -3.4693, -3.8578, -3.9755, -4.0338, -4.0842, -4.1122, -4.3155, -4.3241, -4.5814, -4.7059, -4.7318, -4.8228, -4.8746, -4.9293, -4.9299, -5.1293, -5.1964, -5.4559, -5.5123, -5.517, -5.5529, -5.5884, -5.6242, -5.8009, -5.8233, -5.8468, -3.9775, -3.7888, -3.4175, -4.15, -4.5384, -3.3332, -4.168, -4.7793, -4.3882, -4.5226, -4.9377, -2.0946, -2.2608, -2.7024, -2.7731, -2.8606, -3.5433, -3.5545, -4.0487, -4.1971, -4.451, -4.5544, -4.8884, -4.9589, -5.0777, -5.1155, -5.2452, -5.2678, -5.2779, -5.3534, -5.3672, -5.5211, -6.1133, -6.1334, -6.1843, -6.1968, -6.2424, -6.3288, -6.3634, -3.4668, -7.1312, -4.6581, -4.4516, -3.5323, -3.1217, -4.2033, -3.4566, -2.7283, -4.6316, -3.825, -4.7887, -4.6344, -4.7788, -4.7499, -4.8968, -5.0932, -2.2714, -2.4417, -2.6196, -3.4483, -3.5631, -3.6523, -3.6534, -3.7447, -3.8272, -4.0223, -4.1898, -4.232, -4.2462, -4.2804, -4.2828, -4.2846, -4.3367, -4.503, -4.6182, -4.7023, -4.7595, -4.821, -4.9174, -4.9192, -5.0741, -5.1464, -5.2958, -5.6704, -5.6829, -5.7229, -2.4048, -3.9108, -2.1046, -4.4395, -4.3479, -4.7898, -2.2058, -2.7991, -2.8573, -3.1443, -3.5402, -3.5497, -3.9107, -4.0198, -4.3706, -4.5894, -4.6947, -4.7716, -5.0837, -5.1718, -5.2764, -5.2778, -5.3514, -5.3745, -5.5159, -5.5293, -5.5459, -5.5523, -5.5874, -5.6138, -5.646, -5.6626, -5.9432, -6.0345, -6.0401, -6.2662, -4.5999, -1.3832, -4.601, -4.1799, -4.3111, -3.6338, -4.4728, -4.9958, -4.3724, -4.6024, -4.3788, -4.6474, -4.6569, -4.3815, -4.36, -4.8412, -5.0245, -2.4352, -2.9697, -3.0378, -3.3892, -3.5054, -3.5474, -3.6823, -3.718, -3.7958, -3.806, -3.8426, -3.8697, -3.8709, -3.8744, -3.8802, -3.921, -3.9601, -3.9922, -3.993, -4.233, -4.3726, -4.3883, -4.4279, -4.4309, -4.5858, -4.5858, -4.5863, -4.5991, -4.6434, -4.6734, -3.9519, -4.5503, -2.8199, -3.0436, -3.2059, -3.3172, -3.3356, -3.3585, -3.464, -3.5601, -3.5837, -3.6685, -3.7371, -3.8406, -3.8604, -3.9671, -3.988, -4.0166, -4.0555, -4.0698, -4.1587, -4.1621, -4.2085, -4.2609, -4.3536, -4.3726, -4.4113, -4.5819, -4.6147, -4.6211, -4.6239, -4.6251, -4.5952, -2.4692, -2.4937, -2.5799, -2.7426, -2.9569, -3.379, -3.4616, -3.5977, -3.6022, -3.6871, -3.7855, -4.026, -4.065, -4.0804, -4.0807, -4.1411, -4.1848, -4.3126, -4.3128, -4.4511, -4.4816, -4.6016, -4.615, -4.6223, -4.6324, -4.6591, -4.6946, -4.7107, -4.7779, -4.9109, -3.1094, -2.5412, -2.91, -3.0655, -3.083, -3.2614, -3.3114, -3.3248, -3.4214, -3.5073, -3.5122, -3.599, -3.6445, -3.749, -3.7827, -3.8074, -3.854, -3.8622, -3.9182, -3.9249, -3.9857, -3.9874, -4.0732, -4.3374, -4.3537, -4.3692, -4.3905, -4.3967, -4.4848, -4.4982, -4.5799, -1.8927, -2.0123, -2.1923, -2.458, -2.9731, -3.0922, -3.2266, -3.2741, -3.5724, -3.9107, -4.0556, -4.6214, -4.6376, -4.7753, -4.9024, -4.9148, -4.9942, -5.0279, -5.225, -5.3753, -5.4581, -5.4682, -5.5253, -5.5956, -5.6526, -5.9511, -3.6099, -4.7082, -11.6708, -11.6708, -11.6708, -11.6708, -11.6708, -2.518, -2.7877, -2.7932, -2.8742, -3.2472, -3.292, -3.361, -3.3779, -3.5005, -3.5211, -3.6437, -4.0148, -4.058, -4.0674, -4.0748, -4.1017, -4.1825, -4.2019, -4.2165, -4.2183, -4.3063, -4.3427, -4.4791, -4.494, -4.7306, -4.7978, -4.7996, -4.8183, -4.8436, -4.9561, -3.8967, -2.1603, -2.2771, -2.6539, -2.725, -2.7788, -3.0238, -3.0542, -3.2448, -3.2466, -3.4675, -3.6395, -3.7256, -4.2554, -4.2646, -4.3079, -4.3314, -4.5292, -4.8723, -4.9798, -5.135, -5.1499, -5.321, -5.8233, -5.9356, -6.4955, -11.2946, -11.2946, -11.2946, -11.2946, -11.2946, -11.2946, -11.2946, -11.2946, -11.2946, -11.2946, -11.2946, -11.2946, -1.9678, -2.9437, -2.9467, -3.0343, -3.1683, -3.2358, -3.2551, -3.3325, -3.453, -3.6885, -3.7586, -3.7826, -3.8799, -3.9956, -4.1614, -4.3872, -4.4063, -4.4413, -4.6025, -4.8206, -4.8206, -4.8436, -4.9107, -5.394, -5.7232, -5.7264, -5.748, -5.8539, -6.36, -6.4508, -2.9904, -2.2249, -2.4738, -2.7625, -2.8649, -2.9129, -3.1964, -3.2186, -3.4461, -3.6949, -3.7041, -3.7396, -3.9192, -3.958, -4.0314, -4.2536, -4.3464, -4.4498, -4.4568, -4.5548, -4.658, -4.7097, -4.7538, -4.973, -5.0565, -5.1844, -5.3521, -5.9145, -5.9909, -6.0003, -6.1876, -2.0735, -2.4587, -2.5515, -2.6019, -2.7919, -3.0191, -3.4019, -3.4095, -3.5948, -3.6162, -3.6231, -3.8824, -3.9088, -3.9939, -4.1848, -4.408, -5.3029, -5.5293, -5.6364, -11.0762, -11.0762, -11.0762, -11.0762, -11.0761, -11.0762, -11.0762, -11.0762, -11.0762, -11.0762, -11.0762, -11.0762, -11.0762, -11.0762, -11.0762, -11.0761, -11.0762, -1.8445, -1.959, -2.1094, -2.3527, -10.5287, -10.5288, -10.5288, -10.5289, -10.5288, -10.5289, -10.5289, -10.5289, -10.5289, -10.5289, -10.5289, -10.5289, -10.5289, -10.5289, -10.5288, -10.5289, -10.5289, -10.5289, -10.5289, -10.5289, -10.5289, -10.5289, -10.5289, -10.5289, -10.5289, -10.5289, -10.5289, -10.5289, -10.5289, -10.5287, -10.5289, -10.5289, -10.5289, -10.5289, -10.5289, -10.5288, -10.5289, -10.5289, -10.5289, -10.5289, -10.5289, -10.5289, -10.5289, -10.5289, -10.5289, -10.5289, -10.5289, -10.5289], \"loglift\": [30.0, 29.0, 28.0, 27.0, 26.0, 25.0, 24.0, 23.0, 22.0, 21.0, 20.0, 19.0, 18.0, 17.0, 16.0, 15.0, 14.0, 13.0, 12.0, 11.0, 10.0, 9.0, 8.0, 7.0, 6.0, 5.0, 4.0, 3.0, 2.0, 1.0, 1.0536, 1.0536, 1.0535, 1.0535, 1.0534, 1.0534, 1.0534, 1.0533, 1.0533, 1.0533, 1.0533, 1.0533, 1.0532, 1.0532, 1.0532, 1.0532, 1.0532, 1.0531, 1.0531, 1.053, 1.053, 1.0529, 1.0528, 1.0528, 1.0527, 1.0527, 1.0527, 1.0527, 1.0526, 1.0526, 1.0512, 1.0211, 1.0192, 1.0079, 1.0232, 0.9998, 0.9865, 0.9036, 0.9628, 0.9131, 0.8686, 0.8809, 0.7947, 0.6018, 0.483, 0.3601, 0.0503, 0.4308, 0.2737, 0.0255, -0.1493, 0.442, 0.2118, 1.8623, 1.8623, 1.8621, 1.8619, 1.8619, 1.8619, 1.8618, 1.8617, 1.8617, 1.8616, 1.8615, 1.8615, 1.8614, 1.8614, 1.8614, 1.8614, 1.8613, 1.8613, 1.8613, 1.8612, 1.8611, 1.8611, 1.861, 1.861, 1.861, 1.8608, 1.8607, 1.8607, 1.8606, 1.8606, 1.853, 1.8584, 1.8468, 1.843, 1.7673, 1.8006, 1.6786, 1.7585, 1.3622, 1.7225, 1.601, 1.0759, 1.4081, 1.4881, 1.1447, 0.1674, 0.0436, 0.2738, -0.4368, -0.7956, 2.0979, 2.0979, 2.0978, 2.0977, 2.0975, 2.0973, 2.0973, 2.0973, 2.0972, 2.0972, 2.097, 2.0969, 2.0968, 2.0967, 2.0965, 2.0963, 2.0963, 2.0962, 2.0962, 2.0961, 2.096, 2.0959, 2.0958, 2.0955, 2.0954, 2.0954, 2.0953, 2.0953, 2.0953, 2.0952, 2.0893, 2.089, 2.0451, 2.0604, 1.9767, 1.794, 1.9467, 1.5243, 1.8099, 1.4923, 1.6134, 0.9075, 0.4582, 1.4197, -0.3956, 2.3769, 2.3768, 2.3768, 2.3767, 2.3767, 2.3767, 2.3754, 2.3745, 2.3743, 2.3743, 2.3741, 2.3736, 2.3735, 2.3731, 2.3713, 2.3705, 2.3705, 2.3697, 2.3697, 2.3695, 2.3695, 2.3692, 2.3692, 2.3689, 2.3687, 2.3644, 2.364, 2.3631, 2.3616, 2.3615, 2.3047, 2.0293, 2.1825, 1.9046, 1.7091, 1.4734, 1.329, 1.386, 1.6331, 1.6463, 1.955, 1.3948, -0.7779, 3.1118, 3.1116, 3.1114, 3.1113, 3.1113, 3.1112, 3.111, 3.111, 3.1107, 3.1105, 3.1104, 3.11, 3.1099, 3.1099, 3.1097, 3.1095, 3.1094, 3.1094, 3.1093, 3.1091, 3.109, 3.1089, 3.1088, 3.1088, 3.1083, 3.1083, 3.1082, 3.1081, 3.1079, 3.1078, 2.7748, 2.5286, 2.5965, 2.131, 2.138, 2.3924, 3.1987, 3.1986, 3.1982, 3.198, 3.1977, 3.1972, 3.197, 3.1968, 3.1967, 3.1967, 3.1962, 3.1962, 3.1954, 3.1949, 3.1948, 3.1944, 3.1942, 3.1939, 3.1939, 3.1928, 3.1924, 3.1905, 3.19, 3.19, 3.1896, 3.1893, 3.189, 3.1871, 3.1868, 3.1865, 3.1396, 3.0792, 2.7428, 2.8102, 2.8748, 2.3774, 2.5651, 2.8489, 2.3663, 2.1156, 2.6517, 3.3089, 3.3088, 3.3086, 3.3086, 3.3085, 3.3078, 3.3078, 3.3069, 3.3066, 3.3058, 3.3055, 3.304, 3.3036, 3.3029, 3.3027, 3.3018, 3.3016, 3.3015, 3.3009, 3.3008, 3.2994, 3.2916, 3.2912, 3.2903, 3.2901, 3.2892, 3.2874, 3.2866, 3.2629, 3.2612, 3.256, 2.7348, 2.4274, 1.9878, 2.3368, 1.8307, 1.4027, 2.4585, 1.4669, 2.1716, 0.8629, 1.1378, 0.1999, -0.0107, 0.0701, 3.5439, 3.5438, 3.5437, 3.5428, 3.5426, 3.5425, 3.5425, 3.5423, 3.5421, 3.5416, 3.5411, 3.5409, 3.5409, 3.5407, 3.5407, 3.5407, 3.5405, 3.5398, 3.5393, 3.5388, 3.5385, 3.5381, 3.5375, 3.5375, 3.5363, 3.5357, 3.5343, 3.5298, 3.5296, 3.529, 3.4397, 2.9432, 2.0264, 1.8941, 1.6747, 1.9943, 3.5724, 3.5721, 3.572, 3.5717, 3.5711, 3.5711, 3.5703, 3.57, 3.5688, 3.5677, 3.5672, 3.5667, 3.5645, 3.5637, 3.5627, 3.5627, 3.5619, 3.5616, 3.5599, 3.5597, 3.5595, 3.5594, 3.559, 3.5586, 3.5581, 3.5579, 3.553, 3.5512, 3.551, 3.5456, 3.4276, 2.7478, 2.9675, 2.6802, 2.591, 1.5295, 2.2725, 2.7593, 1.8821, 2.1733, 1.8322, 2.1564, 1.785, 0.9116, 0.1303, 1.6054, 2.3013, 3.7643, 3.7638, 3.7637, 3.7631, 3.7629, 3.7628, 3.7625, 3.7624, 3.7622, 3.7622, 3.7621, 3.762, 3.762, 3.762, 3.7619, 3.7618, 3.7617, 3.7616, 3.7616, 3.7607, 3.76, 3.7599, 3.7597, 3.7597, 3.7588, 3.7588, 3.7588, 3.7588, 3.7585, 3.7583, 3.5781, 3.1906, 4.1092, 4.1088, 4.1085, 4.1082, 4.1082, 4.1081, 4.1078, 4.1076, 4.1075, 4.1072, 4.1069, 4.1065, 4.1065, 4.106, 4.1059, 4.1058, 4.1056, 4.1055, 4.105, 4.105, 4.1047, 4.1044, 4.1038, 4.1037, 4.1034, 4.102, 4.1018, 4.1017, 4.1017, 4.1017, 2.818, 4.3552, 4.3552, 4.3551, 4.3548, 4.3544, 4.3532, 4.353, 4.3524, 4.3524, 4.352, 4.3516, 4.3502, 4.35, 4.3499, 4.3499, 4.3494, 4.3491, 4.3481, 4.3481, 4.3468, 4.3465, 4.3453, 4.3451, 4.345, 4.3449, 4.3446, 4.3442, 4.344, 4.3431, 4.3412, 3.0427, 4.4718, 4.471, 4.4706, 4.4706, 4.47, 4.4699, 4.4698, 4.4695, 4.4691, 4.4691, 4.4687, 4.4685, 4.468, 4.4678, 4.4676, 4.4674, 4.4673, 4.467, 4.4669, 4.4665, 4.4665, 4.4659, 4.4636, 4.4635, 4.4633, 4.4631, 4.4631, 4.4621, 4.462, 4.461, 4.7356, 4.7354, 4.7352, 4.7347, 4.7334, 4.733, 4.7325, 4.7323, 4.7308, 4.7284, 4.7271, 4.7198, 4.7196, 4.7171, 4.7144, 4.7142, 4.7123, 4.7115, 4.7061, 4.7012, 4.6982, 4.6978, 4.6956, 4.6926, 4.6901, 4.6744, 4.1452, 3.9755, 1.7121, 1.7121, 1.7121, 1.712, 1.7119, 5.0095, 5.0087, 5.0086, 5.0083, 5.0066, 5.0063, 5.0059, 5.0058, 5.005, 5.0048, 5.0039, 5.0001, 4.9996, 4.9995, 4.9994, 4.999, 4.9979, 4.9976, 4.9974, 4.9974, 4.996, 4.9954, 4.993, 4.9927, 4.9876, 4.9859, 4.9859, 4.9854, 4.9847, 4.9814, 4.809, 5.1338, 5.1336, 5.1325, 5.1322, 5.132, 5.1309, 5.1307, 5.1296, 5.1296, 5.128, 5.1265, 5.1257, 5.1186, 5.1184, 5.1176, 5.1172, 5.1131, 5.1039, 5.1003, 5.0945, 5.0939, 5.0862, 5.055, 5.0458, 4.983, 2.0883, 2.0883, 2.0883, 2.0883, 2.0883, 2.0883, 2.0883, 2.0883, 2.0882, 2.0882, 2.0882, 2.0881, 5.1664, 5.1633, 5.1633, 5.1629, 5.1621, 5.1617, 5.1616, 5.161, 5.1601, 5.158, 5.1572, 5.157, 5.1558, 5.1543, 5.1518, 5.1477, 5.1473, 5.1466, 5.1429, 5.1368, 5.1368, 5.1361, 5.1339, 5.1132, 5.0925, 5.0922, 5.0907, 5.0824, 5.0296, 5.0173, 4.6469, 5.2751, 5.2744, 5.2733, 5.2728, 5.2725, 5.2708, 5.2706, 5.2688, 5.2663, 5.2662, 5.2658, 5.2634, 5.2629, 5.2618, 5.2578, 5.2559, 5.2535, 5.2533, 5.2509, 5.248, 5.2464, 5.245, 5.2372, 5.2337, 5.2278, 5.219, 5.1767, 5.1691, 5.1681, 5.147, 5.4701, 5.4688, 5.4684, 5.4681, 5.4671, 5.4657, 5.4624, 5.4623, 5.4601, 5.4599, 5.4598, 5.4559, 5.4555, 5.454, 5.45, 5.4444, 5.4046, 5.388, 5.3788, 2.3067, 2.3067, 2.3067, 2.3067, 2.3067, 2.3067, 2.3067, 2.3067, 2.3067, 2.3067, 2.3067, 2.3067, 2.3067, 2.3067, 2.3067, 2.3065, 2.3066, 6.3437, 6.343, 6.3421, 6.3401, 2.8541, 2.8541, 2.854, 2.854, 2.854, 2.854, 2.854, 2.854, 2.854, 2.854, 2.854, 2.854, 2.854, 2.854, 2.854, 2.854, 2.854, 2.854, 2.854, 2.854, 2.854, 2.854, 2.854, 2.854, 2.854, 2.854, 2.854, 2.854, 2.854, 2.854, 2.854, 2.854, 2.854, 2.854, 2.854, 2.854, 2.854, 2.854, 2.854, 2.854, 2.854, 2.854, 2.854, 2.854, 2.854, 2.8539, 2.8539, 2.8539]}, \"token.table\": {\"Topic\": [10, 15, 1, 6, 2, 7, 6, 9, 9, 10, 10, 17, 13, 5, 20, 1, 8, 7, 1, 1, 8, 5, 12, 4, 4, 14, 9, 1, 5, 1, 2, 3, 4, 12, 9, 13, 16, 17, 7, 11, 4, 1, 2, 5, 13, 2, 4, 1, 2, 3, 4, 3, 15, 3, 5, 2, 8, 12, 3, 12, 3, 6, 13, 18, 3, 6, 14, 2, 10, 1, 2, 3, 12, 11, 3, 2, 2, 3, 9, 1, 2, 3, 4, 6, 1, 2, 3, 4, 17, 9, 18, 10, 7, 13, 5, 17, 1, 2, 7, 9, 14, 1, 7, 14, 13, 15, 19, 15, 8, 1, 3, 5, 8, 3, 8, 11, 18, 5, 9, 1, 2, 3, 8, 11, 9, 1, 9, 18, 1, 2, 4, 5, 6, 14, 10, 10, 10, 6, 7, 18, 10, 2, 8, 3, 13, 7, 19, 15, 1, 7, 10, 6, 7, 15, 6, 12, 5, 3, 7, 8, 9, 9, 8, 19, 6, 18, 7, 1, 2, 3, 5, 2, 19, 1, 6, 9, 1, 2, 18, 8, 9, 17, 1, 6, 1, 4, 11, 16, 15, 15, 9, 19, 4, 4, 7, 18, 8, 7, 4, 1, 18, 1, 5, 7, 11, 1, 13, 13, 19, 17, 9, 8, 3, 4, 6, 1, 17, 11, 5, 17, 13, 4, 10, 11, 11, 13, 5, 14, 2, 5, 8, 16, 4, 17, 15, 17, 5, 11, 18, 14, 1, 17, 9, 15, 1, 1, 7, 11, 10, 18, 1, 2, 5, 17, 12, 9, 10, 4, 7, 4, 8, 14, 17, 1, 13, 11, 17, 15, 19, 10, 14, 2, 13, 16, 10, 13, 3, 9, 16, 20, 10, 6, 2, 8, 8, 9, 8, 16, 5, 16, 14, 2, 5, 9, 17, 12, 7, 1, 2, 3, 6, 1, 18, 7, 19, 17, 12, 3, 10, 3, 17, 1, 7, 2, 4, 8, 6, 4, 13, 9, 2, 6, 6, 13, 3, 13, 7, 1, 9, 3, 9, 5, 3, 9, 12, 6, 9, 18, 14, 19, 8, 19, 3, 6, 17, 16, 1, 4, 5, 6, 17, 2, 11, 1, 18, 17, 1, 12, 10, 17, 7, 6, 17, 16, 6, 3, 9, 8, 1, 5, 1, 1, 5, 15, 11, 1, 7, 16, 16, 4, 9, 15, 12, 6, 16, 2, 9, 5, 15, 19, 3, 5, 4, 1, 7, 8, 7, 9, 5, 1, 2, 16, 12, 2, 2, 11, 2, 4, 6, 1, 4, 6, 3, 5, 11, 19, 9, 3, 2, 1, 16, 17, 5, 14, 2, 1, 9, 1, 6, 1, 6, 15, 3, 6, 17, 18, 1, 2, 4, 15, 1, 4, 9, 13, 16, 2, 7, 11, 7, 15, 18, 12, 4, 20, 13, 3, 9, 19, 16, 1, 2, 3, 11, 17, 2, 8, 8, 1, 2, 3, 9, 15, 2, 3, 11, 8, 1, 2, 7, 8, 18, 2, 1, 2, 3, 7, 4, 3, 4, 1, 3, 6, 15, 15, 1, 7, 1, 19, 12, 13, 14, 15, 9, 13, 2, 4, 13, 5, 12, 19, 3, 7, 1, 12, 12, 15, 15, 8, 6, 4, 6, 7, 1, 3, 4, 8, 9, 7, 15, 12, 18, 7, 9, 3, 12, 14, 1, 3, 5, 6, 9, 1, 2, 12, 10, 10, 10, 11, 2, 1, 2, 3, 13, 1, 12, 2, 2, 1, 2, 3, 4, 7, 1, 2, 3, 16, 11, 15, 9, 18, 18, 7, 10, 3, 4, 7, 13, 1, 2, 3, 7, 1, 6, 10, 9, 8, 1, 3, 9, 6, 14, 1, 4, 9, 7, 19, 19, 8, 2, 7, 1, 2, 3, 13, 13, 12, 9, 4, 13, 16, 7, 1, 13, 15, 1, 2, 2, 5, 6, 6, 10, 11, 5, 6, 5, 3, 1, 3, 4, 2, 17, 11, 16, 15, 2, 3, 8, 2, 6, 19, 2, 10, 11, 12, 15, 3, 10, 18, 10, 4, 1, 2, 3, 4, 6, 1, 3, 9, 14, 1, 5, 4, 13, 5, 3, 8, 11, 7, 14, 9, 10, 14, 4, 15, 11, 2, 8, 12, 14, 14, 1, 7, 7, 6, 9, 1, 2, 6, 2, 2, 1, 3, 12, 18, 5, 5, 10, 1, 18, 17, 2, 8, 19, 7, 5, 11, 11, 8, 3, 11, 1, 7, 9, 2, 3, 2, 4, 2, 8, 2, 9, 8, 8, 14, 14, 12, 12, 20, 12, 17, 3, 5, 8, 12, 12, 14, 1, 7, 4, 7, 4, 7, 4, 2, 3, 2, 3, 4, 6, 7, 6, 3, 7, 7, 4, 5, 16, 17, 4, 16, 1, 2, 3, 1, 6, 11, 15, 14, 6, 5, 18, 3, 6, 8, 5, 8, 3, 14, 7, 10, 17, 2, 3, 16, 11, 18, 4, 9, 15, 1, 6, 18, 7, 14, 3, 18, 6, 16, 10, 18, 16, 17, 10, 3, 2, 2, 8, 3, 9, 14, 14, 16, 13, 1, 11, 18, 18], \"Freq\": [0.9949773837286029, 0.9946354386902588, 0.998759619006183, 0.9991100108989762, 0.9995713496845343, 0.9968601144540871, 0.9971281559231087, 0.9874471441648883, 0.985845413790827, 0.9990955539782816, 0.9969471306565303, 0.9910264046954937, 0.9886283932761574, 0.9994032180907336, 0.9953030584553574, 0.8451713455598652, 0.1540565490640767, 0.9902097330259818, 0.9992667397134568, 0.9997911994855536, 0.988040044017489, 0.9954283331176468, 0.9947716842429704, 0.9863544104214514, 0.9935527922742013, 0.998203581575308, 0.9834808188758023, 0.9993583992590628, 0.9966472196580439, 0.3632960832085898, 0.6345407939825707, 0.001636468843281936, 0.991194711548132, 0.9857668266302427, 0.9948466710293258, 0.994871339648349, 0.9439105043964675, 0.9466495546126974, 0.9983443186757107, 0.9973868438058762, 0.9947224806788653, 0.04706217011052591, 0.8693428645416592, 0.08301243894495543, 0.9928199564902987, 0.9982319861768588, 0.9953468640637126, 0.4584017824937911, 0.16219513859318588, 0.008243434241686644, 0.3710659386359218, 0.9994861941533513, 0.9813052691962404, 0.9991316711418929, 0.9961834796341991, 0.687382599800899, 0.043227780855503835, 0.268499314891228, 0.9985410877859944, 0.9965871931813071, 0.29309510012225787, 0.7034282402934188, 0.9943730252240248, 0.98910048984421, 0.999135200167741, 0.9983325151105874, 0.9681630974581363, 0.9982702890481113, 0.9937184220691738, 0.00704638712065886, 0.044039919504117876, 0.9481794669236578, 0.9975656344729814, 0.994339103497248, 0.9983209975522939, 0.9988961263633563, 0.3075962058681812, 0.5072639184492813, 0.18415299167108218, 0.43095285707148917, 0.0035686159300083883, 0.5454884350155679, 0.00016993409190516135, 0.019882288752903876, 0.4997584423236074, 0.10030720768182161, 0.04934945323080337, 0.3505250185741969, 0.9246981333860121, 0.9965601280836869, 0.9564343831193728, 0.9986228074025004, 0.9797310760378618, 0.9980208276286717, 0.4033171831493841, 0.5942206498400925, 0.5424396428003645, 0.1906159093022254, 0.2668193415120115, 0.9996672037168711, 0.9941660783787368, 0.8413277252393803, 0.15842515340545588, 0.9732446654556174, 0.9900569480809183, 0.962010828670798, 0.9946832623302733, 0.9961009084813038, 0.9977222858321725, 0.9991185821978196, 0.9986968975085023, 0.9990320318108346, 0.994438635971004, 0.4508711833001417, 0.5479251982339597, 0.9959685939837651, 0.9825635498461164, 0.9977991705093355, 0.9921380736874734, 0.3666377114061481, 0.07003460351298696, 0.5632595624954199, 0.9962275666185945, 0.9898812598322325, 0.9900747806539929, 0.7559148624396651, 0.24301436072248894, 0.9783294290822997, 0.565083849182801, 0.028740485850914068, 0.4049895078459602, 0.0005463970694090127, 0.0005463970694090127, 0.9775428977359591, 0.9926910512273246, 0.9976939594836632, 0.9965600856225344, 0.9971961088142226, 0.9932429293830664, 0.995395267735248, 0.9984237804848627, 0.9904391157996728, 0.00939614512617197, 0.9984878116015492, 0.9963956571192725, 0.9887296659296844, 0.9914398682419264, 0.9916074933508381, 0.9997474909182804, 0.9949447597226245, 0.9980661883849227, 0.9873424901675077, 0.9762963786441966, 0.9960802448469654, 0.9882795873151794, 0.9910564865148441, 0.9967396990109214, 0.19396788516704913, 0.14862264745328804, 0.21914175379105882, 0.43820282210575867, 0.9821173260744489, 0.9864405132269866, 0.9711434520686658, 0.9919456953519766, 0.9926633142615744, 0.9859677551460472, 0.0733604435517482, 0.31055921103573403, 0.6157386562110065, 0.9983153844400313, 0.9987574219335839, 0.997297392781679, 0.9988817151247872, 0.9934288288738267, 0.9978299747728298, 0.09811269642160092, 0.9011832856502603, 0.9985087771259784, 0.9968693452650474, 0.9790874432465673, 0.9553322017026767, 0.365270282283229, 0.6335444223803233, 0.29379627868187863, 0.7060587987677405, 0.9943960956615896, 0.9963455809420816, 0.9938594923778323, 0.9659519414505324, 0.9994045241632874, 0.9863248988581163, 0.9968988938055474, 0.9990806229951251, 0.9975718418998601, 0.9902384731038386, 0.9994806669562539, 0.9993931361605819, 0.9994152935299905, 0.9991899045460452, 0.9696611974476926, 0.2813137274773514, 0.7135308451908979, 0.004347011241371876, 0.9954611047172512, 0.999341204503382, 0.996096039152075, 0.99173183453743, 0.9963531108530066, 0.9937751156065745, 0.9926213043241049, 0.9890041011186019, 0.9971331824230069, 0.9930206273077524, 0.9882451528941397, 0.9994173014985435, 0.9064098257870837, 0.9957130407193611, 0.9994313683870099, 0.9166950069613257, 0.9938703690269266, 0.9891108839515991, 0.9966926855237448, 0.9878037012570695, 0.9959605741412053, 0.9861928627583646, 0.9978416734564318, 0.975897612770271, 0.940088240053603, 0.05964510823699861, 0.9979314974010034, 0.9949666703614707, 0.9874456694822976, 0.9769972103206077, 0.9927120699718289, 0.8676836630116707, 0.9990792787117738, 0.9888658035882439, 0.9927172062110484, 0.9900291969062801, 0.9996168373148661, 0.9887649680181883, 0.9940534877398783, 0.9869550652105563, 0.9985553472271452, 0.771808268843559, 0.22795267475146974, 0.9957325116061133, 0.9982828393252785, 0.9353249076420816, 0.06598092144349794, 0.9091476438898821, 0.02465602853941239, 0.986392539885816, 0.9862011065927878, 0.9942195405509784, 0.995974462799105, 0.6541557053005749, 0.34117603595417917, 0.9992163972335364, 0.5282736112990987, 0.46702449694558, 0.9906180649867686, 0.99948077612226, 0.9937935035309473, 0.9969971258601846, 0.973931019258635, 0.990460954684024, 0.987657326646337, 0.9969318842998443, 0.9594821846423355, 0.9990013668442619, 0.9890640793507175, 0.9784028466261143, 0.9983065131513736, 0.9950587783215498, 0.9629704810953116, 0.03590425311923246, 0.9891979541444971, 0.9931068875082215, 0.9972214063865789, 0.9906062094343818, 0.786998459447326, 0.2119282605498622, 0.9977581613093287, 0.9864487352253392, 0.9951705671508356, 0.9473052180904674, 0.9987479227965689, 0.9697653919274802, 0.9988373550705848, 0.34929915346373525, 0.3779482953882056, 0.2721668482824688, 0.948246650394145, 0.9925923872044644, 0.9981772046164167, 0.24168839532472347, 0.008128533475046754, 0.7494507863993106, 0.998365251546777, 0.999052172774144, 0.9512713780180476, 0.9995671741725904, 0.9886821023676512, 0.998165555455561, 0.9891665425818631, 0.9974091166150602, 0.9948493275511225, 0.9992455290424297, 0.9947777824759607, 0.585194751680489, 0.41390598745469775, 0.015433149875620063, 0.9844725078553429, 0.9986233029101276, 0.9946862171205247, 0.9972907004375233, 0.9936999097772183, 0.98108412833946, 0.9985716109282987, 0.986809113282625, 0.991948845225851, 0.9892451518647688, 0.9991836106770992, 0.9940048431419993, 0.9742839170941225, 0.9678424571672346, 0.03201102813556107, 0.9908239587497956, 0.00871181675336866, 0.9984947979773372, 0.9963928139245742, 0.9866193890057247, 0.9927826393729587, 0.8869376934552835, 0.11086721168191044, 0.9185998203585725, 0.9956296413510636, 0.9905060168123848, 0.9994105547559072, 0.9268864518097332, 0.9988735387008915, 0.9933890410395416, 0.9037201357495548, 0.8767373673736814, 0.5593190049830296, 0.0016378301756457675, 0.37506311022288075, 0.06305646176236204, 0.9930936169230028, 0.9985765262915042, 0.9951799905343999, 0.9995652409626397, 0.9108277578331648, 0.9792359611450838, 0.9996820075018528, 0.9982487886452838, 0.9960954419957334, 0.9833098279724266, 0.9830391725845053, 0.9997804528923322, 0.9867184125404616, 0.8933441691637208, 0.9905295094714185, 0.6238751339099795, 0.37509847927232237, 0.9934114036409364, 0.5111259551037562, 0.4866311010253015, 0.9996787777568531, 0.9990770332435702, 0.999622449349341, 0.9875084992687924, 0.991081413117675, 0.43506960933436656, 0.5635350451614433, 0.9758381433243619, 0.9977228405848202, 0.9299917112514626, 0.06989122400142717, 0.9894247200652264, 0.9952595311260081, 0.9946033361969968, 0.9967034989404004, 0.9988473401211004, 0.9984273959554967, 0.9987249717843252, 0.9964560137011605, 0.9813785557354398, 0.9991244680063246, 0.9958494588780166, 0.9908665121283076, 0.9551572256074372, 0.04464719598624802, 0.9873651442802102, 0.9994586976802184, 0.9858965585646033, 0.998262418285995, 0.003532582146514672, 0.9953050197805089, 0.9969019066536475, 0.9990611208332768, 0.9996967407517803, 0.9986513144255881, 0.9969615652057262, 0.3973537816920506, 0.0707616323561186, 0.5301679224219963, 0.376484306917006, 0.623200935283794, 0.9970482666044829, 0.997778694573247, 0.9979401439821458, 0.9978022131911858, 0.986105571123933, 0.9698181687646327, 0.9961498106008281, 0.9987299491266998, 0.9993785571553111, 0.9870159593540881, 0.9849009782745469, 0.9980746843134009, 0.9796127081928838, 0.9985930061410865, 0.9991326450268672, 0.9917118932068272, 0.05593746087063038, 0.942945768962055, 0.5638279128726669, 0.4348258657459817, 0.9903232218236365, 0.41777085605869624, 0.5792405734310758, 0.9934984618673628, 0.9809680944760308, 0.4274718536642972, 0.09738052277779634, 0.47544608179747627, 0.9693510866703448, 0.7463510894742315, 0.005679993070580148, 0.24651169926317842, 0.9965163435968669, 0.9142072988337868, 0.9985821665242419, 0.9467971383214665, 0.04964479376966491, 0.9951470952241189, 0.9874760040584217, 0.9873074271722103, 0.9839790104468483, 0.9916425302207151, 0.993493396865586, 0.9955412101312504, 0.8590825175172654, 0.1397746056093743, 0.982826231928994, 0.9771436357988331, 0.8688437267029216, 0.0014609430907807953, 0.12960652276783913, 0.9983583759772607, 0.9915824207435592, 0.9991127454745343, 0.9976631067435541, 0.9952457679867021, 0.34099671524115527, 0.2899763733774218, 0.19310230654754817, 0.1756649745181709, 0.9741480705843437, 0.008593369780026639, 0.9911019812964056, 0.9984587311904037, 0.9945592560027102, 0.09160658073435277, 0.7696158131432137, 0.053035388846204234, 0.08497715712857723, 0.9829176749534586, 0.9983115798030455, 0.536414841847672, 0.45530237513488975, 0.0037539654015833076, 0.004558386559065445, 0.9891140981291143, 0.015395127914426286, 0.9844167641885034, 0.9990563629010855, 0.9995925624448894, 0.9973944542804836, 0.9882841743916956, 0.9974130204134805, 0.9998385949706555, 0.9921255961757337, 0.9994043317127617, 0.9871560537653853, 0.9866589772014062, 0.9965508268540146, 0.955498006633422, 0.9619612440155586, 0.99188052343076, 0.9965598075665493, 0.6245580777645128, 0.37451836205636296, 0.9967231392722681, 0.996953103066842, 0.982787236074577, 0.9954759190682295, 0.8852660036915094, 0.11402611025809116, 0.9998450013575286, 0.9963967762213733, 0.992292592253777, 0.9841819985140061, 0.9676536246676399, 0.9961171692293358, 0.9995921700812855, 0.9887761073183989, 0.6776403675901436, 0.3210594483542011, 0.1846823125595721, 0.09274794551449876, 0.4816384538998532, 0.07322206224828849, 0.1675971647016381, 0.17217872864261244, 0.8139358081287134, 0.9952388716383892, 0.9542089946674971, 0.13107532679438044, 0.8658915527628768, 0.9984749293156862, 0.9873997141000767, 0.9522733806124565, 0.6363899254390128, 0.3040279785136203, 0.012892705203240307, 0.026534986290389934, 0.020088633688769782, 0.9348797932722577, 0.06475975376039136, 0.9860712316289957, 0.9974112825909444, 0.9929769289141932, 0.9972280336262854, 0.9911679720890484, 0.9993902659954216, 0.9658864791332871, 0.03213574548229879, 0.0015549554265628447, 0.9967387608638618, 0.9990046547434132, 0.9907301006511127, 0.9986351891028515, 0.9979939216474947, 0.30029025383977453, 0.18357295990329503, 0.0020542243732820397, 0.5126223549690181, 0.001493981362386938, 0.5089903362682047, 0.487614355426513, 0.002823242752676254, 0.9967007110181764, 0.998468854297267, 0.9887831990979455, 0.9974112382477144, 0.9834784259278649, 0.8676734177719814, 0.16905388775252608, 0.8283640499873778, 0.5087187846726445, 0.06222859751347333, 0.4278216079051292, 0.9975600673061014, 0.3576767674827734, 0.6061617825161852, 0.03607754523495796, 0.9723068361515386, 0.41156961590482183, 0.020876719647346033, 0.5636714304783429, 0.9990398643796069, 0.9983074526873021, 0.3940603272591831, 0.05772858297427523, 0.5446566306703359, 0.9924408532266009, 0.9607417856326299, 0.0028983442255177227, 0.9968492670640018, 0.9849213002717621, 0.9929925580736468, 0.9608071062823007, 0.9289221649678511, 0.9962885099738576, 0.9973323337771767, 0.9726062905444148, 0.947643205336438, 0.016939004663412, 0.035132750413002664, 0.9861166815426959, 0.9860171257174282, 0.998224666702956, 0.9853741191013576, 0.9995549762790241, 0.9974393211097885, 0.9805898204929666, 0.9919830332002213, 0.9996486013499296, 0.9963130310738384, 0.9952842549401845, 0.9991670372191274, 0.9975539625606795, 0.06336406177041717, 0.5970082694931493, 0.3386017050856668, 0.9978305818648963, 0.9984261170074743, 0.9973672541037599, 0.9979011550697034, 0.9965342541799928, 0.9995438688601616, 0.9987903379629018, 0.0020863342109814337, 0.0006954447369938113, 0.9969200304806285, 0.9989597783904528, 0.9964406378095395, 0.9935538556908007, 0.9859641005131432, 0.9928905473307709, 0.3204875994266283, 0.4862066998135181, 0.19200054362005295, 0.9988774141252832, 0.9859923378360725, 0.9963841641373609, 0.9993842489718939, 0.9976534772812595, 0.9941589904302177, 0.9869361248167986, 0.9657353079399306, 0.9996468042877414, 0.9958197731186682, 0.9972057250381865, 0.998953472321464, 0.9977532973456024, 0.8605886446261977, 0.007707041163570825, 0.08254891077607787, 0.042620866193722996, 0.006407058316703457, 0.3465699002893186, 0.3701996662181358, 0.2796188968243366, 0.9850788448845516, 0.44156564252132985, 0.5582163599399801, 0.9906684290283111, 0.9847967765952348, 0.9979186660986616, 0.9979321663824553, 0.9974105029523449, 0.9972997575222118, 0.9947918785216957, 0.9614966577145742, 0.9920652899604269, 0.994501173667178, 0.996091505155774, 0.9932765862828806, 0.9806722863547199, 0.9932725501978796, 0.9805857588035835, 0.018802632214130303, 0.9970980567377572, 0.979369046106922, 0.9985954048976622, 0.912974811188706, 0.08667882822789516, 0.9996719413337622, 0.9973128784625196, 0.9980600961821011, 0.9699913925376599, 0.02973340449487299, 0.9985362733031509, 0.9988031994903972, 0.9981244589487556, 0.9973445605037669, 0.0021558380124372155, 0.9985296075752768, 0.9973476477613216, 0.9980831424145575, 0.9946656767843308, 0.9926871759308232, 0.9995213261268334, 0.9958907634293186, 0.9906874190777227, 0.9985472000085381, 0.9962874197104813, 0.945656208596578, 0.979278151600506, 0.9989909723888132, 0.9872022766685166, 0.9936566733721819, 0.9927043215609916, 0.9982280018320225, 0.9945923570329178, 0.8310519260178184, 0.039185604579199396, 0.12956165213469395, 0.0006755997192095857, 0.9988741848513724, 0.002663331424087262, 0.9971956740353389, 0.9987255170573753, 0.9943445252451992, 0.5896014868950191, 0.4091364615560824, 0.9926803040160161, 0.9995675641323023, 0.9884274640706652, 0.9980632963723879, 0.9964178235487526, 0.9908431938735796, 0.9889741748865628, 0.9962890281892237, 0.9577261628448659, 0.9979063212582636, 0.9946782620382334, 0.9990056990684635, 0.995119171522359, 0.9951347342965959, 0.9889208225500462, 0.6211033881628365, 0.3778678127406852, 0.044482701011884646, 0.9547506558648411, 0.8227605965684547, 0.1749327436629191, 0.995261622241595, 0.001770112226339154, 0.9977532582465032, 0.20412915262337797, 0.7377148602377251, 0.004120352954550943, 0.017854862803054088, 0.03622476972542704, 0.9952984906935923, 0.9961974334089051, 0.9993093469912779, 0.994796618331916, 0.9993516480395577, 0.9978494610434571, 0.9867358141607251, 0.9576641924265075, 0.9996230729097584, 0.9953403360591141, 0.09135167722717133, 0.8318677781969269, 0.0765230482584321, 0.9994403536851263, 0.7241993548011082, 0.27506681725383336, 0.992572538802939, 0.9970067244088839, 0.9998035828212564, 0.9969279862501811, 0.9486188298846748, 0.07609907236218519, 0.02327736331078606, 0.9006549034865683, 0.9984742671780596, 0.9936609701208007, 0.9973339809376462, 0.9681426743106684, 0.9983656682921132, 0.9961035708343186, 0.9948354654724725, 0.9839402278414243, 0.014945927511515305, 0.9949041893675441, 0.9952138805751674, 0.9762615043618281, 0.9945082404060629, 0.997742062485391, 0.9768353857867197, 0.5598912493879642, 0.43969082032355505, 0.9603187064011448, 0.9974619738528623, 0.965369466441233, 0.9978321844199898, 0.9616465837923299, 0.9987503426362382, 0.9589734248225298, 0.9931618995060798, 0.9857399667790373, 0.994601572748734, 0.9884704970468582, 0.9934110090515832, 0.998052090782905, 0.9986448284139037, 0.9986862508627812, 0.9981722938490096, 0.9967116470968352, 0.44465873231419556, 0.5535547483911414, 0.9941444038336349, 0.9955862252615763, 0.9920606657227541, 0.999467798329058, 0.9987091925596084, 0.9934037705384053, 0.963926275255753], \"Term\": [\"aaox\", \"abd\", \"abdominal\", \"abg\", \"able\", \"abx\", \"accept\", \"accompany\", \"achieve\", \"activate\", \"active\", \"actively\", \"activity\", \"acute\", \"add\", \"additional\", \"additional\", \"adequate_access\", \"administer\", \"admit\", \"advanced\", \"afib_rvr\", \"afternoon\", \"aggressive\", \"agitation\", \"airway\", \"alarm\", \"alert\", \"aline\", \"also\", \"also\", \"also\", \"am\", \"aml\", \"amp\", \"anemia\", \"aneurysm\", \"angiogram\", \"antibiotic\", \"anxiety\", \"aox\", \"appear\", \"appear\", \"appear\", \"apply\", \"arm\", \"arousable\", \"arrival\", \"arrival\", \"arrival\", \"arrival\", \"arrive\", \"arterial\", \"ask\", \"aspiration\", \"assessment\", \"assessment\", \"assessment\", \"assist\", \"assistance\", \"assume\", \"assume\", \"asystole\", \"atrial_fibrillation\", \"attempt\", \"available\", \"avr\", \"await\", \"axillary\", \"back\", \"back\", \"back\", \"background\", \"bad\", \"bag\", \"baseline\", \"become\", \"become\", \"become\", \"bed\", \"bed\", \"bed\", \"bed\", \"bed\", \"bedside\", \"bedside\", \"bedside\", \"bedside\", \"beta\", \"bicarb\", \"bicu\", \"bilateral\", \"blanket\", \"bleed\", \"blender\", \"blender\", \"blood\", \"blood\", \"blood\", \"blue\", \"body\", \"bolus\", \"bolus\", \"bph\", \"bpm\", \"brady\", \"bradycardia\", \"bradycardic\", \"brain\", \"breath\", \"breathe\", \"breathing\", \"brief\", \"bring\", \"bring\", \"bs\", \"burn\", \"bvm\", \"cabg\", \"call\", \"call\", \"call\", \"cancel\", \"cannula\", \"car\", \"cardiac\", \"cardiac\", \"cardiogenic_shock\", \"care\", \"care\", \"care\", \"care\", \"care\", \"carotid\", \"catheter\", \"cause\", \"cbc\", \"ccu\", \"cellulitis\", \"central_line\", \"chair\", \"change\", \"change\", \"charge\", \"chart\", \"chemistry\", \"chemo\", \"chemotherapy\", \"chest\", \"chill\", \"closely\", \"closer_monitoring\", \"closure\", \"clot\", \"co\", \"coag\", \"coarse\", \"code\", \"code\", \"code\", \"code\", \"cold\", \"collapse\", \"collar\", \"collect\", \"color\", \"colostomy\", \"come\", \"come\", \"come\", \"comfort\", \"command\", \"communicate\", \"complain\", \"completion\", \"compression\", \"concern\", \"concern\", \"condition\", \"confusion\", \"connect\", \"consideration\", \"consult\", \"consult\", \"continue\", \"continue\", \"contrast\", \"conversation\", \"cool\", \"cooperative\", \"cpr\", \"crash_cart\", \"criteria_reviewe\", \"criteria_reviewed\", \"criterion\", \"crrt\", \"ct\", \"culture\", \"current\", \"currently\", \"cv\", \"cxr\", \"cxr\", \"cxr\", \"d\", \"day\", \"death\", \"debrief\", \"decide\", \"deep\", \"defib\", \"defib_pad\", \"delay\", \"demand\", \"dementia\", \"deny\", \"dependence\", \"depression\", \"desaturation\", \"descend\", \"dextrose\", \"diagnosis\", \"dialysis\", \"diarrhea\", \"difficulty_breathe\", \"diffuse\", \"diminish\", \"discontinue\", \"discuss\", \"discuss\", \"discussion\", \"dismiss\", \"disorder\", \"distal\", \"distend\", \"distention\", \"distress\", \"diurese\", \"diuresis\", \"diuretic\", \"do\", \"dobutamine\", \"door\", \"dopamine\", \"dose\", \"draw\", \"draw\", \"drift\", \"drip\", \"dual_chamber\", \"due\", \"due\", \"due\", \"ecg\", \"echo\", \"ecmo\", \"ed\", \"education_complete\", \"education_complete\", \"education_completed\", \"eeg\", \"eeg\", \"effect\", \"ekg\", \"electrolyte\", \"elevate\", \"embolization\", \"end_stage\", \"entire\", \"epi\", \"epilepticus\", \"episode\", \"establish\", \"etiology\", \"evaluation\", \"evening\", \"event\", \"event\", \"evidence\", \"explain\", \"extensive\", \"extremely\", \"extremity\", \"extremity\", \"eye\", \"eyes_rolle\", \"facial\", \"factor\", \"failure\", \"faint\", \"fall\", \"family\", \"family\", \"family\", \"father\", \"fatigue\", \"febrile\", \"feel\", \"feel\", \"feel\", \"fellow\", \"female\", \"fent\", \"fever\", \"finish\", \"fio\", \"firm\", \"first\", \"flat\", \"floor\", \"flow\", \"fluid\", \"fluid\", \"follow\", \"follow\", \"following_command\", \"follows_command\", \"foot\", \"fracture\", \"front\", \"full\", \"fusion\", \"gas\", \"gastric\", \"get\", \"gi\", \"gi_bleed\", \"give\", \"give\", \"go\", \"go\", \"goal\", \"good\", \"grimace\", \"ground\", \"gtt\", \"gtt\", \"gurgle\", \"gurney\", \"hallway\", \"head\", \"heart_block\", \"help\", \"helpful\", \"hemorrhagic\", \"hemorrhagic_shock\", \"high\", \"high\", \"high\", \"high\", \"high_flow\", \"hold\", \"hospitalist\", \"hr\", \"hvad\", \"hydronephrosis\", \"hypotension\", \"hypotensive\", \"hypoxia\", \"iabp\", \"ice\", \"icu\", \"ileus\", \"iliac\", \"immediate\", \"immediately\", \"immediately\", \"improved\", \"improvement\", \"improvement\", \"imu\", \"include\", \"increase\", \"increasingly\", \"indicate\", \"infection\", \"infection\", \"inflammatory\", \"infusion\", \"initiate\", \"initiate\", \"initiation\", \"instruct\", \"insulin\", \"intact\", \"intervention\", \"intubate\", \"intubation\", \"ir\", \"ireport\", \"issue\", \"ivp\", \"knee\", \"lab\", \"lab\", \"labored\", \"lactate\", \"lad\", \"lasix\", \"last\", \"last\", \"lay\", \"lead\", \"leave\", \"left\", \"less\", \"lethargic\", \"lethargic\", \"lethargic\", \"level\", \"level\", \"levophe\", \"lie\", \"likely\", \"loc\", \"localize\", \"locate\", \"long\", \"loss\", \"low\", \"low_grade\", \"lpm\", \"lung_sound\", \"lying_flat\", \"make\", \"male\", \"manage\", \"management\", \"management\", \"map\", \"map\", \"mark\", \"mask\", \"mask\", \"mass\", \"maxe\", \"md\", \"md\", \"md\", \"me\", \"med\", \"med\", \"med\", \"medic\", \"medical_center\", \"medication\", \"meet\", \"meet\", \"meeting\", \"melena\", \"mentate\", \"met\", \"mg\", \"min\", \"minimal\", \"minute\", \"minute\", \"mom\", \"moment\", \"monitor\", \"monitor\", \"monitor\", \"morning\", \"morphine\", \"move\", \"movement\", \"mri\", \"multiple\", \"multiple\", \"multiple\", \"multiple\", \"nausea_vomiting\", \"need\", \"need\", \"negative\", \"neurology\", \"new\", \"new\", \"new\", \"new\", \"nicm\", \"normal\", \"note\", \"note\", \"note\", \"note\", \"noted\", \"notify\", \"notify\", \"ns\", \"nurse\", \"obtund\", \"oht\", \"ongoing\", \"order\", \"order_set\", \"orient\", \"ortho\", \"osa\", \"osh\", \"outside_hospital\", \"ovarian\", \"overhead\", \"overnight\", \"ox\", \"ox\", \"oxygen\", \"oxygen_requirement\", \"pacemaker\", \"pad\", \"page\", \"page\", \"pain\", \"pale\", \"palpable\", \"palpation\", \"pancreatitis\", \"past_medical\", \"pccm\", \"pco\", \"pende\", \"pende\", \"perform\", \"perform\", \"perform\", \"perform\", \"perform\", \"peripheral\", \"peripheral\", \"person\", \"pharmacist\", \"pharmacy\", \"pharmacy\", \"phone\", \"picc\", \"pillow\", \"place\", \"place\", \"place\", \"place\", \"place\", \"plan\", \"plan\", \"pleasant\", \"pna\", \"pneumonia\", \"poc\", \"possibly\", \"post\", \"present\", \"present\", \"present\", \"pressor\", \"pressure\", \"presume\", \"previous\", \"previously\", \"primary\", \"primary\", \"primary\", \"primary\", \"primary\", \"prior\", \"prior\", \"prior\", \"prn\", \"procedure\", \"proceed\", \"progress\", \"prolong\", \"prop\", \"protocol\", \"protocol\", \"provide\", \"provide\", \"provide\", \"provider\", \"pt\", \"pt\", \"pt\", \"ptld\", \"pulmonary\", \"pulmonary\", \"pulmonary\", \"pulse\", \"pupil\", \"push\", \"push\", \"push\", \"quick\", \"rale\", \"rapid\", \"rapid\", \"rapidly\", \"rash\", \"rd\", \"rd_degree\", \"reactive\", \"read\", \"reassessment\", \"receive\", \"receive\", \"receive\", \"recheck\", \"rechecke\", \"recommendation\", \"regain\", \"regarding_poc\", \"relate\", \"related\", \"relieved\", \"remain\", \"remove\", \"renal\", \"repeat\", \"request\", \"require\", \"require\", \"require\", \"requirement\", \"resection\", \"resident\", \"resp\", \"respiration\", \"respiratory\", \"respond\", \"response\", \"response\", \"response\", \"responsive\", \"restart\", \"resting\", \"restlessness\", \"resuscitation\", \"return\", \"return\", \"return\", \"review\", \"revision\", \"rhythm\", \"right\", \"rise\", \"risk\", \"rle\", \"rocephin\", \"room\", \"rosc\", \"rosc_achieve\", \"round\", \"rr\", \"rrt\", \"rrt\", \"rrt\", \"rrt\", \"rrt\", \"run\", \"run\", \"run\", \"sah\", \"sat\", \"sat\", \"sate\", \"satting\", \"saturation\", \"say\", \"scan\", \"schedule\", \"screening_tool\", \"sdh\", \"seat\", \"secondary\", \"secretion\", \"security\", \"sedate\", \"sedation\", \"see\", \"see\", \"seem\", \"seize\", \"seizure\", \"send\", \"send\", \"sepsis\", \"shallow\", \"shock\", \"show\", \"show\", \"sicu\", \"side\", \"sign\", \"sit\", \"sit\", \"situation\", \"skin\", \"sleep\", \"slight\", \"slowly\", \"sob\", \"son\", \"soon\", \"speak\", \"speech\", \"speed\", \"spike\", \"spo\", \"spontaneous\", \"spontaneously\", \"st_elevation\", \"staff\", \"stage\", \"start\", \"start\", \"start\", \"state\", \"state\", \"status\", \"status\", \"stay\", \"stemi\", \"stop\", \"stop\", \"strength\", \"stroke\", \"strong\", \"suction\", \"suggest\", \"supine\", \"support\", \"surgical\", \"surround\", \"suspect\", \"switch\", \"symptom\", \"symptomatic\", \"systolic\", \"table\", \"tachycardia\", \"tachycardia\", \"tachycardic\", \"tachycardic\", \"tachypneic\", \"tachypneic\", \"tachypnic\", \"take\", \"take\", \"team\", \"team\", \"team\", \"team\", \"team\", \"tele\", \"tell\", \"temp\", \"temperature\", \"thank\", \"therapy\", \"therefore\", \"thoracic\", \"throughout_shift\", \"ticu\", \"time\", \"time\", \"time\", \"today\", \"tolerate\", \"tolerate\", \"touch\", \"trach\", \"transfer\", \"transition\", \"translate\", \"transport\", \"transport\", \"transport\", \"treatment\", \"tumor\", \"turn\", \"twitching\", \"tylenol\", \"ucsd\", \"ultimately\", \"unable\", \"unable\", \"unchanged\", \"undergo\", \"unequal\", \"unremarkable\", \"unresponsive\", \"unspecified\", \"upgrade\", \"upgrade\", \"urgent\", \"urine\", \"usage\", \"use\", \"va_ecmo\", \"vbg\", \"vegetation\", \"vent\", \"ventricular\", \"verbalize\", \"verify\", \"vfib\", \"voice\", \"vss\", \"want\", \"weakness\", \"wife\", \"witness\", \"witness\", \"wob\", \"workup\", \"wound\", \"year_old\", \"yesterday\", \"zoll\", \"zoll_pad\"]}, \"R\": 30, \"lambda.step\": 0.01, \"plot.opts\": {\"xlab\": \"PC1\", \"ylab\": \"PC2\"}, \"topic.order\": [11, 9, 16, 6, 8, 3, 12, 20, 1, 19, 7, 13, 17, 15, 2, 18, 10, 5, 14, 4]};\n",
       "\n",
       "function LDAvis_load_lib(url, callback){\n",
       "  var s = document.createElement('script');\n",
       "  s.src = url;\n",
       "  s.async = true;\n",
       "  s.onreadystatechange = s.onload = callback;\n",
       "  s.onerror = function(){console.warn(\"failed to load library \" + url);};\n",
       "  document.getElementsByTagName(\"head\")[0].appendChild(s);\n",
       "}\n",
       "\n",
       "if(typeof(LDAvis) !== \"undefined\"){\n",
       "   // already loaded: just create the visualization\n",
       "   !function(LDAvis){\n",
       "       new LDAvis(\"#\" + \"ldavis_el715251404072267877607787161570\", ldavis_el715251404072267877607787161570_data);\n",
       "   }(LDAvis);\n",
       "}else if(typeof define === \"function\" && define.amd){\n",
       "   // require.js is available: use it to load d3/LDAvis\n",
       "   require.config({paths: {d3: \"https://d3js.org/d3.v5\"}});\n",
       "   require([\"d3\"], function(d3){\n",
       "      window.d3 = d3;\n",
       "      LDAvis_load_lib(\"https://cdn.jsdelivr.net/gh/bmabey/pyLDAvis@3.3.1/pyLDAvis/js/ldavis.v3.0.0.js\", function(){\n",
       "        new LDAvis(\"#\" + \"ldavis_el715251404072267877607787161570\", ldavis_el715251404072267877607787161570_data);\n",
       "      });\n",
       "    });\n",
       "}else{\n",
       "    // require.js not available: dynamically load d3 & LDAvis\n",
       "    LDAvis_load_lib(\"https://d3js.org/d3.v5.js\", function(){\n",
       "         LDAvis_load_lib(\"https://cdn.jsdelivr.net/gh/bmabey/pyLDAvis@3.3.1/pyLDAvis/js/ldavis.v3.0.0.js\", function(){\n",
       "                 new LDAvis(\"#\" + \"ldavis_el715251404072267877607787161570\", ldavis_el715251404072267877607787161570_data);\n",
       "            })\n",
       "         });\n",
       "}\n",
       "</script>"
      ],
      "text/plain": [
       "PreparedData(topic_coordinates=              x         y  topics  cluster       Freq\n",
       "topic                                                \n",
       "10     0.318046  0.141936       1        1  34.862524\n",
       "8      0.261546  0.145888       2        1  15.524707\n",
       "15     0.256607 -0.059565       3        1  12.266514\n",
       "5      0.201586  0.192827       4        1   9.279405\n",
       "7      0.054851  0.078844       5        1   4.450773\n",
       "2      0.072030  0.045560       6        1   4.080857\n",
       "11     0.108851 -0.187876       7        1   3.654587\n",
       "19     0.083953 -0.292805       8        1   2.888559\n",
       "0      0.136837 -0.286204       9        1   2.807382\n",
       "18    -0.047148  0.020501      10        1   2.316822\n",
       "6     -0.081014  0.023278      11        1   1.639693\n",
       "12    -0.085394  0.022514      12        1   1.282211\n",
       "16    -0.112061  0.021218      13        1   1.140879\n",
       "14    -0.123245  0.004101      14        1   0.876763\n",
       "1     -0.154241  0.020015      15        1   0.665603\n",
       "17    -0.160799  0.021340      16        1   0.588119\n",
       "9     -0.167358  0.023738      17        1   0.569484\n",
       "4     -0.175360  0.021469      18        1   0.510365\n",
       "13    -0.178070  0.021488      19        1   0.419918\n",
       "3     -0.209617  0.021733      20        1   0.174836, topic_info=          Term          Freq         Total Category  logprob  loglift\n",
       "12        code  12393.000000  12393.000000  Default  30.0000  30.0000\n",
       "33         icu   6270.000000   6270.000000  Default  29.0000  29.0000\n",
       "7         call  16763.000000  16763.000000  Default  28.0000  28.0000\n",
       "58    transfer   4593.000000   4593.000000  Default  27.0000  27.0000\n",
       "97     primary  10709.000000  10709.000000  Default  26.0000  26.0000\n",
       "...        ...           ...           ...      ...      ...      ...\n",
       "2506  resource      0.036082      1.189053  Topic20 -10.5289   2.8540\n",
       "2147        rt      0.036082      1.189026  Topic20 -10.5289   2.8540\n",
       "1977      self      0.036082      1.189069  Topic20 -10.5289   2.8539\n",
       "2996     istat      0.036082      1.189130  Topic20 -10.5289   2.8539\n",
       "2239       nrb      0.036082      1.189094  Topic20 -10.5289   2.8539\n",
       "\n",
       "[800 rows x 6 columns], token_table=      Topic      Freq       Term\n",
       "term                            \n",
       "981      10  0.994977       aaox\n",
       "914      15  0.994635        abd\n",
       "363       1  0.998760  abdominal\n",
       "606       6  0.999110        abg\n",
       "63        2  0.999571       able\n",
       "...     ...       ...        ...\n",
       "639      13  0.992061      wound\n",
       "361       1  0.999468   year_old\n",
       "362      11  0.998709  yesterday\n",
       "1459     18  0.993404       zoll\n",
       "1460     18  0.963926   zoll_pad\n",
       "\n",
       "[817 rows x 3 columns], R=30, lambda_step=0.01, plot_opts={'xlab': 'PC1', 'ylab': 'PC2'}, topic_order=[11, 9, 16, 6, 8, 3, 12, 20, 1, 19, 7, 13, 17, 15, 2, 18, 10, 5, 14, 4])"
      ]
     },
     "execution_count": 16,
     "metadata": {},
     "output_type": "execute_result"
    }
   ],
   "source": [
    "### Visualize the topic keywords\n",
    "pyLDAvis.enable_notebook()\n",
    "vis = pyLDAvis.gensim_models.prepare(lda_model, corpus, id2word)\n",
    "vis"
   ]
  },
  {
   "cell_type": "markdown",
   "id": "bcb267b4",
   "metadata": {},
   "source": [
    "### Find the optimal number of topics"
   ]
  },
  {
   "cell_type": "code",
   "execution_count": 17,
   "id": "b4e2f0d3",
   "metadata": {},
   "outputs": [],
   "source": [
    "def compute_coherence_values(dictionary, corpus, texts, limit, start=2, step=3):\n",
    "    \"\"\"\n",
    "    Compute c_v coherence for various number of topics\n",
    "\n",
    "    Parameters:\n",
    "    ----------\n",
    "    dictionary : Gensim dictionary\n",
    "    corpus : Gensim corpus\n",
    "    texts : List of input texts\n",
    "    limit : Max num of topics\n",
    "\n",
    "    Returns:\n",
    "    -------\n",
    "    model_list : List of LDA topic models\n",
    "    coherence_values : Coherence values corresponding to the LDA model with respective number of topics\n",
    "    \"\"\"\n",
    "    coherence_values = []\n",
    "    model_list = []\n",
    "    for num_topics in range(start, limit, step):\n",
    "#         model = gensim.models.wrappers.LdaMallet(mallet_path, corpus=corpus, num_topics=num_topics, id2word=id2word)\n",
    "        model = gensim.models.ldamodel.LdaModel(corpus = corpus, id2word=id2word, num_topics=num_topics,\n",
    "                                           random_state=100,  update_every=1, chunksize=100, passes=10,   alpha='auto',\n",
    "                                           per_word_topics=True)\n",
    "        \n",
    "        model_list.append(model)\n",
    "        coherencemodel = CoherenceModel(model=model, texts=texts, dictionary=dictionary, coherence='c_v')\n",
    "        coherence_values.append(coherencemodel.get_coherence())\n",
    "\n",
    "    return model_list, coherence_values"
   ]
  },
  {
   "cell_type": "code",
   "execution_count": 20,
   "id": "f59b3182",
   "metadata": {},
   "outputs": [],
   "source": [
    "# Can take a long time to run.\n",
    "model_list, coherence_values = compute_coherence_values(dictionary=id2word,\n",
    "                                                        corpus=corpus, texts=data_lemmatized, start=2,\n",
    "                                                        limit=24, step=2)"
   ]
  },
  {
   "cell_type": "code",
   "execution_count": 21,
   "id": "dc3c44c3",
   "metadata": {},
   "outputs": [
    {
     "data": {
      "image/png": "[encoded data removed]",
      "text/plain": [
       "<Figure size 432x288 with 1 Axes>"
      ]
     },
     "metadata": {
      "needs_background": "light"
     },
     "output_type": "display_data"
    }
   ],
   "source": [
    "# draw a plot of coherence score vs. num_topics\n",
    "limit=24; start=2; step=2;\n",
    "x = range(start, limit, step)\n",
    "plt.plot(x, coherence_values)\n",
    "plt.xlabel(\"Num Topics\")\n",
    "plt.ylabel(\"Coherence score\")\n",
    "plt.legend((\"coherence_values\"), loc='best')\n",
    "plt.show()"
   ]
  },
  {
   "cell_type": "code",
   "execution_count": 22,
   "id": "6e2c9a26",
   "metadata": {},
   "outputs": [
    {
     "name": "stdout",
     "output_type": "stream",
     "text": [
      "Num Topics = 2  has Coherence Value of 0.3784\n",
      "Num Topics = 4  has Coherence Value of 0.4704\n",
      "Num Topics = 6  has Coherence Value of 0.5122\n",
      "Num Topics = 8  has Coherence Value of 0.459\n",
      "Num Topics = 10  has Coherence Value of 0.447\n",
      "Num Topics = 12  has Coherence Value of 0.4462\n",
      "Num Topics = 14  has Coherence Value of 0.4412\n",
      "Num Topics = 16  has Coherence Value of 0.435\n",
      "Num Topics = 18  has Coherence Value of 0.3907\n",
      "Num Topics = 20  has Coherence Value of 0.3919\n",
      "Num Topics = 22  has Coherence Value of 0.3827\n"
     ]
    }
   ],
   "source": [
    "# Print the coherence scores\n",
    "for m, cv in zip(x, coherence_values):\n",
    "    print(\"Num Topics =\", m, \" has Coherence Value of\", round(cv, 4))"
   ]
  },
  {
   "cell_type": "code",
   "execution_count": 34,
   "id": "3c271327",
   "metadata": {},
   "outputs": [
    {
     "name": "stdout",
     "output_type": "stream",
     "text": [
      "[(0,\n",
      "  '0.060*\"pain\" + 0.039*\"give\" + 0.037*\"chest\" + 0.018*\"ekg\" + 0.018*\"hr\" + '\n",
      "  '0.014*\"deny\" + 0.012*\"place\" + 0.012*\"arrival\" + 0.011*\"monitor\" + '\n",
      "  '0.010*\"breath\"'),\n",
      " (1,\n",
      "  '0.107*\"code\" + 0.040*\"blue\" + 0.022*\"pulse\" + 0.021*\"cpr\" + 0.016*\"start\" + '\n",
      "  '0.016*\"intubation\" + 0.016*\"intubate\" + 0.015*\"team\" + 0.012*\"initiate\" + '\n",
      "  '0.011*\"place\"'),\n",
      " (2,\n",
      "  '0.033*\"call\" + 0.031*\"pt\" + 0.023*\"rrt\" + 0.021*\"bedside\" + 0.016*\"care\" + '\n",
      "  '0.015*\"primary\" + 0.015*\"icu\" + 0.014*\"bed\" + 0.011*\"arrival\" + '\n",
      "  '0.011*\"transfer\"'),\n",
      " (3,\n",
      "  '0.053*\"status\" + 0.053*\"initiate\" + 0.052*\"follow\" + 0.044*\"primary\" + '\n",
      "  '0.041*\"bedside\" + 0.038*\"current\" + 0.037*\"throughout_shift\" + '\n",
      "  '0.036*\"level\" + 0.034*\"notify\" + 0.034*\"arrival\"'),\n",
      " (4,\n",
      "  '0.034*\"code\" + 0.025*\"stroke\" + 0.022*\"right\" + 0.022*\"leave\" + '\n",
      "  '0.021*\"transport\" + 0.021*\"ct\" + 0.017*\"head\" + 0.012*\"side\" + 0.012*\"move\" '\n",
      "  '+ 0.011*\"fall\"'),\n",
      " (5,\n",
      "  '0.027*\"blood\" + 0.025*\"lab\" + 0.025*\"bolus\" + 0.021*\"draw\" + 0.019*\"order\" '\n",
      "  '+ 0.018*\"sepsis\" + 0.016*\"send\" + 0.015*\"hypotension\" + 0.015*\"code\" + '\n",
      "  '0.015*\"lactate\"')]\n"
     ]
    }
   ],
   "source": [
    "# Select the model and print the topics\n",
    "optimal_model = model_list[coherence_values.index( max(coherence_values) )]\n",
    "model_topics = optimal_model.show_topics(formatted=False)\n",
    "pprint(optimal_model.print_topics(num_words=10))"
   ]
  },
  {
   "cell_type": "code",
   "execution_count": 35,
   "id": "0594c648",
   "metadata": {},
   "outputs": [
    {
     "name": "stderr",
     "output_type": "stream",
     "text": [
      "/Users/j5kim/miniconda3/envs/nlp/lib/python3.9/site-packages/pyLDAvis/_prepare.py:246: FutureWarning: In a future version of pandas all arguments of DataFrame.drop except for the argument 'labels' will be keyword-only.\n",
      "  default_term_info = default_term_info.sort_values(\n",
      "/Users/j5kim/miniconda3/envs/nlp/lib/python3.9/site-packages/past/builtins/misc.py:45: DeprecationWarning: the imp module is deprecated in favour of importlib; see the module's documentation for alternative uses\n",
      "  from imp import reload\n",
      "/Users/j5kim/miniconda3/envs/nlp/lib/python3.9/site-packages/past/builtins/misc.py:45: DeprecationWarning: the imp module is deprecated in favour of importlib; see the module's documentation for alternative uses\n",
      "  from imp import reload\n",
      "/Users/j5kim/miniconda3/envs/nlp/lib/python3.9/site-packages/past/builtins/misc.py:45: DeprecationWarning: the imp module is deprecated in favour of importlib; see the module's documentation for alternative uses\n",
      "  from imp import reload\n",
      "/Users/j5kim/miniconda3/envs/nlp/lib/python3.9/site-packages/past/builtins/misc.py:45: DeprecationWarning: the imp module is deprecated in favour of importlib; see the module's documentation for alternative uses\n",
      "  from imp import reload\n",
      "/Users/j5kim/miniconda3/envs/nlp/lib/python3.9/site-packages/past/builtins/misc.py:45: DeprecationWarning: the imp module is deprecated in favour of importlib; see the module's documentation for alternative uses\n",
      "  from imp import reload\n",
      "/Users/j5kim/miniconda3/envs/nlp/lib/python3.9/site-packages/past/builtins/misc.py:45: DeprecationWarning: the imp module is deprecated in favour of importlib; see the module's documentation for alternative uses\n",
      "  from imp import reload\n",
      "/Users/j5kim/miniconda3/envs/nlp/lib/python3.9/site-packages/past/builtins/misc.py:45: DeprecationWarning: the imp module is deprecated in favour of importlib; see the module's documentation for alternative uses\n",
      "  from imp import reload\n",
      "/Users/j5kim/miniconda3/envs/nlp/lib/python3.9/site-packages/past/builtins/misc.py:45: DeprecationWarning: the imp module is deprecated in favour of importlib; see the module's documentation for alternative uses\n",
      "  from imp import reload\n",
      "/Users/j5kim/miniconda3/envs/nlp/lib/python3.9/site-packages/past/builtins/misc.py:45: DeprecationWarning: the imp module is deprecated in favour of importlib; see the module's documentation for alternative uses\n",
      "  from imp import reload\n"
     ]
    },
    {
     "data": {
      "text/html": [
       "\n",
       "<link rel=\"stylesheet\" type=\"text/css\" href=\"https://cdn.jsdelivr.net/gh/bmabey/pyLDAvis@3.3.1/pyLDAvis/js/ldavis.v1.0.0.css\">\n",
       "\n",
       "\n",
       "<div id=\"ldavis_el715251404053463931044482167855\"></div>\n",
       "<script type=\"text/javascript\">\n",
       "\n",
       "var ldavis_el715251404053463931044482167855_data = {\"mdsDat\": {\"x\": [-0.1008855093490789, -0.054166973322056944, 0.00047292581633164314, 0.1843806344430391, 0.26248996171311206, -0.2922910393013467], \"y\": [-0.0073728167650300575, 0.13698163183910392, 0.3104784006474847, -0.13968762808527954, -0.10007404239238972, -0.20032554524388926], \"topics\": [1, 2, 3, 4, 5, 6], \"cluster\": [1, 1, 1, 1, 1, 1], \"Freq\": [46.042072797220335, 18.56849648397885, 11.110711711566685, 10.826328388458311, 7.058331634766815, 6.394058984009006]}, \"tinfo\": {\"Term\": [\"code\", \"bedside\", \"primary\", \"pain\", \"care\", \"status\", \"response\", \"follow\", \"rapid\", \"level\", \"pt\", \"initiate\", \"give\", \"arrival\", \"rrt\", \"chest\", \"notify\", \"continue\", \"bolus\", \"blue\", \"blood\", \"current\", \"lab\", \"throughout_shift\", \"draw\", \"stroke\", \"order\", \"regarding_poc\", \"sepsis\", \"education_completed\", \"icu\", \"transfer\", \"increase\", \"nurse\", \"need\", \"come\", \"sat\", \"respiratory\", \"abg\", \"high\", \"family\", \"istat\", \"still\", \"cough\", \"full\", \"breathing\", \"update\", \"treatment\", \"want\", \"lasix\", \"fio\", \"available\", \"goal\", \"covid\", \"resource\", \"wait\", \"requirement\", \"levophe\", \"phone\", \"monitoring\", \"pt\", \"bed\", \"consult\", \"pccm\", \"rrt\", \"state\", \"well\", \"get\", \"call\", \"desaturation\", \"sit\", \"appear\", \"acute\", \"time\", \"bedside\", \"care\", \"plan\", \"due\", \"remain\", \"response\", \"room\", \"rapid\", \"place\", \"primary\", \"stable\", \"monitor\", \"arrival\", \"team\", \"admit\", \"note\", \"order\", \"do\", \"give\", \"level\", \"bolus\", \"sepsis\", \"lactate\", \"fluid\", \"culture\", \"temp\", \"fever\", \"tachycardia\", \"infuse\", \"ns\", \"ml\", \"antibiotic\", \"tylenol\", \"infection\", \"lr\", \"drain\", \"elevate\", \"lnc\", \"swell\", \"febrile\", \"rigor\", \"abdoman\", \"cbc\", \"urine\", \"trend\", \"albumin\", \"transfusion\", \"abx\", \"confused\", \"soft\", \"blood\", \"hypotension\", \"draw\", \"send\", \"elevated\", \"lab\", \"abdominal\", \"hypotensive\", \"tachycardic\", \"start\", \"order\", \"map\", \"hr\", \"result\", \"code\", \"repeat\", \"note\", \"primary\", \"additional\", \"pain\", \"follow\", \"give\", \"call\", \"continue\", \"level\", \"chest\", \"medication\", \"cardiology\", \"cardiac\", \"shortness\", \"tube\", \"lead\", \"metoprolol\", \"breathe\", \"arrest\", \"svt\", \"oxygen\", \"convert\", \"skin\", \"bicarb\", \"desaturate\", \"dismiss\", \"difficulty_breathe\", \"diaphoretic\", \"ivp\", \"amp\", \"gurney\", \"vtach\", \"ihd\", \"overhead\", \"card\", \"pulseless\", \"area\", \"verse\", \"improved\", \"ekg\", \"lead_ekg\", \"control\", \"pain\", \"dilaudid\", \"breath\", \"complain\", \"deny\", \"give\", \"gtt\", \"hr\", \"pressure\", \"med\", \"dose\", \"activate\", \"show\", \"administer\", \"place\", \"monitor\", \"report\", \"arrival\", \"present\", \"continue\", \"piv\", \"lab\", \"stroke\", \"ct\", \"head\", \"extremity\", \"glucose\", \"arm\", \"following_command\", \"pupil\", \"eye\", \"weakness\", \"background\", \"scan\", \"condition\", \"hand\", \"tpa\", \"reactive\", \"neuro\", \"epic\", \"mri\", \"cancel\", \"exam\", \"neurology\", \"sugar\", \"anesthesia\", \"speech\", \"asystole\", \"numbness\", \"ecmo\", \"face\", \"hit\", \"fall\", \"side\", \"move\", \"transport\", \"right\", \"leave\", \"command\", \"left\", \"seizure\", \"return\", \"symptom\", \"code\", \"leg\", \"new\", \"able\", \"change\", \"see\", \"assessment\", \"follow\", \"note\", \"take\", \"call\", \"blue\", \"pulse\", \"cpr\", \"intubation\", \"intubate\", \"compression\", \"shock\", \"pea\", \"accm\", \"trach\", \"bvm\", \"rosc\", \"bradycardic\", \"pink\", \"pressor\", \"epi\", \"detail\", \"emergent\", \"rosc_achieve\", \"epinephrine\", \"documentation\", \"baby\", \"ventilation\", \"stat\", \"nicu\", \"lose\", \"intubated\", \"deliver\", \"pea_arr\", \"medic\", \"code\", \"unresponsive\", \"progress\", \"airway\", \"immediately\", \"round\", \"line\", \"staff\", \"start\", \"initiate\", \"team\", \"arrive\", \"stop\", \"minute\", \"become\", \"multiple\", \"go\", \"place\", \"see\", \"call\", \"note\", \"time\", \"room\", \"current\", \"throughout_shift\", \"regarding_poc\", \"education_completed\", \"thank\", \"criteria_reviewed\", \"education_complete\", \"criteria_reviewe\", \"tremor\", \"agitation\", \"reaction\", \"close\", \"oxycodone\", \"sate\", \"escalation\", \"like_activity\", \"actively\", \"break\", \"writer\", \"intractable\", \"opioid\", \"nbr_mask\", \"airway_intact\", \"sitter\", \"post_ictal\", \"normotensive\", \"sbh\", \"nod\", \"appreciate\", \"melissa\", \"initiate\", \"status\", \"follow\", \"notify\", \"level\", \"continue\", \"rapid\", \"primary\", \"response\", \"bedside\", \"arrival\", \"care\", \"md\", \"trauma\", \"nrb\", \"rrt\", \"seizure\", \"perform\", \"provide\"], \"Freq\": [10895.0, 9790.0, 9185.0, 6292.0, 7615.0, 3876.0, 4979.0, 4410.0, 4778.0, 4909.0, 10947.0, 3284.0, 7133.0, 7466.0, 8648.0, 3142.0, 2963.0, 4599.0, 3553.0, 2202.0, 4134.0, 1873.0, 4894.0, 1818.0, 3424.0, 2056.0, 5662.0, 1623.0, 2580.0, 1530.0, 5322.362961160121, 3899.1226165378216, 3170.8749576340047, 2243.793758567338, 2082.3448563075553, 1708.4104889061243, 1409.8639621730267, 1189.3664281491242, 1059.5734096708804, 980.8912976321377, 791.8716032522988, 743.0370651232022, 692.9346757661851, 673.9602813139878, 666.7556132381643, 636.6518476248951, 611.7005701916748, 560.1187109593614, 539.040947888167, 534.3173616677183, 521.154623913833, 501.69521837650035, 474.3114015443373, 1108.99789990251, 464.0739463353076, 453.34374798036504, 450.07044000468386, 437.60859081892556, 427.8963368719069, 422.33487642902145, 10875.938852144229, 4857.6543656222775, 1342.3565386141374, 1355.3590531834618, 8058.54063492357, 2399.2620978813434, 1089.836943641606, 1509.7625182019358, 11655.300808016873, 1130.005950382951, 2668.088567685746, 1168.667246620598, 1592.4876297210312, 3706.8706726654677, 7302.144966956092, 5616.171347205424, 2359.516493826425, 1985.9891553356567, 2172.931530285214, 3580.1045699159895, 2200.0436912921996, 3401.637691320315, 3671.6286839040654, 5367.815239548035, 1669.301973580939, 2758.284751920181, 3992.6668244368416, 3008.177182840937, 2055.610284493192, 3191.861837980124, 2902.8508028420456, 1963.9804852251839, 2451.47012999288, 2199.375012752659, 3552.507061727195, 2579.861441271737, 2184.811878754917, 1717.2987544837479, 1404.8381728645963, 1309.0065455259194, 1199.3714456427765, 968.8338305726945, 955.9003455243507, 943.9478392466474, 706.8276545200607, 606.0130258867974, 599.310526956504, 485.15473378579935, 457.6313990109356, 444.21095975608716, 394.4162318968951, 383.567735282771, 386.91484925571814, 365.62316761377576, 341.58271768883196, 328.15770938211784, 323.83365207849903, 315.2352300791439, 279.4432287817289, 274.57517082477136, 262.02040014475585, 244.58860015776912, 247.4708214410669, 239.77760532301755, 3879.641837103292, 2216.2088023403335, 2953.40310927621, 2336.7467939003227, 544.0796278994324, 3633.631544774303, 875.6986775511399, 671.8575989726908, 569.8075920970234, 2129.8603922272678, 2759.471470425881, 660.1365468551917, 1653.9380780756194, 1055.4599189765183, 2209.910047511399, 632.4070711344747, 1416.6843569718774, 1644.0433126746593, 786.1536653707468, 1131.55991240407, 1007.0373074082657, 1101.8816860365157, 1266.739547395305, 921.9544246097689, 914.6520792060702, 3141.6551257898554, 832.4619793910219, 777.6894230397154, 737.9762045737534, 732.7964590268907, 729.1805352554725, 635.0310168431379, 528.0563798085794, 472.834457182715, 390.66069566519786, 381.11288961683044, 376.2870414637421, 372.500335359183, 288.57199390748184, 288.1192550909397, 286.02406837222094, 267.63495393150237, 260.61358094669777, 257.2878554328788, 240.66228111185262, 231.46803320747415, 225.16826447207066, 214.08046395671533, 197.0639142359583, 192.89086249344547, 188.6190890633832, 189.42458778912507, 187.18895165925346, 186.40372809715626, 179.0823585227154, 1578.1572740229153, 678.8923821261909, 327.9956327478061, 5160.769590160798, 303.7014766749239, 867.861936173755, 733.0527722176902, 1240.0246182171231, 3375.815385426601, 510.02110289402606, 1539.391640075166, 696.4742217687616, 508.00711660923463, 569.6113254918321, 665.4958471301466, 761.6682122334323, 700.322990628178, 1053.7365742967859, 910.7674552085277, 731.5246315373213, 1032.8928280117896, 710.0854020996112, 781.7755071019492, 494.8979860490275, 495.80885176693863, 2055.1482326826986, 1733.3270006892926, 1450.8122309597532, 733.5706424578559, 667.262960340275, 631.3753728449648, 564.8334162724718, 516.6694817720564, 516.050000066828, 471.0572876575318, 439.80867660308166, 433.7577143331221, 373.70633464518477, 333.51819307067547, 323.3307349532643, 285.3272493390289, 282.92334997909245, 276.2633480177067, 275.73782499160643, 274.5651498959567, 274.99055014912017, 260.65819590499757, 258.56714861221593, 228.46187001127888, 220.72974351917952, 227.77823895124016, 216.19608169052103, 210.46545784770478, 206.7451063901581, 203.29348608856148, 893.6843208499672, 1024.5976951706575, 1006.3594444118194, 1748.108069850543, 1846.4079821879748, 1811.0729852852687, 551.9943283373236, 500.28944278781273, 562.7864315556224, 691.2721251702311, 471.8308522628866, 2857.5733974811246, 352.88807033831745, 744.8512841394027, 749.4897938980816, 848.0543150321972, 684.9275809181779, 678.5091453207839, 845.9312222296467, 757.1429149859389, 523.9632575804668, 654.515225442077, 2201.562593981335, 1216.4465173265198, 1147.6905866501495, 868.4471090004005, 861.3670240949928, 579.8180817543724, 400.31014050006434, 356.8675163927123, 268.4216018473158, 266.867603838963, 259.4770235899382, 241.41887708129047, 239.10983735829024, 220.85435414709707, 220.97243162670057, 213.8396847231961, 214.15804006652905, 200.74140087400278, 189.7256873366397, 183.3229949551373, 182.3878578276439, 177.8893644740957, 175.9373081898066, 175.5676726870366, 164.13354093898923, 152.13730511448273, 147.6878860494835, 147.60131195583818, 132.14552261120272, 128.4813809049194, 5827.923462146209, 446.8583265596938, 291.1282282524782, 419.94406482272933, 443.500331842346, 401.05625731180845, 306.313342026251, 351.1425207931687, 885.496614706792, 678.4481472220243, 806.9580269646234, 539.7219919776857, 332.4403614045706, 385.17145143429104, 408.26111337399715, 411.5410659006171, 408.52133007427005, 608.6270598099563, 365.39637672963056, 473.92076196872245, 367.0729653787141, 327.81804770065867, 291.87842719310703, 1872.8078079185009, 1817.740200890567, 1623.0041096261052, 1529.507842896956, 1414.7456408216065, 1342.4586228176333, 272.83380948447336, 223.665630556296, 195.3951306554855, 158.17411648109749, 157.54142212828862, 148.92794978214582, 128.9271734550924, 125.03526253283434, 107.12729745425735, 96.91393251056581, 91.37816700022405, 87.87557464618317, 87.48912715885255, 86.76120479519837, 81.54836123649126, 79.40450791201361, 78.17947511933734, 76.99766932048908, 74.26542816344393, 70.59064560431266, 68.71568623134641, 69.18804794312636, 65.03400733592562, 61.85949339479164, 2605.0916420317835, 2612.195385204539, 2556.518649655713, 1701.3170900066675, 1795.3158188596115, 1666.8496031830175, 1376.308988031203, 2173.5379580426484, 1399.0068807117354, 2042.6324720448356, 1685.1701311006693, 1497.845011632472, 356.40098273067093, 161.2242150030934, 223.51176358942362, 589.7357705907733, 231.54171745618254, 250.74940936778046, 168.47971202718878], \"Total\": [10895.0, 9790.0, 9185.0, 6292.0, 7615.0, 3876.0, 4979.0, 4410.0, 4778.0, 4909.0, 10947.0, 3284.0, 7133.0, 7466.0, 8648.0, 3142.0, 2963.0, 4599.0, 3553.0, 2202.0, 4134.0, 1873.0, 4894.0, 1818.0, 3424.0, 2056.0, 5662.0, 1623.0, 2580.0, 1530.0, 5323.2227881679355, 3899.9830293169875, 3171.7483917605127, 2244.655724974703, 2083.2071374511293, 1709.2732657489673, 1410.7241713598673, 1190.2260949865251, 1060.433740445162, 981.7518080240304, 792.73379706585, 743.8984442865861, 693.7963974524336, 674.821057700131, 667.6190123550426, 637.5121888198734, 612.5619333585083, 560.9793314891941, 539.9007163381167, 535.1772076563745, 522.0145891113234, 502.55739237276566, 475.17258445917525, 1111.0167870434157, 464.93712509791436, 454.2070891804529, 450.9289103773584, 438.47284776643573, 428.75733727645735, 423.1987975250505, 10947.794320007903, 4872.364520814686, 1352.7605009563263, 1373.5855093285547, 8648.971018589411, 2525.609764111324, 1133.5689772194114, 1597.527601209724, 14050.81375768245, 1185.2765170645246, 2960.9812469227068, 1240.8830880879736, 1747.8624679587708, 4464.77236130343, 9790.305269797973, 7615.813381134042, 2875.842664471241, 2370.6524822752663, 2665.4681113454008, 4979.806249464011, 2711.3169228981465, 4778.641505475767, 5409.134201114631, 9185.889492703109, 1945.0309850962278, 3891.99458724703, 7466.725693021568, 4894.680169388534, 2722.845747705509, 6183.507581290091, 5662.981883421023, 2827.8884117594566, 7133.674766252141, 4909.835510690603, 3553.3360275947366, 2580.686288767054, 2185.6370461261795, 1718.1266109869366, 1405.6627007104553, 1309.8340041404665, 1200.1970892617599, 969.6632861548218, 956.7290290800426, 944.7747439156976, 707.6544043101247, 606.8400994313473, 600.1355258745142, 485.98192048481314, 458.45711064917566, 445.03884081741785, 395.24963304583093, 384.39854494502305, 387.75619956216985, 366.4481658723519, 342.4080613981536, 328.9901620591376, 324.6593514385983, 316.06079015432266, 280.2731424851825, 275.4045917140063, 262.8456101437239, 245.41352261078455, 248.30826102771383, 240.60764356378988, 4134.981768076778, 2329.6303076795543, 3424.4849728170793, 2843.324987820072, 584.3577822048943, 4894.1569808585655, 1026.9707049017977, 795.8497388380631, 674.781209269392, 3855.469025866193, 5662.981883421023, 842.2692718160589, 3222.5730740756994, 1669.9394281043326, 10895.913033392333, 926.5703008184239, 6183.507581290091, 9185.889492703109, 1644.5605216593635, 6292.986704764825, 4410.936446557802, 7133.674766252141, 14050.81375768245, 4599.841235634698, 4909.835510690603, 3142.5131039359076, 833.3213902536779, 778.5476484369256, 738.8359924150844, 733.6541201161532, 730.0414818492535, 635.8923373770104, 528.9149276989873, 473.6963812647915, 391.51949518958315, 381.97098778085655, 377.14882167703047, 373.3579163446409, 289.4317239275741, 288.9842404585024, 286.893338660591, 268.498583941046, 261.4760300914152, 258.14653997145365, 241.5218977628465, 232.33813166787127, 226.02836679309254, 214.94133640758338, 197.9322453361424, 193.7652088165966, 189.47710038206242, 190.29164583801756, 188.05053159554737, 187.26399966531926, 179.9475105705022, 1657.0567157542794, 710.6901341168921, 337.807779853863, 6292.986704764825, 314.8723448897096, 985.5963648553787, 832.3538105485585, 1891.9166208771294, 7133.674766252141, 689.3376173881396, 3222.5730740756994, 1139.0444077414832, 736.3547548969104, 888.6528119791409, 1166.5747191386108, 1640.6552675891246, 1603.1364303367047, 5409.134201114631, 3891.99458724703, 2592.680309269956, 7466.725693021568, 3133.4575647479323, 4599.841235634698, 1028.5518133322405, 4894.1569808585655, 2056.001955786955, 1734.18434527312, 1451.6687823322534, 734.4272635767776, 668.1238074051449, 632.2324550364744, 565.6931273834583, 517.5235873162724, 516.9081087995946, 471.91183707172854, 440.6728732136624, 434.6150190880496, 374.57182274136966, 334.3769400989049, 324.1972686176559, 286.1820433507963, 283.77655665848073, 277.11788484706466, 276.5920765519403, 275.41955449602375, 275.853682009612, 261.51239791706234, 259.4249461035909, 229.33293215827607, 221.584570171239, 228.67484115954215, 217.05099069374424, 211.32056364079122, 207.6103069330112, 204.15305135333512, 905.7748693314123, 1082.9413554800444, 1068.4575006356492, 1981.237907590833, 2201.282359062857, 2211.9039678698987, 637.4758642338275, 570.8215421194031, 795.0184789770733, 1153.7510945431306, 636.9590040626288, 10895.913033392333, 411.0597300671159, 1466.9410893735014, 1527.9236549123734, 1920.2356840883397, 1392.242985794442, 1380.656447940201, 4410.936446557802, 6183.507581290091, 1443.0755232579083, 14050.81375768245, 2202.4397019439034, 1217.3251601761694, 1148.565412791661, 869.3251735617278, 862.2449761068204, 580.6935095168463, 401.1872094001859, 357.7423120952481, 269.3005961565214, 267.7450377819661, 260.353417873623, 242.29433019510955, 239.99216644447563, 221.72919636765474, 221.85254846544927, 214.71442081808888, 215.0389140448996, 201.62269699321575, 190.60023328502635, 184.19745305541164, 183.2640851429397, 178.76332757249426, 176.8132656844454, 176.4568120194082, 165.00764669358867, 153.01780031027477, 148.5637692788256, 148.47935171441543, 133.02098280549396, 129.35838899618085, 10895.913033392333, 594.4763259964077, 369.29891908257883, 606.1048509491462, 659.1091679187897, 577.1672074765138, 401.2643738741343, 609.5236052610227, 3855.469025866193, 3284.254250244423, 4894.680169388534, 2019.3174948509372, 690.3982855160872, 1027.3975477088702, 1247.6679091409649, 1302.28258532942, 1418.1513268087879, 5409.134201114631, 1392.242985794442, 14050.81375768245, 6183.507581290091, 4464.77236130343, 2711.3169228981465, 1873.6690181659424, 1818.5996796166573, 1623.862756598926, 1530.367113419327, 1415.605900520869, 1343.3171228433087, 273.69246816952653, 224.52451192484355, 196.264381807966, 159.03964504898656, 158.41970313803932, 149.80024554535038, 129.80478151193984, 125.89732739379868, 107.99868769390247, 97.79471429686363, 92.2674460298763, 88.75634248695175, 88.36820775154737, 87.64395192892871, 82.41476180271346, 80.27377876959895, 79.05432483119728, 77.86419893727903, 75.12990631388669, 71.45290495710327, 69.57952422800821, 70.05856618722642, 65.92874363287018, 62.749213124174254, 3284.254250244423, 3876.304314364177, 4410.936446557802, 2963.733931691432, 4909.835510690603, 4599.841235634698, 4778.641505475767, 9185.889492703109, 4979.806249464011, 9790.305269797973, 7466.725693021568, 7615.813381134042, 1176.0714412699301, 295.3822465402716, 704.9199761437186, 8648.971018589411, 795.0184789770733, 1056.0970181000175, 508.8337389570666], \"Category\": [\"Default\", \"Default\", \"Default\", \"Default\", \"Default\", \"Default\", \"Default\", \"Default\", \"Default\", \"Default\", \"Default\", \"Default\", \"Default\", \"Default\", \"Default\", \"Default\", \"Default\", \"Default\", \"Default\", \"Default\", \"Default\", \"Default\", \"Default\", \"Default\", \"Default\", \"Default\", \"Default\", \"Default\", \"Default\", \"Default\", \"Topic1\", \"Topic1\", \"Topic1\", \"Topic1\", \"Topic1\", \"Topic1\", \"Topic1\", \"Topic1\", \"Topic1\", \"Topic1\", \"Topic1\", \"Topic1\", \"Topic1\", \"Topic1\", \"Topic1\", \"Topic1\", \"Topic1\", \"Topic1\", \"Topic1\", \"Topic1\", \"Topic1\", \"Topic1\", \"Topic1\", \"Topic1\", \"Topic1\", \"Topic1\", \"Topic1\", \"Topic1\", \"Topic1\", \"Topic1\", \"Topic1\", \"Topic1\", \"Topic1\", \"Topic1\", \"Topic1\", \"Topic1\", \"Topic1\", \"Topic1\", \"Topic1\", \"Topic1\", \"Topic1\", \"Topic1\", \"Topic1\", \"Topic1\", \"Topic1\", \"Topic1\", \"Topic1\", \"Topic1\", \"Topic1\", \"Topic1\", \"Topic1\", \"Topic1\", \"Topic1\", \"Topic1\", \"Topic1\", \"Topic1\", \"Topic1\", \"Topic1\", \"Topic1\", \"Topic1\", \"Topic1\", \"Topic1\", \"Topic1\", \"Topic1\", \"Topic2\", \"Topic2\", \"Topic2\", \"Topic2\", \"Topic2\", \"Topic2\", \"Topic2\", \"Topic2\", \"Topic2\", \"Topic2\", \"Topic2\", \"Topic2\", \"Topic2\", \"Topic2\", \"Topic2\", \"Topic2\", \"Topic2\", \"Topic2\", \"Topic2\", \"Topic2\", \"Topic2\", \"Topic2\", \"Topic2\", \"Topic2\", \"Topic2\", \"Topic2\", \"Topic2\", \"Topic2\", \"Topic2\", \"Topic2\", \"Topic2\", \"Topic2\", \"Topic2\", \"Topic2\", \"Topic2\", \"Topic2\", \"Topic2\", \"Topic2\", \"Topic2\", \"Topic2\", \"Topic2\", \"Topic2\", \"Topic2\", \"Topic2\", \"Topic2\", \"Topic2\", \"Topic2\", \"Topic2\", \"Topic2\", \"Topic2\", \"Topic2\", \"Topic2\", \"Topic2\", \"Topic2\", \"Topic2\", \"Topic3\", \"Topic3\", \"Topic3\", \"Topic3\", \"Topic3\", \"Topic3\", \"Topic3\", \"Topic3\", \"Topic3\", \"Topic3\", \"Topic3\", \"Topic3\", \"Topic3\", \"Topic3\", \"Topic3\", \"Topic3\", \"Topic3\", \"Topic3\", \"Topic3\", \"Topic3\", \"Topic3\", \"Topic3\", \"Topic3\", \"Topic3\", \"Topic3\", \"Topic3\", \"Topic3\", \"Topic3\", \"Topic3\", \"Topic3\", \"Topic3\", \"Topic3\", \"Topic3\", \"Topic3\", \"Topic3\", \"Topic3\", \"Topic3\", \"Topic3\", \"Topic3\", \"Topic3\", \"Topic3\", \"Topic3\", \"Topic3\", \"Topic3\", \"Topic3\", \"Topic3\", \"Topic3\", \"Topic3\", \"Topic3\", \"Topic3\", \"Topic3\", \"Topic3\", \"Topic3\", \"Topic3\", \"Topic3\", \"Topic4\", \"Topic4\", \"Topic4\", \"Topic4\", \"Topic4\", \"Topic4\", \"Topic4\", \"Topic4\", \"Topic4\", \"Topic4\", \"Topic4\", \"Topic4\", \"Topic4\", \"Topic4\", \"Topic4\", \"Topic4\", \"Topic4\", \"Topic4\", \"Topic4\", \"Topic4\", \"Topic4\", \"Topic4\", \"Topic4\", \"Topic4\", \"Topic4\", \"Topic4\", \"Topic4\", \"Topic4\", \"Topic4\", \"Topic4\", \"Topic4\", \"Topic4\", \"Topic4\", \"Topic4\", \"Topic4\", \"Topic4\", \"Topic4\", \"Topic4\", \"Topic4\", \"Topic4\", \"Topic4\", \"Topic4\", \"Topic4\", \"Topic4\", \"Topic4\", \"Topic4\", \"Topic4\", \"Topic4\", \"Topic4\", \"Topic4\", \"Topic4\", \"Topic4\", \"Topic5\", \"Topic5\", \"Topic5\", \"Topic5\", \"Topic5\", \"Topic5\", \"Topic5\", \"Topic5\", \"Topic5\", \"Topic5\", \"Topic5\", \"Topic5\", \"Topic5\", \"Topic5\", \"Topic5\", \"Topic5\", \"Topic5\", \"Topic5\", \"Topic5\", \"Topic5\", \"Topic5\", \"Topic5\", \"Topic5\", \"Topic5\", \"Topic5\", \"Topic5\", \"Topic5\", \"Topic5\", \"Topic5\", \"Topic5\", \"Topic5\", \"Topic5\", \"Topic5\", \"Topic5\", \"Topic5\", \"Topic5\", \"Topic5\", \"Topic5\", \"Topic5\", \"Topic5\", \"Topic5\", \"Topic5\", \"Topic5\", \"Topic5\", \"Topic5\", \"Topic5\", \"Topic5\", \"Topic5\", \"Topic5\", \"Topic5\", \"Topic5\", \"Topic5\", \"Topic5\", \"Topic6\", \"Topic6\", \"Topic6\", \"Topic6\", \"Topic6\", \"Topic6\", \"Topic6\", \"Topic6\", \"Topic6\", \"Topic6\", \"Topic6\", \"Topic6\", \"Topic6\", \"Topic6\", \"Topic6\", \"Topic6\", \"Topic6\", \"Topic6\", \"Topic6\", \"Topic6\", \"Topic6\", \"Topic6\", \"Topic6\", \"Topic6\", \"Topic6\", \"Topic6\", \"Topic6\", \"Topic6\", \"Topic6\", \"Topic6\", \"Topic6\", \"Topic6\", \"Topic6\", \"Topic6\", \"Topic6\", \"Topic6\", \"Topic6\", \"Topic6\", \"Topic6\", \"Topic6\", \"Topic6\", \"Topic6\", \"Topic6\", \"Topic6\", \"Topic6\", \"Topic6\", \"Topic6\", \"Topic6\", \"Topic6\"], \"logprob\": [30.0, 29.0, 28.0, 27.0, 26.0, 25.0, 24.0, 23.0, 22.0, 21.0, 20.0, 19.0, 18.0, 17.0, 16.0, 15.0, 14.0, 13.0, 12.0, 11.0, 10.0, 9.0, 8.0, 7.0, 6.0, 5.0, 4.0, 3.0, 2.0, 1.0, -4.2007, -4.5119, -4.7186, -5.0644, -5.1391, -5.337, -5.5291, -5.6992, -5.8147, -5.8919, -6.106, -6.1696, -6.2394, -6.2672, -6.2779, -6.3241, -6.3641, -6.4522, -6.4906, -6.4994, -6.5243, -6.5624, -6.6185, -5.7692, -6.6403, -6.6637, -6.671, -6.699, -6.7215, -6.7346, -3.4861, -4.2921, -5.5782, -5.5685, -3.7859, -4.9975, -5.7866, -5.4607, -3.4169, -5.7504, -4.8913, -5.7167, -5.4073, -4.5624, -3.8844, -4.147, -5.0142, -5.1865, -5.0965, -4.5972, -5.0841, -4.6484, -4.572, -4.1922, -5.3602, -4.858, -4.4882, -4.7713, -5.152, -4.712, -4.8069, -5.1976, -4.9759, -5.0844, -3.6969, -4.0168, -4.183, -4.4238, -4.6246, -4.6953, -4.7827, -4.9962, -5.0096, -5.0222, -5.3115, -5.4654, -5.4765, -5.6878, -5.7462, -5.776, -5.8949, -5.9228, -5.9141, -5.9707, -6.0387, -6.0788, -6.092, -6.119, -6.2395, -6.2571, -6.3039, -6.3727, -6.361, -6.3926, -3.6088, -4.1687, -3.8816, -4.1158, -5.5732, -3.6743, -5.0973, -5.3622, -5.527, -4.2085, -3.9495, -5.3798, -4.4614, -4.9105, -4.1716, -5.4227, -4.6162, -4.4674, -5.2051, -4.8409, -4.9575, -4.8675, -4.7281, -5.0458, -5.0537, -3.3062, -4.6343, -4.7024, -4.7548, -4.7619, -4.7668, -4.905, -5.0895, -5.2, -5.3909, -5.4156, -5.4284, -5.4385, -5.6938, -5.6953, -5.7026, -5.7691, -5.7957, -5.8085, -5.8753, -5.9143, -5.9419, -5.9924, -6.0752, -6.0966, -6.119, -6.1147, -6.1266, -6.1308, -6.1709, -3.9947, -4.8383, -5.5657, -2.8099, -5.6427, -4.5927, -4.7615, -4.2358, -3.2343, -5.1243, -4.0196, -4.8127, -5.1282, -5.0138, -4.8582, -4.7232, -4.8072, -4.3986, -4.5444, -4.7636, -4.4186, -4.7933, -4.6972, -5.1544, -5.1525, -3.7047, -3.875, -4.0529, -4.7349, -4.8296, -4.8849, -4.9963, -5.0854, -5.0866, -5.1778, -5.2465, -5.2603, -5.4093, -5.5231, -5.5541, -5.6792, -5.6876, -5.7114, -5.7133, -5.7176, -5.7161, -5.7696, -5.7776, -5.9014, -5.9359, -5.9044, -5.9566, -5.9835, -6.0013, -6.0181, -4.5374, -4.4007, -4.4187, -3.8665, -3.8118, -3.8311, -5.0193, -5.1176, -4.9999, -4.7943, -5.1762, -3.3751, -5.4666, -4.7196, -4.7134, -4.5898, -4.8035, -4.8129, -4.5924, -4.7032, -5.0714, -4.8489, -3.2081, -3.8013, -3.8595, -4.1383, -4.1465, -4.5423, -4.9128, -5.0277, -5.3125, -5.3183, -5.3464, -5.4185, -5.4281, -5.5075, -5.507, -5.5398, -5.5383, -5.603, -5.6594, -5.6938, -5.6989, -5.7239, -5.7349, -5.737, -5.8043, -5.8802, -5.9099, -5.9105, -6.0211, -6.0492, -2.2346, -4.8028, -5.2313, -4.8649, -4.8103, -4.9109, -5.1804, -5.0438, -4.1189, -4.3852, -4.2117, -4.614, -5.0986, -4.9513, -4.8931, -4.8851, -4.8925, -4.4938, -5.004, -4.744, -4.9995, -5.1126, -5.2287, -3.271, -3.3008, -3.4141, -3.4735, -3.5515, -3.6039, -5.1973, -5.396, -5.5312, -5.7425, -5.7465, -5.8027, -5.9469, -5.9776, -6.1322, -6.2324, -6.2912, -6.3303, -6.3347, -6.343, -6.405, -6.4316, -6.4472, -6.4624, -6.4985, -6.5493, -6.5762, -6.5694, -6.6313, -6.6813, -2.941, -2.9382, -2.9598, -3.367, -3.3132, -3.3875, -3.579, -3.1221, -3.5627, -3.1842, -3.3766, -3.4944, -4.9301, -5.7234, -5.3967, -4.4265, -5.3614, -5.2817, -5.6794], \"loglift\": [30.0, 29.0, 28.0, 27.0, 26.0, 25.0, 24.0, 23.0, 22.0, 21.0, 20.0, 19.0, 18.0, 17.0, 16.0, 15.0, 14.0, 13.0, 12.0, 11.0, 10.0, 9.0, 8.0, 7.0, 6.0, 5.0, 4.0, 3.0, 2.0, 1.0, 0.7755, 0.7754, 0.7753, 0.7752, 0.7752, 0.7751, 0.775, 0.7749, 0.7748, 0.7747, 0.7745, 0.7745, 0.7744, 0.7743, 0.7743, 0.7743, 0.7742, 0.7741, 0.774, 0.774, 0.774, 0.7739, 0.7738, 0.7738, 0.7738, 0.7737, 0.7737, 0.7736, 0.7736, 0.7736, 0.769, 0.7726, 0.7679, 0.7623, 0.7049, 0.7243, 0.7363, 0.7191, 0.5887, 0.7279, 0.6715, 0.7157, 0.6825, 0.5896, 0.4824, 0.471, 0.5777, 0.5986, 0.5713, 0.4456, 0.5667, 0.4357, 0.3882, 0.2384, 0.6227, 0.4313, 0.1496, 0.2888, 0.4945, 0.1143, 0.1074, 0.4111, -0.2925, -0.0275, 1.6835, 1.6834, 1.6833, 1.6832, 1.6831, 1.6831, 1.683, 1.6828, 1.6828, 1.6828, 1.6825, 1.6823, 1.6823, 1.682, 1.6819, 1.6818, 1.6816, 1.6815, 1.6815, 1.6814, 1.6813, 1.6812, 1.6812, 1.6811, 1.6807, 1.6807, 1.6806, 1.6803, 1.6803, 1.6802, 1.62, 1.6338, 1.5357, 1.4875, 1.6123, 1.3859, 1.5244, 1.5143, 1.5146, 1.0903, 0.9648, 1.4401, 1.0167, 1.2249, 0.0883, 1.3017, 0.2101, -0.0368, 0.9456, -0.0321, 0.2066, -0.1841, -0.7225, 0.0764, 0.0033, 2.197, 2.1962, 2.1962, 2.1961, 2.1961, 2.1961, 2.1959, 2.1956, 2.1954, 2.1951, 2.195, 2.195, 2.195, 2.1943, 2.1943, 2.1942, 2.194, 2.194, 2.1939, 2.1937, 2.1935, 2.1934, 2.1932, 2.1929, 2.1927, 2.1927, 2.1927, 2.1927, 2.1927, 2.1924, 2.1485, 2.1515, 2.1678, 1.9989, 2.1611, 2.07, 2.0702, 1.7748, 1.4491, 1.896, 1.4585, 1.7053, 1.826, 1.7525, 1.636, 1.4299, 1.3691, 0.5615, 0.7449, 0.9319, 0.2192, 0.7128, 0.4251, 1.4657, -0.0923, 2.2228, 2.2227, 2.2226, 2.222, 2.2219, 2.2218, 2.2217, 2.2215, 2.2215, 2.2214, 2.2212, 2.2212, 2.2209, 2.2206, 2.2205, 2.2202, 2.2202, 2.2201, 2.2201, 2.2201, 2.2201, 2.2199, 2.2199, 2.2194, 2.2193, 2.2193, 2.2192, 2.2191, 2.219, 2.219, 2.2098, 2.1678, 2.1633, 2.098, 2.0474, 2.0233, 2.0792, 2.0913, 1.8777, 1.7109, 1.9231, 0.8848, 2.0706, 1.5454, 1.5109, 1.4059, 1.5138, 1.5128, 0.5718, 0.1231, 1.2101, -0.8434, 2.6506, 2.6502, 2.6502, 2.65, 2.6499, 2.6495, 2.6488, 2.6485, 2.6477, 2.6477, 2.6476, 2.6473, 2.6473, 2.647, 2.647, 2.6469, 2.6469, 2.6466, 2.6464, 2.6462, 2.6462, 2.6461, 2.646, 2.6459, 2.6456, 2.6452, 2.645, 2.645, 2.6444, 2.6442, 2.0252, 2.3655, 2.4131, 2.284, 2.2548, 2.2869, 2.3809, 2.0995, 1.1799, 1.0739, 0.8483, 1.3315, 1.9202, 1.6699, 1.5338, 1.499, 1.4064, 0.4663, 1.3133, -0.7384, -0.1731, 0.0394, 0.4221, 2.7493, 2.7493, 2.7493, 2.7492, 2.7492, 2.7492, 2.7467, 2.746, 2.7454, 2.7443, 2.7442, 2.744, 2.743, 2.7429, 2.7417, 2.7408, 2.7401, 2.7398, 2.7398, 2.7397, 2.7392, 2.7389, 2.7387, 2.7386, 2.7382, 2.7377, 2.7373, 2.7373, 2.7361, 2.7355, 2.5181, 2.3551, 2.2044, 2.1948, 1.7437, 1.7347, 1.505, 1.3085, 1.4802, 1.1826, 1.2612, 1.1236, 1.5559, 2.1443, 1.6012, 0.0643, 1.5162, 1.3119, 1.6445]}, \"token.table\": {\"Topic\": [2, 2, 3, 1, 1, 4, 2, 5, 1, 2, 3, 4, 6, 1, 4, 6, 1, 2, 4, 6, 1, 2, 3, 5, 6, 1, 2, 4, 6, 1, 4, 5, 6, 2, 3, 4, 2, 1, 3, 6, 6, 3, 4, 3, 1, 2, 3, 4, 5, 6, 1, 5, 1, 2, 4, 4, 1, 5, 4, 1, 4, 5, 1, 6, 1, 2, 4, 6, 3, 1, 2, 4, 5, 2, 5, 6, 1, 3, 3, 1, 5, 1, 2, 4, 5, 4, 3, 3, 3, 1, 2, 6, 2, 1, 2, 4, 6, 3, 6, 2, 4, 5, 1, 1, 4, 6, 2, 3, 5, 4, 2, 1, 2, 1, 2, 3, 6, 2, 3, 3, 1, 1, 5, 5, 6, 6, 4, 2, 6, 5, 1, 2, 3, 3, 1, 6, 5, 3, 3, 2, 3, 3, 1, 2, 3, 5, 1, 2, 3, 2, 1, 2, 1, 2, 4, 5, 4, 6, 6, 3, 6, 2, 1, 2, 5, 5, 4, 5, 6, 4, 4, 4, 4, 3, 4, 1, 2, 2, 1, 2, 1, 2, 4, 6, 4, 1, 1, 5, 1, 2, 3, 5, 4, 1, 3, 4, 5, 1, 1, 3, 5, 3, 4, 4, 1, 4, 1, 2, 3, 1, 2, 2, 5, 1, 3, 1, 5, 3, 1, 2, 2, 5, 6, 6, 5, 5, 5, 1, 3, 1, 2, 3, 2, 1, 3, 2, 3, 2, 3, 4, 6, 3, 4, 2, 4, 6, 1, 2, 6, 1, 6, 1, 5, 2, 5, 2, 1, 2, 1, 2, 6, 1, 3, 5, 6, 5, 3, 6, 3, 1, 3, 5, 2, 1, 2, 3, 1, 1, 4, 4, 1, 2, 5, 6, 1, 4, 4, 2, 4, 5, 6, 6, 1, 2, 3, 4, 5, 1, 6, 2, 6, 2, 4, 1, 6, 1, 2, 3, 6, 3, 2, 3, 1, 5, 5, 5, 1, 3, 4, 5, 6, 1, 5, 1, 2, 3, 1, 2, 3, 5, 1, 2, 6, 1, 2, 3, 4, 5, 1, 2, 3, 1, 2, 6, 3, 5, 1, 2, 5, 6, 1, 3, 4, 5, 3, 4, 1, 6, 6, 4, 6, 1, 2, 3, 1, 2, 1, 3, 4, 1, 1, 1, 1, 6, 1, 2, 1, 3, 4, 5, 2, 3, 4, 2, 1, 4, 5, 5, 5, 1, 4, 5, 1, 6, 1, 6, 6, 4, 1, 4, 5, 4, 6, 1, 2, 2, 5, 3, 1, 3, 4, 1, 4, 1, 2, 3, 6, 3, 2, 4, 1, 2, 4, 1, 5, 1, 2, 3, 5, 5, 1, 3, 4, 1, 4, 6, 1, 1, 3, 5, 4, 4, 3, 2, 1, 2, 4, 2, 2, 6, 1, 3, 4, 5, 1, 2, 4, 5, 6, 2, 6, 6, 1, 2, 4, 5, 4, 5, 1, 2, 1, 4, 5, 3, 6, 1, 6, 2, 3, 2, 4, 5, 1, 2, 5, 3, 3, 1, 1, 4, 1, 2, 3, 6], \"Freq\": [0.9969902988802455, 0.8529941465893771, 0.14703437914953876, 0.9995909782680247, 0.5091877447532668, 0.4902077388434406, 0.9983149966375716, 0.9951704668497448, 0.2648780184677438, 0.06171914993423157, 0.5700449264758888, 0.10200803947463273, 0.9862633454765195, 0.9108268122830089, 0.0005721273946501312, 0.08810761877612021, 0.2103905544630766, 0.4779392364392434, 0.27606159458449936, 0.034659715619639785, 0.10417079721962604, 0.4235447383959645, 0.4366440602020253, 0.017465762408081013, 0.018089539636941047, 0.7550923520851494, 0.2398226196068106, 0.005141679440268527, 0.9934629818328233, 0.17323735296883438, 0.1336402437188151, 0.6929494118753375, 0.9866632871326325, 0.9985309187784841, 0.9942405852269479, 0.9941877856541069, 0.9986156164826047, 0.9420710228239669, 0.04754678387221048, 0.010476410005741291, 0.9859129177701009, 0.9944135675308442, 0.9980506299120576, 0.9986731307228224, 0.5347725581685522, 0.05316922253766973, 0.1383471206080928, 0.04714248446664923, 0.0008035650761360664, 0.22566785888154534, 0.732425685297783, 0.267417085909941, 0.42878154147847847, 0.07967224588282538, 0.49179504504034943, 0.9970489050910881, 0.9988908881229783, 0.995729954332022, 0.99847307775322, 0.5313914024257336, 0.14106317771784177, 0.32701009380045143, 0.9970518378185127, 0.002873348235788221, 0.7458398690106095, 0.041469595565366675, 0.003983532578939164, 0.2086758220198131, 0.9965941379469662, 0.0009673561394831591, 0.9383354552986644, 0.06070159775256824, 0.9998003568753708, 0.9999054332063934, 0.9958658382097435, 0.9914784401231614, 0.11870985341668541, 0.8806850663733584, 0.9985298995467684, 0.9991965819181882, 0.9948016128050987, 0.8294893236078579, 0.09017271325707044, 0.04661651711395512, 0.033734700934373626, 0.998476671357662, 0.9974820156045222, 0.998868500690726, 0.9992965768530352, 0.7374130272036343, 0.06578417496955499, 0.19669599621635403, 0.9979690976536586, 0.5499324946152907, 0.00729077170891484, 0.44161245779712743, 0.0015623082233388941, 0.9998367217831916, 0.9946579156633751, 0.20282834428166674, 0.2623001845959292, 0.5348794527029656, 0.9992550835641781, 0.04235454472060819, 0.8659151365102119, 0.0909838368072324, 0.1189398050989333, 0.880635122601193, 0.9988057219419874, 0.9984733962710151, 0.9947313028479233, 0.9920455239868999, 0.007392291534924739, 0.26718313460017046, 0.20044170065204, 0.17000586758123135, 0.3624038123502719, 0.026642370415191255, 0.9709663884647479, 0.9990413586294217, 0.9987832956740722, 0.9981847375602824, 0.0009000764089813186, 0.9995077226030282, 0.9976638990533955, 0.9990194996989834, 0.9993170591832707, 0.9995285492671034, 0.9996429368477271, 0.9967715934311364, 0.0015856935590581901, 0.34303837327625514, 0.6554200044107186, 0.9968861645071242, 0.9533640325538354, 0.04640267415085039, 0.9951687160925549, 0.9955585692855676, 0.9981794503639634, 0.03493479239611523, 0.9654706262199119, 0.9981430667762649, 0.6945111383578384, 0.22773175819880243, 0.07744294261729462, 0.9931023847801179, 0.35334384336294705, 0.005626494321066036, 0.6414203526015281, 0.9976657299944657, 0.1372469155889928, 0.8623194504985016, 0.8377440450883418, 0.09280145514573776, 0.062430069825314495, 0.007171021533988827, 0.9937508985493908, 0.9974699041805651, 0.9997601141477048, 0.9522908811734344, 0.047071412377394095, 0.9968383701302866, 0.06845121468062307, 0.9309365196564737, 0.9969115729404379, 0.9966726928942786, 0.9959660313960552, 0.9934990791916574, 0.9907527793603101, 0.9969053086281363, 0.9994182356810983, 0.9982431910350497, 0.9970603244991679, 0.012144298072786594, 0.9870002251882923, 0.9990743461820777, 0.998777000639954, 0.9990025894309608, 0.998056397019381, 0.9993442794147228, 0.0002267092287807452, 0.2282961933822104, 0.19179600754851045, 0.5796954979923655, 0.9987747290007494, 0.9990728059812751, 0.9452105859432763, 0.05445915296494374, 0.3435816855003183, 0.1544785872792129, 0.47324837627461225, 0.028596762073465908, 0.9983179653341353, 0.7023227924774862, 0.004230860195647507, 0.004936003561588759, 0.2884036366699717, 0.9975322977429141, 0.10444809362472317, 0.7398406631751224, 0.1552214724700747, 0.9954502755221254, 0.998872709048676, 0.9995393010166004, 0.9992342178360297, 0.9943520248867626, 0.008999020141170204, 0.5132544590860524, 0.47756868956072224, 0.04850555027014329, 0.9512238884835179, 0.8443804994911689, 0.1545517878532943, 0.9997702917543385, 0.9952900785086373, 0.3261978598763636, 0.6736365106283975, 0.9947345169294188, 0.9997640444108187, 0.9979795123163562, 0.999237998369566, 0.2064395592848944, 0.7931785426801622, 0.9926526370073898, 0.9985561225158519, 0.9962052034519432, 0.9984756296009486, 0.9987922487357158, 0.9978391285938016, 0.15610451462592317, 0.742518070877755, 0.10134533933829568, 0.999708530687971, 0.9978003404488586, 0.9985967162606625, 0.043619572738997976, 0.9554093512832137, 0.042045224996617094, 0.13698605563413957, 0.8187516394502533, 0.001808396774048047, 0.12263027029445493, 0.8759305021032495, 0.08514577673246018, 0.8587559767588128, 0.055952938995616694, 0.44787651138453216, 0.18636062206314094, 0.365592695741353, 0.9989216030847876, 0.9918736477469404, 0.23425952095484368, 0.7625895043849167, 0.9989631986117948, 0.9933484842403238, 0.999002936940975, 0.21489564686330875, 0.7835973863523965, 0.5926510716452519, 0.103735194749958, 0.30270269943430367, 0.025802780349615584, 0.6898848640844588, 0.22815089993344306, 0.055679683912328366, 0.9894990266443334, 0.9984143089699453, 0.9880601988953768, 0.9982701798511008, 0.43021321297259696, 0.194666612204795, 0.37473322849423035, 0.9990752487285617, 0.7086340790496445, 0.05704016154786841, 0.2340702124779645, 0.9971672945857566, 0.05709164844058817, 0.9415442349382246, 0.9978593871548265, 0.5290710386223229, 0.15434438136877632, 0.3163675876812729, 0.9841320691622736, 0.9994205389231691, 0.9972634925603975, 0.9980406362331439, 0.4914989464968381, 0.5078595216922945, 0.9938933333467883, 0.9848902676027157, 0.9936614899369708, 0.5162118681083657, 0.22915796275361974, 0.07293595003661432, 0.12242242611467194, 0.059351427191657334, 0.42581420231598327, 0.5739381601739204, 0.6823469560776556, 0.31776656582410573, 0.9991799697010457, 0.9951578627197921, 0.9997078728076617, 0.9949673845602282, 0.5126274566582738, 0.48719915705138733, 0.9960508451374215, 0.9938000626589721, 0.9969539300907209, 0.1798827890646726, 0.8201193236420276, 0.9864693466825812, 0.013104389845229861, 0.9979250089515538, 0.992324648458004, 0.05681296222949633, 0.22535808351033546, 0.23956132406770952, 0.23956132406770952, 0.23766755866005965, 0.9982336459096698, 0.9967113200264089, 0.020417056027508675, 0.4977872707659258, 0.48125917779127597, 0.678851709621723, 0.013865435245541728, 0.19485558331734643, 0.11258733419379884, 0.8206290382836069, 0.17942567108234794, 0.9849606319330942, 0.6181669800771085, 0.10212361054448875, 0.22658676089558444, 0.05297662296995354, 0.9961571391839024, 0.0421405870339816, 0.3459039852372657, 0.6110385119927333, 0.5843745457926658, 0.1789701477800191, 0.23666733654121747, 0.2085031827097822, 0.7879795606304755, 0.049131962143943844, 0.4520140517242834, 0.1650833928036513, 0.3301667856073026, 0.9934421201285547, 0.00611995421557679, 0.000456713001162447, 0.9989114164238767, 0.9932122830073316, 0.9989882831834052, 0.7119178109723661, 0.2879479447083997, 0.9973506885208994, 0.9958696103467702, 0.9994687010368211, 0.8152414169769128, 0.13581104139238032, 0.04877192094201503, 0.31729918360249054, 0.6820853198529729, 0.6757485655812792, 0.2823333047976577, 0.04204143473079876, 0.9979400070477161, 0.9979844046703799, 0.9989698638000883, 0.7189034714724744, 0.2809346247458077, 0.36767800655919314, 0.6317594412377016, 0.21581778008938793, 0.07540621232038855, 0.5989160081998677, 0.10920899715366618, 0.08267907987845872, 0.07813627329173023, 0.8386020959100814, 0.9988082599560086, 0.8114138120188488, 0.0807725567418763, 0.10769674232250175, 0.9946580252452987, 0.9968508260736032, 0.20271421952668886, 0.10222340984679182, 0.6947726669248054, 0.9317871435432754, 0.06821620730742431, 0.999486666937046, 0.9928725461264806, 0.9916710521602714, 0.9985849106426646, 0.24492850995073862, 0.49201181617670364, 0.26216688015255013, 0.7081596401688618, 0.29181711637509045, 0.17796066301514885, 0.821925038471152, 0.999734067340908, 0.997040759594602, 0.9991084080383142, 0.5193047051572137, 0.46444857433074754, 0.01584732668320136, 0.053557840142035996, 0.9464963128549465, 0.9010526502904411, 0.010807228189390599, 0.0878087290387986, 0.9889012030037687, 0.998508373851644, 0.9974745458839558, 0.9973618642724661, 0.8580840165471341, 0.11670765234044304, 0.024678270098419674, 0.4232813918494821, 0.5758595679812721, 0.09129887897904135, 0.5524619665493127, 0.12657344585730732, 0.22954405652401022, 0.9974111964611604, 0.9498696251850003, 0.04949299839438309, 0.0003959439871550647, 0.2657170119959864, 0.060366777482583324, 0.6738377042072976, 0.9988521164777479, 0.4823302823689307, 0.03476254287343645, 0.48088184308253756, 0.9995126678823749, 0.9983619690011568, 0.9974579541066778, 0.9980498066490653, 0.2040947677493194, 0.05494859131712445, 0.7410210029052211, 0.9993159623920052, 0.8447182466997828, 0.15412403097680247, 0.5086358878452258, 0.06167383381229577, 0.36311335862520205, 0.06652458478629657, 0.6145447497902142, 0.15894807690717644, 0.05536623244453061, 0.16487287668906347, 0.006129103222641765, 0.9993632749357322, 0.9995719850272975, 0.9996702519947744, 0.8302774923373228, 0.08712650243302363, 0.009182998971089894, 0.07346399176871915, 0.9963069750008663, 0.9972173610083006, 0.9997479401039446, 0.9967828637379125, 0.09589963894393594, 0.8822766782842106, 0.021198867556027946, 0.4502640275703474, 0.5450564544272627, 0.9982542467534511, 0.9935577622576309, 0.9954574938080275, 0.9985733936013946, 0.9981078842602102, 0.2472764575672746, 0.7519222893372227, 0.9990826505404484, 0.9966437147935854, 0.9954004260862597, 0.9932501726568999, 0.9956204961627373, 0.997342425494435, 0.9983317000499169, 0.9980677808859667, 0.9615647762994679, 0.01411471231265274, 0.023818577027601498, 0.9845169684170333], \"Term\": [\"abdoman\", \"abdominal\", \"abdominal\", \"abg\", \"able\", \"able\", \"abx\", \"accm\", \"activate\", \"activate\", \"activate\", \"activate\", \"actively\", \"acute\", \"acute\", \"acute\", \"additional\", \"additional\", \"additional\", \"additional\", \"administer\", \"administer\", \"administer\", \"administer\", \"administer\", \"admit\", \"admit\", \"admit\", \"agitation\", \"airway\", \"airway\", \"airway\", \"airway_intact\", \"albumin\", \"amp\", \"anesthesia\", \"antibiotic\", \"appear\", \"appear\", \"appear\", \"appreciate\", \"area\", \"arm\", \"arrest\", \"arrival\", \"arrival\", \"arrival\", \"arrival\", \"arrival\", \"arrival\", \"arrive\", \"arrive\", \"assessment\", \"assessment\", \"assessment\", \"asystole\", \"available\", \"baby\", \"background\", \"become\", \"become\", \"become\", \"bed\", \"bed\", \"bedside\", \"bedside\", \"bedside\", \"bedside\", \"bicarb\", \"blood\", \"blood\", \"blood\", \"blue\", \"bolus\", \"bradycardic\", \"break\", \"breath\", \"breath\", \"breathe\", \"breathing\", \"bvm\", \"call\", \"call\", \"call\", \"call\", \"cancel\", \"card\", \"cardiac\", \"cardiology\", \"care\", \"care\", \"care\", \"cbc\", \"change\", \"change\", \"change\", \"change\", \"chest\", \"close\", \"code\", \"code\", \"code\", \"come\", \"command\", \"command\", \"command\", \"complain\", \"complain\", \"compression\", \"condition\", \"confused\", \"consult\", \"consult\", \"continue\", \"continue\", \"continue\", \"continue\", \"control\", \"control\", \"convert\", \"cough\", \"covid\", \"covid\", \"cpr\", \"criteria_reviewe\", \"criteria_reviewed\", \"ct\", \"culture\", \"current\", \"deliver\", \"deny\", \"deny\", \"deny\", \"desaturate\", \"desaturation\", \"desaturation\", \"detail\", \"diaphoretic\", \"difficulty_breathe\", \"dilaudid\", \"dilaudid\", \"dismiss\", \"do\", \"do\", \"do\", \"documentation\", \"dose\", \"dose\", \"dose\", \"drain\", \"draw\", \"draw\", \"due\", \"due\", \"due\", \"due\", \"ecmo\", \"education_complete\", \"education_completed\", \"ekg\", \"ekg\", \"elevate\", \"elevated\", \"elevated\", \"emergent\", \"epi\", \"epic\", \"epinephrine\", \"escalation\", \"exam\", \"extremity\", \"eye\", \"face\", \"fall\", \"fall\", \"family\", \"febrile\", \"fever\", \"fio\", \"fluid\", \"follow\", \"follow\", \"follow\", \"follow\", \"following_command\", \"full\", \"get\", \"get\", \"give\", \"give\", \"give\", \"give\", \"glucose\", \"go\", \"go\", \"go\", \"go\", \"goal\", \"gtt\", \"gtt\", \"gtt\", \"gurney\", \"hand\", \"head\", \"high\", \"hit\", \"hr\", \"hr\", \"hr\", \"hypotension\", \"hypotension\", \"hypotensive\", \"hypotensive\", \"icu\", \"ihd\", \"immediately\", \"immediately\", \"improved\", \"increase\", \"infection\", \"infuse\", \"initiate\", \"initiate\", \"intractable\", \"intubate\", \"intubated\", \"intubation\", \"istat\", \"ivp\", \"lab\", \"lab\", \"lab\", \"lactate\", \"lasix\", \"lead\", \"lead_ekg\", \"lead_ekg\", \"leave\", \"leave\", \"leave\", \"leave\", \"left\", \"left\", \"leg\", \"leg\", \"leg\", \"level\", \"level\", \"level\", \"levophe\", \"like_activity\", \"line\", \"line\", \"lnc\", \"lose\", \"lr\", \"map\", \"map\", \"md\", \"md\", \"md\", \"med\", \"med\", \"med\", \"med\", \"medic\", \"medication\", \"melissa\", \"metoprolol\", \"minute\", \"minute\", \"minute\", \"ml\", \"monitor\", \"monitor\", \"monitor\", \"monitoring\", \"move\", \"move\", \"mri\", \"multiple\", \"multiple\", \"multiple\", \"nbr_mask\", \"need\", \"neuro\", \"neurology\", \"new\", \"new\", \"nicu\", \"nod\", \"normotensive\", \"note\", \"note\", \"note\", \"note\", \"note\", \"notify\", \"notify\", \"nrb\", \"nrb\", \"ns\", \"numbness\", \"nurse\", \"opioid\", \"order\", \"order\", \"overhead\", \"oxycodone\", \"oxygen\", \"pain\", \"pain\", \"pccm\", \"pccm\", \"pea\", \"pea_arr\", \"perform\", \"perform\", \"perform\", \"perform\", \"perform\", \"phone\", \"pink\", \"piv\", \"piv\", \"piv\", \"place\", \"place\", \"place\", \"place\", \"plan\", \"plan\", \"post_ictal\", \"present\", \"present\", \"present\", \"present\", \"pressor\", \"pressure\", \"pressure\", \"pressure\", \"primary\", \"primary\", \"primary\", \"progress\", \"progress\", \"provide\", \"provide\", \"provide\", \"provide\", \"pt\", \"pt\", \"pt\", \"pulse\", \"pulseless\", \"pupil\", \"rapid\", \"rapid\", \"reaction\", \"reactive\", \"regarding_poc\", \"remain\", \"remain\", \"remain\", \"repeat\", \"repeat\", \"report\", \"report\", \"report\", \"requirement\", \"resource\", \"respiratory\", \"response\", \"response\", \"result\", \"result\", \"return\", \"return\", \"return\", \"return\", \"right\", \"right\", \"right\", \"rigor\", \"room\", \"room\", \"room\", \"rosc\", \"rosc_achieve\", \"round\", \"round\", \"round\", \"rrt\", \"rrt\", \"sat\", \"sate\", \"sbh\", \"scan\", \"see\", \"see\", \"see\", \"seizure\", \"seizure\", \"send\", \"send\", \"sepsis\", \"shock\", \"shortness\", \"show\", \"show\", \"show\", \"side\", \"side\", \"sit\", \"sit\", \"sit\", \"sitter\", \"skin\", \"soft\", \"speech\", \"stable\", \"stable\", \"stable\", \"staff\", \"staff\", \"start\", \"start\", \"start\", \"start\", \"stat\", \"state\", \"state\", \"state\", \"status\", \"status\", \"status\", \"still\", \"stop\", \"stop\", \"stop\", \"stroke\", \"sugar\", \"svt\", \"swell\", \"symptom\", \"symptom\", \"symptom\", \"tachycardia\", \"tachycardic\", \"tachycardic\", \"take\", \"take\", \"take\", \"take\", \"team\", \"team\", \"team\", \"team\", \"team\", \"temp\", \"thank\", \"throughout_shift\", \"time\", \"time\", \"time\", \"time\", \"tpa\", \"trach\", \"transfer\", \"transfusion\", \"transport\", \"transport\", \"transport\", \"trauma\", \"trauma\", \"treatment\", \"tremor\", \"trend\", \"tube\", \"tylenol\", \"unresponsive\", \"unresponsive\", \"update\", \"urine\", \"ventilation\", \"verse\", \"vtach\", \"wait\", \"want\", \"weakness\", \"well\", \"well\", \"well\", \"writer\"]}, \"R\": 30, \"lambda.step\": 0.01, \"plot.opts\": {\"xlab\": \"PC1\", \"ylab\": \"PC2\"}, \"topic.order\": [3, 6, 1, 5, 2, 4]};\n",
       "\n",
       "function LDAvis_load_lib(url, callback){\n",
       "  var s = document.createElement('script');\n",
       "  s.src = url;\n",
       "  s.async = true;\n",
       "  s.onreadystatechange = s.onload = callback;\n",
       "  s.onerror = function(){console.warn(\"failed to load library \" + url);};\n",
       "  document.getElementsByTagName(\"head\")[0].appendChild(s);\n",
       "}\n",
       "\n",
       "if(typeof(LDAvis) !== \"undefined\"){\n",
       "   // already loaded: just create the visualization\n",
       "   !function(LDAvis){\n",
       "       new LDAvis(\"#\" + \"ldavis_el715251404053463931044482167855\", ldavis_el715251404053463931044482167855_data);\n",
       "   }(LDAvis);\n",
       "}else if(typeof define === \"function\" && define.amd){\n",
       "   // require.js is available: use it to load d3/LDAvis\n",
       "   require.config({paths: {d3: \"https://d3js.org/d3.v5\"}});\n",
       "   require([\"d3\"], function(d3){\n",
       "      window.d3 = d3;\n",
       "      LDAvis_load_lib(\"https://cdn.jsdelivr.net/gh/bmabey/pyLDAvis@3.3.1/pyLDAvis/js/ldavis.v3.0.0.js\", function(){\n",
       "        new LDAvis(\"#\" + \"ldavis_el715251404053463931044482167855\", ldavis_el715251404053463931044482167855_data);\n",
       "      });\n",
       "    });\n",
       "}else{\n",
       "    // require.js not available: dynamically load d3 & LDAvis\n",
       "    LDAvis_load_lib(\"https://d3js.org/d3.v5.js\", function(){\n",
       "         LDAvis_load_lib(\"https://cdn.jsdelivr.net/gh/bmabey/pyLDAvis@3.3.1/pyLDAvis/js/ldavis.v3.0.0.js\", function(){\n",
       "                 new LDAvis(\"#\" + \"ldavis_el715251404053463931044482167855\", ldavis_el715251404053463931044482167855_data);\n",
       "            })\n",
       "         });\n",
       "}\n",
       "</script>"
      ],
      "text/plain": [
       "PreparedData(topic_coordinates=              x         y  topics  cluster       Freq\n",
       "topic                                                \n",
       "2     -0.100886 -0.007373       1        1  46.042073\n",
       "5     -0.054167  0.136982       2        1  18.568496\n",
       "0      0.000473  0.310478       3        1  11.110712\n",
       "4      0.184381 -0.139688       4        1  10.826328\n",
       "1      0.262490 -0.100074       5        1   7.058332\n",
       "3     -0.292291 -0.200326       6        1   6.394059, topic_info=         Term          Freq         Total Category  logprob  loglift\n",
       "12       code  10895.000000  10895.000000  Default  30.0000  30.0000\n",
       "122   bedside   9790.000000   9790.000000  Default  29.0000  29.0000\n",
       "97    primary   9185.000000   9185.000000  Default  28.0000  28.0000\n",
       "91       pain   6292.000000   6292.000000  Default  27.0000  27.0000\n",
       "11       care   7615.000000   7615.000000  Default  26.0000  26.0000\n",
       "...       ...           ...           ...      ...      ...      ...\n",
       "2239      nrb    223.511764    704.919976   Topic6  -5.3967   1.6012\n",
       "51        rrt    589.735771   8648.971019   Topic6  -4.4265   0.0643\n",
       "193   seizure    231.541717    795.018479   Topic6  -5.3614   1.5162\n",
       "766   perform    250.749409   1056.097018   Topic6  -5.2817   1.3119\n",
       "402   provide    168.479712    508.833739   Topic6  -5.6794   1.6445\n",
       "\n",
       "[358 rows x 6 columns], token_table=      Topic      Freq       Term\n",
       "term                            \n",
       "410       2  0.996990    abdoman\n",
       "363       2  0.852994  abdominal\n",
       "363       3  0.147034  abdominal\n",
       "606       1  0.999591        abg\n",
       "63        1  0.509188       able\n",
       "...     ...       ...        ...\n",
       "357       4  0.998068   weakness\n",
       "663       1  0.961565       well\n",
       "663       2  0.014115       well\n",
       "663       3  0.023819       well\n",
       "864       6  0.984517     writer\n",
       "\n",
       "[494 rows x 3 columns], R=30, lambda_step=0.01, plot_opts={'xlab': 'PC1', 'ylab': 'PC2'}, topic_order=[3, 6, 1, 5, 2, 4])"
      ]
     },
     "execution_count": 35,
     "metadata": {},
     "output_type": "execute_result"
    }
   ],
   "source": [
    "### Visualize the topic keywords\n",
    "pyLDAvis.enable_notebook()\n",
    "vis = pyLDAvis.gensim_models.prepare(optimal_model, corpus, id2word)\n",
    "vis"
   ]
  },
  {
   "cell_type": "markdown",
   "id": "16ac7e09",
   "metadata": {},
   "source": [
    "### Create a dataframe object of the ominant topic and corresponding keywords"
   ]
  },
  {
   "cell_type": "code",
   "execution_count": 145,
   "id": "791bf77a",
   "metadata": {},
   "outputs": [
    {
     "data": {
      "text/html": [
       "<div>\n",
       "<style scoped>\n",
       "    .dataframe tbody tr th:only-of-type {\n",
       "        vertical-align: middle;\n",
       "    }\n",
       "\n",
       "    .dataframe tbody tr th {\n",
       "        vertical-align: top;\n",
       "    }\n",
       "\n",
       "    .dataframe thead th {\n",
       "        text-align: right;\n",
       "    }\n",
       "</style>\n",
       "<table border=\"1\" class=\"dataframe\">\n",
       "  <thead>\n",
       "    <tr style=\"text-align: right;\">\n",
       "      <th></th>\n",
       "      <th>Dominant_Topic</th>\n",
       "      <th>Topic_keywords</th>\n",
       "    </tr>\n",
       "  </thead>\n",
       "  <tbody>\n",
       "    <tr>\n",
       "      <th>0</th>\n",
       "      <td>0</td>\n",
       "      <td>pain,give,chest,ekg,hr,deny,place,arrival,moni...</td>\n",
       "    </tr>\n",
       "    <tr>\n",
       "      <th>1</th>\n",
       "      <td>1</td>\n",
       "      <td>code,blue,pulse,cpr,start,intubation,intubate,...</td>\n",
       "    </tr>\n",
       "    <tr>\n",
       "      <th>2</th>\n",
       "      <td>2</td>\n",
       "      <td>call,pt,rrt,bedside,care,primary,icu,bed,arriv...</td>\n",
       "    </tr>\n",
       "    <tr>\n",
       "      <th>3</th>\n",
       "      <td>3</td>\n",
       "      <td>status,initiate,follow,primary,bedside,current...</td>\n",
       "    </tr>\n",
       "    <tr>\n",
       "      <th>4</th>\n",
       "      <td>4</td>\n",
       "      <td>code,stroke,right,leave,transport,ct,head,side...</td>\n",
       "    </tr>\n",
       "    <tr>\n",
       "      <th>5</th>\n",
       "      <td>5</td>\n",
       "      <td>blood,lab,bolus,draw,order,sepsis,send,hypoten...</td>\n",
       "    </tr>\n",
       "  </tbody>\n",
       "</table>\n",
       "</div>"
      ],
      "text/plain": [
       "   Dominant_Topic                                     Topic_keywords\n",
       "0               0  pain,give,chest,ekg,hr,deny,place,arrival,moni...\n",
       "1               1  code,blue,pulse,cpr,start,intubation,intubate,...\n",
       "2               2  call,pt,rrt,bedside,care,primary,icu,bed,arriv...\n",
       "3               3  status,initiate,follow,primary,bedside,current...\n",
       "4               4  code,stroke,right,leave,transport,ct,head,side...\n",
       "5               5  blood,lab,bolus,draw,order,sepsis,send,hypoten..."
      ]
     },
     "execution_count": 145,
     "metadata": {},
     "output_type": "execute_result"
    }
   ],
   "source": [
    "list_topic_nums = list(range(optimal_model.num_topics))\n",
    "list_topic_keywords = ['']*optimal_model.num_topics\n",
    "for i in range(optimal_model.num_topics):\n",
    "    list_topic_keywords[i] = ','.join([w for w, p in optimal_model.show_topic(i, topn=20)])\n",
    "\n",
    "df_dominant_topic = pd.DataFrame(list(zip(list_topic_nums, list_topic_keywords)), columns=['Dominant_Topic', 'Topic_keywords'])\n",
    "df_dominant_topic"
   ]
  },
  {
   "cell_type": "markdown",
   "id": "5d1cf93a",
   "metadata": {},
   "source": [
    "### Find the dominant topic for each document"
   ]
  },
  {
   "cell_type": "code",
   "execution_count": 121,
   "id": "56be0680",
   "metadata": {},
   "outputs": [],
   "source": [
    "def sort_tuple(tup): \n",
    "    # reverse = None (Sorts in Ascending order) \n",
    "    # key is set to sort using second element of \n",
    "    # sublist lambda has been used \n",
    "    tup.sort(key = lambda x: x[1], reverse=True) \n",
    "    return tup "
   ]
  },
  {
   "cell_type": "code",
   "execution_count": 159,
   "id": "d6efb627",
   "metadata": {},
   "outputs": [],
   "source": [
    "n_docs = len(optimal_model[corpus])\n",
    "dominant_topic = [None]*n_docs\n",
    "perc_contribution = [0.0]*n_docs\n",
    "for i in range(n_docs):\n",
    "    cur_topic, cur_perc = sort_tuple(optimal_model[corpus][i][0])[0]\n",
    "    dominant_topic[i] = cur_topic\n",
    "    perc_contribution[i] = cur_perc\n",
    "    \n",
    "df_topic_num_score = pd.DataFrame(list(zip(df_train['FileID'], dominant_topic, perc_contribution)),\n",
    "                                      columns=['FileID', 'Dominant_Topic', 'Topic_Perc_Contribution'])"
   ]
  },
  {
   "cell_type": "code",
   "execution_count": 167,
   "id": "23da4143",
   "metadata": {},
   "outputs": [
    {
     "data": {
      "text/html": [
       "<div>\n",
       "<style scoped>\n",
       "    .dataframe tbody tr th:only-of-type {\n",
       "        vertical-align: middle;\n",
       "    }\n",
       "\n",
       "    .dataframe tbody tr th {\n",
       "        vertical-align: top;\n",
       "    }\n",
       "\n",
       "    .dataframe thead th {\n",
       "        text-align: right;\n",
       "    }\n",
       "</style>\n",
       "<table border=\"1\" class=\"dataframe\">\n",
       "  <thead>\n",
       "    <tr style=\"text-align: right;\">\n",
       "      <th></th>\n",
       "      <th>FileID</th>\n",
       "      <th>Dominant_Topic</th>\n",
       "      <th>Topic_Perc_Contribution</th>\n",
       "      <th>Topic_keywords</th>\n",
       "      <th>Text</th>\n",
       "    </tr>\n",
       "  </thead>\n",
       "  <tbody>\n",
       "    <tr>\n",
       "      <th>0</th>\n",
       "      <td>75280</td>\n",
       "      <td>2</td>\n",
       "      <td>0.414560</td>\n",
       "      <td>call,pt,rrt,bedside,care,primary,icu,bed,arriv...</td>\n",
       "      <td>S Code sepsis called for low BP, increased RR,...</td>\n",
       "    </tr>\n",
       "    <tr>\n",
       "      <th>1</th>\n",
       "      <td>75281</td>\n",
       "      <td>2</td>\n",
       "      <td>0.447267</td>\n",
       "      <td>call,pt,rrt,bedside,care,primary,icu,bed,arriv...</td>\n",
       "      <td>S. Code Sepsis called due to episode of Pt des...</td>\n",
       "    </tr>\n",
       "    <tr>\n",
       "      <th>2</th>\n",
       "      <td>75282</td>\n",
       "      <td>2</td>\n",
       "      <td>0.409390</td>\n",
       "      <td>call,pt,rrt,bedside,care,primary,icu,bed,arriv...</td>\n",
       "      <td>S:  RRT initiated 7/1/2018 at 0113 to 0145  fo...</td>\n",
       "    </tr>\n",
       "    <tr>\n",
       "      <th>3</th>\n",
       "      <td>75283</td>\n",
       "      <td>2</td>\n",
       "      <td>0.538370</td>\n",
       "      <td>call,pt,rrt,bedside,care,primary,icu,bed,arriv...</td>\n",
       "      <td>S:  RRT initiated 7/1/2018 at 0205 for another...</td>\n",
       "    </tr>\n",
       "    <tr>\n",
       "      <th>4</th>\n",
       "      <td>75287</td>\n",
       "      <td>2</td>\n",
       "      <td>0.535171</td>\n",
       "      <td>call,pt,rrt,bedside,care,primary,icu,bed,arriv...</td>\n",
       "      <td>S- RRT called due to  having seizuresB- 38 yea...</td>\n",
       "    </tr>\n",
       "  </tbody>\n",
       "</table>\n",
       "</div>"
      ],
      "text/plain": [
       "   FileID  Dominant_Topic  Topic_Perc_Contribution  \\\n",
       "0   75280               2                 0.414560   \n",
       "1   75281               2                 0.447267   \n",
       "2   75282               2                 0.409390   \n",
       "3   75283               2                 0.538370   \n",
       "4   75287               2                 0.535171   \n",
       "\n",
       "                                      Topic_keywords  \\\n",
       "0  call,pt,rrt,bedside,care,primary,icu,bed,arriv...   \n",
       "1  call,pt,rrt,bedside,care,primary,icu,bed,arriv...   \n",
       "2  call,pt,rrt,bedside,care,primary,icu,bed,arriv...   \n",
       "3  call,pt,rrt,bedside,care,primary,icu,bed,arriv...   \n",
       "4  call,pt,rrt,bedside,care,primary,icu,bed,arriv...   \n",
       "\n",
       "                                                Text  \n",
       "0  S Code sepsis called for low BP, increased RR,...  \n",
       "1  S. Code Sepsis called due to episode of Pt des...  \n",
       "2  S:  RRT initiated 7/1/2018 at 0113 to 0145  fo...  \n",
       "3  S:  RRT initiated 7/1/2018 at 0205 for another...  \n",
       "4  S- RRT called due to  having seizuresB- 38 yea...  "
      ]
     },
     "execution_count": 167,
     "metadata": {},
     "output_type": "execute_result"
    }
   ],
   "source": [
    "df_topic_sents_keywords = df_topic_num_score.merge(df_dominant_topic, on='Dominant_Topic', how='left')\n",
    "df_topic_sents_keywords = df_topic_sents_keywords.merge(df_train.loc[:, ['FileID', 'BriefFactualDescription']], on='FileID', how='left')\n",
    "df_topic_sents_keywords.columns = ['FileID', 'Dominant_Topic', 'Topic_Perc_Contribution', 'Topic_keywords', 'Text']\n",
    "df_topic_sents_keywords.head(5)"
   ]
  },
  {
   "cell_type": "code",
   "execution_count": 169,
   "id": "8039277d",
   "metadata": {},
   "outputs": [],
   "source": [
    "df_topic_sents_keywords.to_excel('textresults/Topic_Keywords_Text.xlsx',index=False)"
   ]
  },
  {
   "cell_type": "markdown",
   "id": "ddfecec8",
   "metadata": {},
   "source": [
    "### Find the most representative document for each topic"
   ]
  },
  {
   "cell_type": "code",
   "execution_count": 168,
   "id": "0af2fd6e",
   "metadata": {},
   "outputs": [
    {
     "data": {
      "text/html": [
       "<div>\n",
       "<style scoped>\n",
       "    .dataframe tbody tr th:only-of-type {\n",
       "        vertical-align: middle;\n",
       "    }\n",
       "\n",
       "    .dataframe tbody tr th {\n",
       "        vertical-align: top;\n",
       "    }\n",
       "\n",
       "    .dataframe thead th {\n",
       "        text-align: right;\n",
       "    }\n",
       "</style>\n",
       "<table border=\"1\" class=\"dataframe\">\n",
       "  <thead>\n",
       "    <tr style=\"text-align: right;\">\n",
       "      <th></th>\n",
       "      <th>FileID</th>\n",
       "      <th>Dominant_Topic</th>\n",
       "      <th>Topic_Perc_Contribution</th>\n",
       "      <th>Topic_keywords</th>\n",
       "      <th>Text</th>\n",
       "    </tr>\n",
       "  </thead>\n",
       "  <tbody>\n",
       "    <tr>\n",
       "      <th>3187</th>\n",
       "      <td>90985</td>\n",
       "      <td>0</td>\n",
       "      <td>0.587055</td>\n",
       "      <td>pain,give,chest,ekg,hr,deny,place,arrival,moni...</td>\n",
       "      <td>S:  STEMI activated in the ED at 1109.   B:  6...</td>\n",
       "    </tr>\n",
       "    <tr>\n",
       "      <th>7167</th>\n",
       "      <td>112867</td>\n",
       "      <td>1</td>\n",
       "      <td>0.640930</td>\n",
       "      <td>code,blue,pulse,cpr,start,intubation,intubate,...</td>\n",
       "      <td>Code Pink for prolapsed cord was called for 9t...</td>\n",
       "    </tr>\n",
       "    <tr>\n",
       "      <th>10606</th>\n",
       "      <td>133640</td>\n",
       "      <td>2</td>\n",
       "      <td>0.897460</td>\n",
       "      <td>call,pt,rrt,bedside,care,primary,icu,bed,arriv...</td>\n",
       "      <td>Rapid Response Note: S: RRT called on IMU in f...</td>\n",
       "    </tr>\n",
       "    <tr>\n",
       "      <th>8029</th>\n",
       "      <td>117780</td>\n",
       "      <td>3</td>\n",
       "      <td>0.555970</td>\n",
       "      <td>status,initiate,follow,primary,bedside,current...</td>\n",
       "      <td>S:  RRT initiated for seizure like activity, s...</td>\n",
       "    </tr>\n",
       "    <tr>\n",
       "      <th>7310</th>\n",
       "      <td>113670</td>\n",
       "      <td>4</td>\n",
       "      <td>0.731088</td>\n",
       "      <td>code,stroke,right,leave,transport,ct,head,side...</td>\n",
       "      <td>STROKE CODE NOTE S: Stroke code called for L s...</td>\n",
       "    </tr>\n",
       "    <tr>\n",
       "      <th>10795</th>\n",
       "      <td>134548</td>\n",
       "      <td>5</td>\n",
       "      <td>0.755673</td>\n",
       "      <td>blood,lab,bolus,draw,order,sepsis,send,hypoten...</td>\n",
       "      <td>Code sepsis called for rigors and tachycardia....</td>\n",
       "    </tr>\n",
       "  </tbody>\n",
       "</table>\n",
       "</div>"
      ],
      "text/plain": [
       "       FileID  Dominant_Topic  Topic_Perc_Contribution  \\\n",
       "3187    90985               0                 0.587055   \n",
       "7167   112867               1                 0.640930   \n",
       "10606  133640               2                 0.897460   \n",
       "8029   117780               3                 0.555970   \n",
       "7310   113670               4                 0.731088   \n",
       "10795  134548               5                 0.755673   \n",
       "\n",
       "                                          Topic_keywords  \\\n",
       "3187   pain,give,chest,ekg,hr,deny,place,arrival,moni...   \n",
       "7167   code,blue,pulse,cpr,start,intubation,intubate,...   \n",
       "10606  call,pt,rrt,bedside,care,primary,icu,bed,arriv...   \n",
       "8029   status,initiate,follow,primary,bedside,current...   \n",
       "7310   code,stroke,right,leave,transport,ct,head,side...   \n",
       "10795  blood,lab,bolus,draw,order,sepsis,send,hypoten...   \n",
       "\n",
       "                                                    Text  \n",
       "3187   S:  STEMI activated in the ED at 1109.   B:  6...  \n",
       "7167   Code Pink for prolapsed cord was called for 9t...  \n",
       "10606  Rapid Response Note: S: RRT called on IMU in f...  \n",
       "8029   S:  RRT initiated for seizure like activity, s...  \n",
       "7310   STROKE CODE NOTE S: Stroke code called for L s...  \n",
       "10795  Code sepsis called for rigors and tachycardia....  "
      ]
     },
     "execution_count": 168,
     "metadata": {},
     "output_type": "execute_result"
    }
   ],
   "source": [
    "df_topic_sents_keywords.loc[df_topic_sents_keywords.groupby([\"Dominant_Topic\"])[\"Topic_Perc_Contribution\"].idxmax()] "
   ]
  },
  {
   "cell_type": "code",
   "execution_count": null,
   "id": "0c03ec32",
   "metadata": {},
   "outputs": [],
   "source": []
  }
 ],
 "metadata": {
  "kernelspec": {
   "display_name": "Python 3 (ipykernel)",
   "language": "python",
   "name": "python3"
  },
  "language_info": {
   "codemirror_mode": {
    "name": "ipython",
    "version": 3
   },
   "file_extension": ".py",
   "mimetype": "text/x-python",
   "name": "python",
   "nbconvert_exporter": "python",
   "pygments_lexer": "ipython3",
   "version": "3.9.12"
  }
 },
 "nbformat": 4,
 "nbformat_minor": 5
}
