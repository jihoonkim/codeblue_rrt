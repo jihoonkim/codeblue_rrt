{
 "cells": [
  {
   "cell_type": "code",
   "execution_count": 2,
   "id": "fdca876e",
   "metadata": {},
   "outputs": [],
   "source": [
    "# load libraries\n",
    "from sklearn.feature_extraction.text import TfidfVectorizer,CountVectorizer\n",
    "import pandas as pd"
   ]
  },
  {
   "cell_type": "code",
   "execution_count": 3,
   "id": "2af92ec1",
   "metadata": {},
   "outputs": [],
   "source": [
    "# load train and test datasets\n",
    "train = ['The sky is blue.','The sun is bright.']\n",
    "test = ['The sun in the sky is bright', 'We can see the shining sun, the bright sun.']"
   ]
  },
  {
   "cell_type": "code",
   "execution_count": 4,
   "id": "44d800b1",
   "metadata": {},
   "outputs": [],
   "source": [
    "# instantiate the vectorizer object\n",
    "countvectorizer = CountVectorizer(analyzer='word', stop_words='english')\n",
    "tfidfvectorizer = TfidfVectorizer(analyzer='word', stop_words='english')"
   ]
  },
  {
   "cell_type": "code",
   "execution_count": 7,
   "id": "9e20d7ba",
   "metadata": {},
   "outputs": [],
   "source": [
    "# convert the documents into a matrix\n",
    "count_wm = countvectorizer.fit_transform(train)\n",
    "tfidf_wm = tfidfvectorizer.fit_transform(train)"
   ]
  },
  {
   "cell_type": "code",
   "execution_count": 21,
   "id": "a436cb88",
   "metadata": {},
   "outputs": [],
   "source": [
    "terms = countvectorizer.fit_transform(train)\n",
    "term_vectors = countvectorizer.transform(test)"
   ]
  },
  {
   "cell_type": "code",
   "execution_count": 23,
   "id": "0bde9f52",
   "metadata": {},
   "outputs": [
    {
     "data": {
      "text/plain": [
       "matrix([[0, 1, 1, 1],\n",
       "        [0, 1, 0, 2]])"
      ]
     },
     "execution_count": 23,
     "metadata": {},
     "output_type": "execute_result"
    }
   ],
   "source": [
    "# display the sparse matrix form of test data\n",
    "term_vectors.todense()"
   ]
  },
  {
   "cell_type": "code",
   "execution_count": 13,
   "id": "da94c5bf",
   "metadata": {},
   "outputs": [],
   "source": [
    "# retrieve the terms found in the corpora\n",
    "count_tokens = countvectorizer.get_feature_names_out()\n",
    "tfidf_tokens = tfidfvectorizer.get_feature_names_out()"
   ]
  },
  {
   "cell_type": "code",
   "execution_count": 19,
   "id": "f3d3398e",
   "metadata": {},
   "outputs": [],
   "source": [
    "# create dataframe objects for neat display\n",
    "df_countvect = pd.DataFrame(data = count_wm.toarray(), \n",
    "                            index = ['Doc1', 'Doc2'], \n",
    "                            columns=count_tokens)\n",
    "df_tfidfvect = pd.DataFrame(data = tfidf_wm.toarray(),\n",
    "                           index = ['Doc1', 'Doc2'],\n",
    "                           columns=tfidf_tokens)"
   ]
  },
  {
   "cell_type": "code",
   "execution_count": 18,
   "id": "8a016647",
   "metadata": {
    "scrolled": true
   },
   "outputs": [
    {
     "data": {
      "text/html": [
       "<div>\n",
       "<style scoped>\n",
       "    .dataframe tbody tr th:only-of-type {\n",
       "        vertical-align: middle;\n",
       "    }\n",
       "\n",
       "    .dataframe tbody tr th {\n",
       "        vertical-align: top;\n",
       "    }\n",
       "\n",
       "    .dataframe thead th {\n",
       "        text-align: right;\n",
       "    }\n",
       "</style>\n",
       "<table border=\"1\" class=\"dataframe\">\n",
       "  <thead>\n",
       "    <tr style=\"text-align: right;\">\n",
       "      <th></th>\n",
       "      <th>blue</th>\n",
       "      <th>bright</th>\n",
       "      <th>sky</th>\n",
       "      <th>sun</th>\n",
       "    </tr>\n",
       "  </thead>\n",
       "  <tbody>\n",
       "    <tr>\n",
       "      <th>Doc1</th>\n",
       "      <td>1</td>\n",
       "      <td>0</td>\n",
       "      <td>1</td>\n",
       "      <td>0</td>\n",
       "    </tr>\n",
       "    <tr>\n",
       "      <th>Doc2</th>\n",
       "      <td>0</td>\n",
       "      <td>1</td>\n",
       "      <td>0</td>\n",
       "      <td>1</td>\n",
       "    </tr>\n",
       "  </tbody>\n",
       "</table>\n",
       "</div>"
      ],
      "text/plain": [
       "      blue  bright  sky  sun\n",
       "Doc1     1       0    1    0\n",
       "Doc2     0       1    0    1"
      ]
     },
     "execution_count": 18,
     "metadata": {},
     "output_type": "execute_result"
    }
   ],
   "source": [
    "df_countvect"
   ]
  },
  {
   "cell_type": "code",
   "execution_count": 20,
   "id": "8a817b65",
   "metadata": {},
   "outputs": [
    {
     "data": {
      "text/html": [
       "<div>\n",
       "<style scoped>\n",
       "    .dataframe tbody tr th:only-of-type {\n",
       "        vertical-align: middle;\n",
       "    }\n",
       "\n",
       "    .dataframe tbody tr th {\n",
       "        vertical-align: top;\n",
       "    }\n",
       "\n",
       "    .dataframe thead th {\n",
       "        text-align: right;\n",
       "    }\n",
       "</style>\n",
       "<table border=\"1\" class=\"dataframe\">\n",
       "  <thead>\n",
       "    <tr style=\"text-align: right;\">\n",
       "      <th></th>\n",
       "      <th>blue</th>\n",
       "      <th>bright</th>\n",
       "      <th>sky</th>\n",
       "      <th>sun</th>\n",
       "    </tr>\n",
       "  </thead>\n",
       "  <tbody>\n",
       "    <tr>\n",
       "      <th>Doc1</th>\n",
       "      <td>0.707107</td>\n",
       "      <td>0.000000</td>\n",
       "      <td>0.707107</td>\n",
       "      <td>0.000000</td>\n",
       "    </tr>\n",
       "    <tr>\n",
       "      <th>Doc2</th>\n",
       "      <td>0.000000</td>\n",
       "      <td>0.707107</td>\n",
       "      <td>0.000000</td>\n",
       "      <td>0.707107</td>\n",
       "    </tr>\n",
       "  </tbody>\n",
       "</table>\n",
       "</div>"
      ],
      "text/plain": [
       "          blue    bright       sky       sun\n",
       "Doc1  0.707107  0.000000  0.707107  0.000000\n",
       "Doc2  0.000000  0.707107  0.000000  0.707107"
      ]
     },
     "execution_count": 20,
     "metadata": {},
     "output_type": "execute_result"
    }
   ],
   "source": [
    "df_tfidfvect"
   ]
  },
  {
   "cell_type": "code",
   "execution_count": null,
   "id": "6c55d9ea",
   "metadata": {},
   "outputs": [],
   "source": []
  }
 ],
 "metadata": {
  "kernelspec": {
   "display_name": "Python 3 (ipykernel)",
   "language": "python",
   "name": "python3"
  },
  "language_info": {
   "codemirror_mode": {
    "name": "ipython",
    "version": 3
   },
   "file_extension": ".py",
   "mimetype": "text/x-python",
   "name": "python",
   "nbconvert_exporter": "python",
   "pygments_lexer": "ipython3",
   "version": "3.9.12"
  }
 },
 "nbformat": 4,
 "nbformat_minor": 5
}
