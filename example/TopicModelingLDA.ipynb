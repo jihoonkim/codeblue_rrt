{
 "cells": [
  {
   "cell_type": "markdown",
   "id": "480e7630",
   "metadata": {},
   "source": [
    "### source: https://towardsdatascience.com/topic-modeling-and-latent-dirichlet-allocation-in-python-9bf156893c24"
   ]
  },
  {
   "cell_type": "code",
   "execution_count": 1,
   "id": "685ca569",
   "metadata": {},
   "outputs": [],
   "source": [
    "import pandas as pd"
   ]
  },
  {
   "cell_type": "markdown",
   "id": "64ebe30b",
   "metadata": {},
   "source": [
    "### Load data"
   ]
  },
  {
   "cell_type": "code",
   "execution_count": 10,
   "id": "ac712bc2",
   "metadata": {},
   "outputs": [],
   "source": [
    "# load 1M+ newspaper headlines dataset from Kaggle\n",
    "data = pd.read_csv('../data/abcnews-date-text.csv', on_bad_lines='skip')\n",
    "data_text = data[['headline_text']]\n",
    "data_text['index'] = data_text.index\n",
    "documents = data_text"
   ]
  },
  {
   "cell_type": "markdown",
   "id": "e2f88df1",
   "metadata": {},
   "source": [
    "### Data pre-processing"
   ]
  },
  {
   "cell_type": "code",
   "execution_count": 15,
   "id": "deb09b5d",
   "metadata": {},
   "outputs": [],
   "source": [
    "import gensim\n",
    "from gensim.utils import simple_preprocess\n",
    "from gensim.parsing.preprocessing import STOPWORDS\n",
    "from nltk.stem import WordNetLemmatizer, SnowballStemmer\n",
    "from nltk.stem.porter import *\n",
    "import numpy as np\n",
    "np.random.seed(2018)\n",
    "\n",
    "import nltk"
   ]
  },
  {
   "cell_type": "code",
   "execution_count": 18,
   "id": "cdd04dc9",
   "metadata": {},
   "outputs": [],
   "source": [
    "def lemmatize_stemming(text):\n",
    "    stemmer = PorterStemmer()\n",
    "    return stemmer.stem(WordNetLemmatizer().lemmatize(text, pos='v'))\n",
    "\n",
    "def preprocess(text):\n",
    "    result = []\n",
    "    for token in gensim.utils.simple_preprocess(text):\n",
    "        if token not in gensim.parsing.preprocessing.STOPWORDS and len(token) > 3:\n",
    "            result.append(lemmatize_stemming(token))\n",
    "    \n",
    "    return result"
   ]
  },
  {
   "cell_type": "code",
   "execution_count": 19,
   "id": "9295a533",
   "metadata": {},
   "outputs": [
    {
     "name": "stdout",
     "output_type": "stream",
     "text": [
      "['ratepayers', 'group', 'wants', 'compulsory', 'local', 'govt', 'voting']\n",
      "\n",
      "\n",
      " tokenized and lemmatized document: \n",
      "['ratepay', 'group', 'want', 'compulsori', 'local', 'govt', 'vote']\n"
     ]
    }
   ],
   "source": [
    "doc_sample = documents[documents['index'] == 4310].values[0][0]\n",
    "\n",
    "words = []\n",
    "for word in doc_sample.split(' '):\n",
    "    words.append(word)\n",
    "print(words)\n",
    "print('\\n\\n tokenized and lemmatized document: ')\n",
    "print(preprocess(doc_sample))"
   ]
  },
  {
   "cell_type": "code",
   "execution_count": 21,
   "id": "c484cabb",
   "metadata": {},
   "outputs": [
    {
     "data": {
      "text/plain": [
       "0               [decid, commun, broadcast, licenc]\n",
       "1                               [wit, awar, defam]\n",
       "2           [call, infrastructur, protect, summit]\n",
       "3                      [staff, aust, strike, rise]\n",
       "4             [strike, affect, australian, travel]\n",
       "5               [ambiti, olsson, win, tripl, jump]\n",
       "6           [antic, delight, record, break, barca]\n",
       "7    [aussi, qualifi, stosur, wast, memphi, match]\n",
       "8            [aust, address, secur, council, iraq]\n",
       "9                         [australia, lock, timet]\n",
       "Name: headline_text, dtype: object"
      ]
     },
     "execution_count": 21,
     "metadata": {},
     "output_type": "execute_result"
    }
   ],
   "source": [
    "processed_docs = documents['headline_text'].map(preprocess)\n",
    "processed_docs[:10]"
   ]
  },
  {
   "cell_type": "markdown",
   "id": "250cba62",
   "metadata": {},
   "source": [
    "### Bag-of-Words (BOW) on the dataset"
   ]
  },
  {
   "cell_type": "code",
   "execution_count": 26,
   "id": "f14dad03",
   "metadata": {},
   "outputs": [
    {
     "name": "stdout",
     "output_type": "stream",
     "text": [
      "0 broadcast\n",
      "1 commun\n",
      "2 decid\n",
      "3 licenc\n",
      "4 awar\n",
      "5 defam\n",
      "6 wit\n",
      "7 call\n",
      "8 infrastructur\n",
      "9 protect\n",
      "10 summit\n"
     ]
    }
   ],
   "source": [
    "dictionary = gensim.corpora.Dictionary(processed_docs)\n",
    "\n",
    "count = 0\n",
    "for k, v in dictionary.iteritems():\n",
    "    print(k, v)\n",
    "    count += 1\n",
    "    if count > 10:\n",
    "        break"
   ]
  },
  {
   "cell_type": "code",
   "execution_count": 27,
   "id": "22adfc88",
   "metadata": {},
   "outputs": [],
   "source": [
    "## filter out totkens that appear in\n",
    "##   less than 15 documents\n",
    "##   more than 0.5 documents\n",
    "## keep only the first 100K most frequent tokens\n",
    "dictionary.filter_extremes(no_below=15, no_above=0.5, keep_n=100000)"
   ]
  },
  {
   "cell_type": "code",
   "execution_count": 28,
   "id": "a71596f7",
   "metadata": {},
   "outputs": [
    {
     "data": {
      "text/plain": [
       "[(162, 1), (240, 1), (292, 1), (589, 1), (839, 1), (3578, 1), (3579, 1)]"
      ]
     },
     "execution_count": 28,
     "metadata": {},
     "output_type": "execute_result"
    }
   ],
   "source": [
    "## gendim doc2bow\n",
    "bow_corpus = [dictionary.doc2bow(d) for d in processed_docs]\n",
    "bow_corpus[4310]"
   ]
  },
  {
   "cell_type": "code",
   "execution_count": 30,
   "id": "9a0fb8e6",
   "metadata": {},
   "outputs": [
    {
     "name": "stdout",
     "output_type": "stream",
     "text": [
      "Word 162 (\"govt\") appears 1 time.\n",
      "Word 240 (\"group\") appears 1 time.\n",
      "Word 292 (\"vote\") appears 1 time.\n",
      "Word 589 (\"local\") appears 1 time.\n",
      "Word 839 (\"want\") appears 1 time.\n",
      "Word 3578 (\"compulsori\") appears 1 time.\n",
      "Word 3579 (\"ratepay\") appears 1 time.\n"
     ]
    }
   ],
   "source": [
    "## display example BOW of for a particular document 4310\n",
    "bow_doc_4310 = bow_corpus[4310]\n",
    "for i in range(len(bow_doc_4310)):\n",
    "    print(\"Word {} (\\\"{}\\\") appears {} time.\".format(bow_doc_4310[i][0],\n",
    "          dictionary[bow_doc_4310[i][0]],\n",
    "          bow_doc_4310[i][1])\n",
    "         )\n",
    "    \n",
    "def "
   ]
  },
  {
   "cell_type": "markdown",
   "id": "eab1d186",
   "metadata": {},
   "source": [
    "### TF-IDF"
   ]
  },
  {
   "cell_type": "code",
   "execution_count": 35,
   "id": "63b32552",
   "metadata": {},
   "outputs": [],
   "source": [
    "from gensim import corpora, models\n",
    "\n",
    "tfidf = models.TfidfModel(bow_corpus)\n",
    "corpus_tfidf = tfidf[bow_corpus]\n",
    "\n",
    "corpus_tfidf[0]"
   ]
  },
  {
   "cell_type": "code",
   "execution_count": 39,
   "id": "14d51b9b",
   "metadata": {},
   "outputs": [
    {
     "data": {
      "text/plain": [
       "[(0, 1), (1, 1), (2, 1), (3, 1)]"
      ]
     },
     "execution_count": 39,
     "metadata": {},
     "output_type": "execute_result"
    }
   ],
   "source": [
    "bow_corpus[0]"
   ]
  },
  {
   "cell_type": "markdown",
   "id": "6c6036f0",
   "metadata": {},
   "source": [
    "## LDA model using BOW"
   ]
  },
  {
   "cell_type": "code",
   "execution_count": 40,
   "id": "1c50063f",
   "metadata": {},
   "outputs": [],
   "source": [
    "lda_model = gensim.models.LdaMulticore(bow_corpus, num_topics=10,\n",
    "                                      id2word=dictionary, passes=2, workers=8)"
   ]
  },
  {
   "cell_type": "code",
   "execution_count": 42,
   "id": "57e1cbf6",
   "metadata": {},
   "outputs": [
    {
     "name": "stdout",
     "output_type": "stream",
     "text": [
      "Topic: 0 \n",
      "Words: 0.031*\"interview\" + 0.026*\"market\" + 0.022*\"kill\" + 0.016*\"donald\" + 0.014*\"hous\" + 0.013*\"share\" + 0.012*\"bank\" + 0.011*\"rise\" + 0.009*\"india\" + 0.008*\"drop\"\n",
      "Topic: 1 \n",
      "Words: 0.054*\"polic\" + 0.031*\"sydney\" + 0.016*\"shoot\" + 0.016*\"investig\" + 0.015*\"price\" + 0.014*\"melbourn\" + 0.014*\"break\" + 0.013*\"protest\" + 0.011*\"arrest\" + 0.010*\"fall\"\n",
      "Topic: 2 \n",
      "Words: 0.022*\"miss\" + 0.019*\"countri\" + 0.015*\"speak\" + 0.014*\"search\" + 0.014*\"hour\" + 0.011*\"parti\" + 0.011*\"bodi\" + 0.011*\"media\" + 0.011*\"busi\" + 0.010*\"final\"\n",
      "Topic: 3 \n",
      "Words: 0.029*\"australia\" + 0.020*\"world\" + 0.015*\"open\" + 0.015*\"australian\" + 0.014*\"win\" + 0.011*\"take\" + 0.009*\"beat\" + 0.007*\"season\" + 0.007*\"farmer\" + 0.007*\"final\"\n",
      "Topic: 4 \n",
      "Words: 0.020*\"trump\" + 0.019*\"school\" + 0.013*\"bushfir\" + 0.011*\"rural\" + 0.011*\"green\" + 0.010*\"guilti\" + 0.010*\"student\" + 0.010*\"report\" + 0.010*\"centr\" + 0.009*\"fund\"\n",
      "Topic: 5 \n",
      "Words: 0.029*\"elect\" + 0.019*\"live\" + 0.015*\"news\" + 0.014*\"farm\" + 0.013*\"nation\" + 0.011*\"coronaviru\" + 0.011*\"victorian\" + 0.009*\"budget\" + 0.009*\"say\" + 0.009*\"cost\"\n",
      "Topic: 6 \n",
      "Words: 0.028*\"charg\" + 0.028*\"court\" + 0.022*\"murder\" + 0.019*\"face\" + 0.017*\"case\" + 0.016*\"jail\" + 0.015*\"accus\" + 0.013*\"trial\" + 0.013*\"drug\" + 0.013*\"test\"\n",
      "Topic: 7 \n",
      "Words: 0.024*\"queensland\" + 0.019*\"coast\" + 0.017*\"coronaviru\" + 0.017*\"victoria\" + 0.016*\"south\" + 0.014*\"flood\" + 0.013*\"tasmania\" + 0.013*\"north\" + 0.013*\"west\" + 0.012*\"gold\"\n",
      "Topic: 8 \n",
      "Words: 0.014*\"fight\" + 0.013*\"say\" + 0.013*\"talk\" + 0.011*\"train\" + 0.010*\"deal\" + 0.010*\"china\" + 0.010*\"australian\" + 0.010*\"royal\" + 0.009*\"leader\" + 0.009*\"australia\"\n",
      "Topic: 9 \n",
      "Words: 0.019*\"council\" + 0.018*\"chang\" + 0.018*\"crash\" + 0.017*\"plan\" + 0.015*\"health\" + 0.015*\"govern\" + 0.014*\"hospit\" + 0.012*\"water\" + 0.009*\"park\" + 0.009*\"group\"\n"
     ]
    }
   ],
   "source": [
    "# explore the words occurring in that topic and its relative weight\n",
    "for idx, topic in lda_model.print_topics(-1):\n",
    "    print('Topic: {} \\nWords: {}'.format(idx, topic))"
   ]
  },
  {
   "cell_type": "markdown",
   "id": "d35e2f87",
   "metadata": {},
   "source": [
    "### LDA model using TF-IDF"
   ]
  },
  {
   "cell_type": "code",
   "execution_count": 48,
   "id": "b8785e9d",
   "metadata": {},
   "outputs": [],
   "source": [
    "lda_model_tfidf = gensim.models.LdaMulticore(corpus_tfidf,\n",
    "                                            num_topics=10, id2word=dictionary, passes=2, \n",
    "                                             workers=8)"
   ]
  },
  {
   "cell_type": "code",
   "execution_count": 49,
   "id": "eb1a53f0",
   "metadata": {},
   "outputs": [
    {
     "name": "stdout",
     "output_type": "stream",
     "text": [
      "Topic 0 Word: 0.019*\"news\" + 0.012*\"rural\" + 0.012*\"weather\" + 0.009*\"climat\" + 0.008*\"monday\" + 0.007*\"nation\" + 0.007*\"turnbul\" + 0.006*\"farm\" + 0.006*\"chang\" + 0.006*\"august\"\n",
      "Topic 1 Word: 0.011*\"australia\" + 0.008*\"world\" + 0.008*\"coronaviru\" + 0.007*\"covid\" + 0.007*\"test\" + 0.007*\"live\" + 0.007*\"australian\" + 0.006*\"thursday\" + 0.006*\"market\" + 0.005*\"cricket\"\n",
      "Topic 2 Word: 0.019*\"charg\" + 0.016*\"murder\" + 0.015*\"court\" + 0.011*\"polic\" + 0.010*\"jail\" + 0.009*\"accus\" + 0.009*\"assault\" + 0.009*\"guilti\" + 0.009*\"alleg\" + 0.008*\"sentenc\"\n",
      "Topic 3 Word: 0.016*\"countri\" + 0.013*\"hour\" + 0.009*\"price\" + 0.007*\"rise\" + 0.007*\"wall\" + 0.006*\"dairi\" + 0.006*\"dollar\" + 0.005*\"street\" + 0.005*\"rat\" + 0.005*\"lockdown\"\n",
      "Topic 4 Word: 0.009*\"health\" + 0.007*\"drought\" + 0.006*\"fund\" + 0.006*\"queensland\" + 0.006*\"bushfir\" + 0.006*\"christma\" + 0.006*\"tuesday\" + 0.006*\"coronaviru\" + 0.006*\"farmer\" + 0.006*\"mental\"\n",
      "Topic 5 Word: 0.008*\"sport\" + 0.008*\"elect\" + 0.007*\"friday\" + 0.007*\"wednesday\" + 0.005*\"june\" + 0.005*\"minist\" + 0.004*\"govern\" + 0.004*\"council\" + 0.004*\"plan\" + 0.004*\"remov\"\n",
      "Topic 6 Word: 0.019*\"trump\" + 0.011*\"donald\" + 0.008*\"coronaviru\" + 0.007*\"china\" + 0.006*\"australia\" + 0.006*\"korea\" + 0.006*\"say\" + 0.005*\"asylum\" + 0.005*\"scott\" + 0.005*\"north\"\n",
      "Topic 7 Word: 0.012*\"drum\" + 0.008*\"royal\" + 0.008*\"commiss\" + 0.007*\"michael\" + 0.006*\"liber\" + 0.005*\"abbott\" + 0.005*\"octob\" + 0.005*\"say\" + 0.004*\"georg\" + 0.004*\"mount\"\n",
      "Topic 8 Word: 0.016*\"polic\" + 0.016*\"crash\" + 0.012*\"kill\" + 0.011*\"interview\" + 0.009*\"woman\" + 0.009*\"die\" + 0.009*\"shoot\" + 0.008*\"dead\" + 0.008*\"death\" + 0.007*\"fatal\"\n",
      "Topic 9 Word: 0.007*\"david\" + 0.005*\"great\" + 0.005*\"age\" + 0.005*\"care\" + 0.005*\"firefight\" + 0.004*\"biden\" + 0.004*\"carbon\" + 0.004*\"social\" + 0.004*\"obama\" + 0.004*\"johnson\"\n"
     ]
    }
   ],
   "source": [
    "for idx, topic in lda_model_tfidf.print_topics(-1):\n",
    "    print('Topic {} Word: {}'.format(idx, topic))"
   ]
  },
  {
   "cell_type": "code",
   "execution_count": 50,
   "id": "14979a5f",
   "metadata": {},
   "outputs": [
    {
     "data": {
      "text/plain": [
       "['ratepay', 'group', 'want', 'compulsori', 'local', 'govt', 'vote']"
      ]
     },
     "execution_count": 50,
     "metadata": {},
     "output_type": "execute_result"
    }
   ],
   "source": [
    "processed_docs[4310]"
   ]
  },
  {
   "cell_type": "code",
   "execution_count": 53,
   "id": "d3e71e14",
   "metadata": {},
   "outputs": [
    {
     "name": "stdout",
     "output_type": "stream",
     "text": [
      "\n",
      "Score: 0.4588412940502167\t \n",
      "Topic: 0.008*\"sport\" + 0.008*\"elect\" + 0.007*\"friday\" + 0.007*\"wednesday\" + 0.005*\"june\" + 0.005*\"minist\" + 0.004*\"govern\" + 0.004*\"council\" + 0.004*\"plan\" + 0.004*\"remov\"\n",
      "\n",
      "Score: 0.25465720891952515\t \n",
      "Topic: 0.016*\"countri\" + 0.013*\"hour\" + 0.009*\"price\" + 0.007*\"rise\" + 0.007*\"wall\" + 0.006*\"dairi\" + 0.006*\"dollar\" + 0.005*\"street\" + 0.005*\"rat\" + 0.005*\"lockdown\"\n",
      "\n",
      "Score: 0.19895096123218536\t \n",
      "Topic: 0.011*\"australia\" + 0.008*\"world\" + 0.008*\"coronaviru\" + 0.007*\"covid\" + 0.007*\"test\" + 0.007*\"live\" + 0.007*\"australian\" + 0.006*\"thursday\" + 0.006*\"market\" + 0.005*\"cricket\"\n",
      "\n",
      "Score: 0.012509157881140709\t \n",
      "Topic: 0.012*\"drum\" + 0.008*\"royal\" + 0.008*\"commiss\" + 0.007*\"michael\" + 0.006*\"liber\" + 0.005*\"abbott\" + 0.005*\"octob\" + 0.005*\"say\" + 0.004*\"georg\" + 0.004*\"mount\"\n",
      "\n",
      "Score: 0.012508533895015717\t \n",
      "Topic: 0.009*\"health\" + 0.007*\"drought\" + 0.006*\"fund\" + 0.006*\"queensland\" + 0.006*\"bushfir\" + 0.006*\"christma\" + 0.006*\"tuesday\" + 0.006*\"coronaviru\" + 0.006*\"farmer\" + 0.006*\"mental\"\n",
      "\n",
      "Score: 0.012507340870797634\t \n",
      "Topic: 0.007*\"david\" + 0.005*\"great\" + 0.005*\"age\" + 0.005*\"care\" + 0.005*\"firefight\" + 0.004*\"biden\" + 0.004*\"carbon\" + 0.004*\"social\" + 0.004*\"obama\" + 0.004*\"johnson\"\n",
      "\n",
      "Score: 0.012506912462413311\t \n",
      "Topic: 0.019*\"news\" + 0.012*\"rural\" + 0.012*\"weather\" + 0.009*\"climat\" + 0.008*\"monday\" + 0.007*\"nation\" + 0.007*\"turnbul\" + 0.006*\"farm\" + 0.006*\"chang\" + 0.006*\"august\"\n",
      "\n",
      "Score: 0.012506912462413311\t \n",
      "Topic: 0.019*\"trump\" + 0.011*\"donald\" + 0.008*\"coronaviru\" + 0.007*\"china\" + 0.006*\"australia\" + 0.006*\"korea\" + 0.006*\"say\" + 0.005*\"asylum\" + 0.005*\"scott\" + 0.005*\"north\"\n",
      "\n",
      "Score: 0.012506063096225262\t \n",
      "Topic: 0.019*\"charg\" + 0.016*\"murder\" + 0.015*\"court\" + 0.011*\"polic\" + 0.010*\"jail\" + 0.009*\"accus\" + 0.009*\"assault\" + 0.009*\"guilti\" + 0.009*\"alleg\" + 0.008*\"sentenc\"\n",
      "\n",
      "Score: 0.012505613267421722\t \n",
      "Topic: 0.016*\"polic\" + 0.016*\"crash\" + 0.012*\"kill\" + 0.011*\"interview\" + 0.009*\"woman\" + 0.009*\"die\" + 0.009*\"shoot\" + 0.008*\"dead\" + 0.008*\"death\" + 0.007*\"fatal\"\n"
     ]
    }
   ],
   "source": [
    "for index, score in sorted(lda_model_tfidf[bow_corpus[4310]], key=lambda tup: -1*tup[1]):\n",
    "    print(\"\\nScore: {}\\t \\nTopic: {}\".format(score, lda_model_tfidf.print_topic(index, 10)))"
   ]
  },
  {
   "cell_type": "markdown",
   "id": "fddaea1a",
   "metadata": {},
   "source": [
    "### Testing model on unseen document"
   ]
  },
  {
   "cell_type": "code",
   "execution_count": 54,
   "id": "f26c8872",
   "metadata": {},
   "outputs": [],
   "source": [
    "unseen_document = 'How a Pentagon deal became an identity crisis for Google'\n",
    "bow_vector = dictionary.doc2bow(preprocess(unseen_document))"
   ]
  },
  {
   "cell_type": "code",
   "execution_count": 55,
   "id": "1c419e05",
   "metadata": {},
   "outputs": [
    {
     "name": "stdout",
     "output_type": "stream",
     "text": [
      "Score: 0.3395603895187378\t Topic: 0.014*\"fight\" + 0.013*\"say\" + 0.013*\"talk\" + 0.011*\"train\" + 0.010*\"deal\"\n",
      "Score: 0.19379742443561554\t Topic: 0.022*\"miss\" + 0.019*\"countri\" + 0.015*\"speak\" + 0.014*\"search\" + 0.014*\"hour\"\n",
      "Score: 0.18580032885074615\t Topic: 0.024*\"queensland\" + 0.019*\"coast\" + 0.017*\"coronaviru\" + 0.017*\"victoria\" + 0.016*\"south\"\n",
      "Score: 0.18076707422733307\t Topic: 0.031*\"interview\" + 0.026*\"market\" + 0.022*\"kill\" + 0.016*\"donald\" + 0.014*\"hous\"\n",
      "Score: 0.01667989231646061\t Topic: 0.020*\"trump\" + 0.019*\"school\" + 0.013*\"bushfir\" + 0.011*\"rural\" + 0.011*\"green\"\n",
      "Score: 0.016679152846336365\t Topic: 0.019*\"council\" + 0.018*\"chang\" + 0.018*\"crash\" + 0.017*\"plan\" + 0.015*\"health\"\n",
      "Score: 0.016679013147950172\t Topic: 0.054*\"polic\" + 0.031*\"sydney\" + 0.016*\"shoot\" + 0.016*\"investig\" + 0.015*\"price\"\n",
      "Score: 0.01667892374098301\t Topic: 0.029*\"australia\" + 0.020*\"world\" + 0.015*\"open\" + 0.015*\"australian\" + 0.014*\"win\"\n",
      "Score: 0.01667892187833786\t Topic: 0.029*\"elect\" + 0.019*\"live\" + 0.015*\"news\" + 0.014*\"farm\" + 0.013*\"nation\"\n",
      "Score: 0.01667892001569271\t Topic: 0.028*\"charg\" + 0.028*\"court\" + 0.022*\"murder\" + 0.019*\"face\" + 0.017*\"case\"\n"
     ]
    }
   ],
   "source": [
    "for index, score in sorted(lda_model[bow_vector], key=lambda tup: -1*tup[1]):\n",
    "    print(\"Score: {}\\t Topic: {}\".format(score, lda_model.print_topic(index, 5)))"
   ]
  },
  {
   "cell_type": "code",
   "execution_count": null,
   "id": "e1a2bf05",
   "metadata": {},
   "outputs": [],
   "source": []
  }
 ],
 "metadata": {
  "kernelspec": {
   "display_name": "Python 3 (ipykernel)",
   "language": "python",
   "name": "python3"
  },
  "language_info": {
   "codemirror_mode": {
    "name": "ipython",
    "version": 3
   },
   "file_extension": ".py",
   "mimetype": "text/x-python",
   "name": "python",
   "nbconvert_exporter": "python",
   "pygments_lexer": "ipython3",
   "version": "3.9.12"
  }
 },
 "nbformat": 4,
 "nbformat_minor": 5
}
